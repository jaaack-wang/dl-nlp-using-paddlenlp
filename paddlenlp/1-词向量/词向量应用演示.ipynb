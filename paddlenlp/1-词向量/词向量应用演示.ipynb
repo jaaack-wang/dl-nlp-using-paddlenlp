{
 "cells": [
  {
   "cell_type": "markdown",
   "metadata": {},
   "source": [
    "# 作业\n",
    "\n",
    "更换TokenEmbedding预训练模型，使用VisualDL查看相应的TokenEmbedding可视化效果，并尝试更换后的TokenEmbedding计算句对语义相似度。\n",
    "本作业详细步骤，可参考[Day01作业教程](https://github.com/PaddlePaddle/PaddleNLP/tree/develop/education/day01.md)，记得star PaddleNLP，收藏起来，随时跟进最新功能噢。\n",
    "\n",
    "**作业结果提交**：\n",
    "1. 截图提交可视化结果（图片注明作业可视化结果）。\n",
    "2. 通篇执行每段代码，并保留执行结果。"
   ]
  },
  {
   "cell_type": "markdown",
   "metadata": {},
   "source": [
    "可视化结果1\n",
    "![](https://ai-studio-static-online.cdn.bcebos.com/aa189ff79683410aab82128e25284f1016b34152dbe44ba18cb966c4a4f66511)\n",
    "可视化结果2\n",
    "![](https://ai-studio-static-online.cdn.bcebos.com/be88b625fbae4d63bdd3f1cd95938e43c9b799589d2149229168ff997d08563c)\n"
   ]
  },
  {
   "cell_type": "markdown",
   "metadata": {},
   "source": [
    "# PaddleNLP词向量应用展示\n",
    "\n",
    "6.7日NLP直播打卡课开始啦\n",
    "\n",
    "**[直播链接请戳这里，每晚20:00-21:30👈](http://live.bilibili.com/21689802)**\n",
    "\n",
    "**[课程地址请戳这里👈](https://aistudio.baidu.com/aistudio/course/introduce/24177)**\n",
    "\n",
    "欢迎来课程**QQ群**（群号:618354318）交流吧~~\n",
    "\n",
    "\n",
    "词向量（Word embedding），即把词语表示成实数向量。“好”的词向量能体现词语直接的相近关系。词向量已经被证明可以提高NLP任务的性能，例如语法分析和情感分析。\n",
    "\n",
    "<p align=\"center\">\n",
    "<img src=\"https://ai-studio-static-online.cdn.bcebos.com/54878855b1df42f9ab50b280d76906b1e0175f280b0f4a2193a542c72634a9bf\" width=\"60%\" height=\"50%\"> <br />\n",
    "</p>\n",
    "<br><center>图1：词向量示意图</center></br>\n",
    "\n",
    "PaddleNLP已预置多个公开的预训练Embedding，您可以通过使用`paddlenlp.embeddings.TokenEmbedding`接口加载预训练Embedding，从而提升训练效果。本篇教程将依次介绍`paddlenlp.embeddings.TokenEmbedding`的初始化和文本表示效果，并通过文本分类训练的例子展示其对训练提升的效果。"
   ]
  },
  {
   "cell_type": "code",
   "execution_count": 8,
   "metadata": {},
   "outputs": [
    {
     "name": "stdout",
     "output_type": "stream",
     "text": [
      "Requirement already satisfied: paddlenlp in /Library/Frameworks/Python.framework/Versions/3.8/lib/python3.8/site-packages (2.0.2)\n",
      "Requirement already satisfied: seqeval in /Library/Frameworks/Python.framework/Versions/3.8/lib/python3.8/site-packages (from paddlenlp) (0.0.3)\n",
      "Requirement already satisfied: jieba in /Library/Frameworks/Python.framework/Versions/3.8/lib/python3.8/site-packages (from paddlenlp) (0.42.1)\n",
      "Requirement already satisfied: visualdl in /Library/Frameworks/Python.framework/Versions/3.8/lib/python3.8/site-packages (from paddlenlp) (2.2.0)\n",
      "Requirement already satisfied: colorlog in /Library/Frameworks/Python.framework/Versions/3.8/lib/python3.8/site-packages (from paddlenlp) (5.0.1)\n",
      "Requirement already satisfied: multiprocess in /Library/Frameworks/Python.framework/Versions/3.8/lib/python3.8/site-packages (from paddlenlp) (0.70.11.1)\n",
      "Requirement already satisfied: h5py in /Library/Frameworks/Python.framework/Versions/3.8/lib/python3.8/site-packages (from paddlenlp) (2.10.0)\n",
      "Requirement already satisfied: colorama in /Library/Frameworks/Python.framework/Versions/3.8/lib/python3.8/site-packages (from paddlenlp) (0.4.3)\n",
      "Requirement already satisfied: six in /Library/Frameworks/Python.framework/Versions/3.8/lib/python3.8/site-packages (from h5py->paddlenlp) (1.15.0)\n",
      "Requirement already satisfied: numpy>=1.7 in /Library/Frameworks/Python.framework/Versions/3.8/lib/python3.8/site-packages (from h5py->paddlenlp) (1.18.5)\n",
      "Requirement already satisfied: dill>=0.3.3 in /Library/Frameworks/Python.framework/Versions/3.8/lib/python3.8/site-packages (from multiprocess->paddlenlp) (0.3.3)\n",
      "Requirement already satisfied: bce-python-sdk in /Library/Frameworks/Python.framework/Versions/3.8/lib/python3.8/site-packages (from visualdl->paddlenlp) (0.8.60)\n",
      "Requirement already satisfied: matplotlib in /Library/Frameworks/Python.framework/Versions/3.8/lib/python3.8/site-packages (from visualdl->paddlenlp) (3.2.1)\n",
      "Requirement already satisfied: pre-commit in /Library/Frameworks/Python.framework/Versions/3.8/lib/python3.8/site-packages (from visualdl->paddlenlp) (2.13.0)\n",
      "Requirement already satisfied: flask>=1.1.1 in /Library/Frameworks/Python.framework/Versions/3.8/lib/python3.8/site-packages (from visualdl->paddlenlp) (2.0.1)\n",
      "Requirement already satisfied: protobuf>=3.11.0 in /Library/Frameworks/Python.framework/Versions/3.8/lib/python3.8/site-packages (from visualdl->paddlenlp) (3.13.0)\n",
      "Requirement already satisfied: shellcheck-py in /Library/Frameworks/Python.framework/Versions/3.8/lib/python3.8/site-packages (from visualdl->paddlenlp) (0.7.2.1)\n",
      "Requirement already satisfied: pandas in /Library/Frameworks/Python.framework/Versions/3.8/lib/python3.8/site-packages (from visualdl->paddlenlp) (1.0.3)\n",
      "Requirement already satisfied: requests in /Library/Frameworks/Python.framework/Versions/3.8/lib/python3.8/site-packages (from visualdl->paddlenlp) (2.24.0)\n",
      "Requirement already satisfied: Flask-Babel>=1.0.0 in /Library/Frameworks/Python.framework/Versions/3.8/lib/python3.8/site-packages (from visualdl->paddlenlp) (2.0.0)\n",
      "Requirement already satisfied: flake8>=3.7.9 in /Library/Frameworks/Python.framework/Versions/3.8/lib/python3.8/site-packages (from visualdl->paddlenlp) (3.9.2)\n",
      "Requirement already satisfied: Pillow>=7.0.0 in /Library/Frameworks/Python.framework/Versions/3.8/lib/python3.8/site-packages (from visualdl->paddlenlp) (7.1.2)\n",
      "Requirement already satisfied: pyflakes<2.4.0,>=2.3.0 in /Library/Frameworks/Python.framework/Versions/3.8/lib/python3.8/site-packages (from flake8>=3.7.9->visualdl->paddlenlp) (2.3.1)\n",
      "Requirement already satisfied: pycodestyle<2.8.0,>=2.7.0 in /Library/Frameworks/Python.framework/Versions/3.8/lib/python3.8/site-packages (from flake8>=3.7.9->visualdl->paddlenlp) (2.7.0)\n",
      "Requirement already satisfied: mccabe<0.7.0,>=0.6.0 in /Library/Frameworks/Python.framework/Versions/3.8/lib/python3.8/site-packages (from flake8>=3.7.9->visualdl->paddlenlp) (0.6.1)\n",
      "Requirement already satisfied: Werkzeug>=2.0 in /Library/Frameworks/Python.framework/Versions/3.8/lib/python3.8/site-packages (from flask>=1.1.1->visualdl->paddlenlp) (2.0.1)\n",
      "Requirement already satisfied: itsdangerous>=2.0 in /Library/Frameworks/Python.framework/Versions/3.8/lib/python3.8/site-packages (from flask>=1.1.1->visualdl->paddlenlp) (2.0.1)\n",
      "Requirement already satisfied: click>=7.1.2 in /Library/Frameworks/Python.framework/Versions/3.8/lib/python3.8/site-packages (from flask>=1.1.1->visualdl->paddlenlp) (7.1.2)\n",
      "Requirement already satisfied: Jinja2>=3.0 in /Library/Frameworks/Python.framework/Versions/3.8/lib/python3.8/site-packages (from flask>=1.1.1->visualdl->paddlenlp) (3.0.1)\n",
      "Requirement already satisfied: pytz in /Library/Frameworks/Python.framework/Versions/3.8/lib/python3.8/site-packages (from Flask-Babel>=1.0.0->visualdl->paddlenlp) (2020.1)\n",
      "Requirement already satisfied: Babel>=2.3 in /Library/Frameworks/Python.framework/Versions/3.8/lib/python3.8/site-packages (from Flask-Babel>=1.0.0->visualdl->paddlenlp) (2.9.0)\n",
      "Requirement already satisfied: MarkupSafe>=2.0 in /Library/Frameworks/Python.framework/Versions/3.8/lib/python3.8/site-packages (from Jinja2>=3.0->flask>=1.1.1->visualdl->paddlenlp) (2.0.1)\n",
      "Requirement already satisfied: setuptools in /Users/wzx/Library/Python/3.8/lib/python/site-packages (from protobuf>=3.11.0->visualdl->paddlenlp) (50.3.2)\n",
      "Requirement already satisfied: pycryptodome>=3.8.0 in /Library/Frameworks/Python.framework/Versions/3.8/lib/python3.8/site-packages (from bce-python-sdk->visualdl->paddlenlp) (3.10.1)\n",
      "Requirement already satisfied: future>=0.6.0 in /Library/Frameworks/Python.framework/Versions/3.8/lib/python3.8/site-packages (from bce-python-sdk->visualdl->paddlenlp) (0.18.2)\n",
      "Requirement already satisfied: cycler>=0.10 in /Library/Frameworks/Python.framework/Versions/3.8/lib/python3.8/site-packages (from matplotlib->visualdl->paddlenlp) (0.10.0)\n",
      "Requirement already satisfied: pyparsing!=2.0.4,!=2.1.2,!=2.1.6,>=2.0.1 in /Library/Frameworks/Python.framework/Versions/3.8/lib/python3.8/site-packages (from matplotlib->visualdl->paddlenlp) (2.4.7)\n",
      "Requirement already satisfied: kiwisolver>=1.0.1 in /Library/Frameworks/Python.framework/Versions/3.8/lib/python3.8/site-packages (from matplotlib->visualdl->paddlenlp) (1.2.0)\n",
      "Requirement already satisfied: python-dateutil>=2.1 in /Library/Frameworks/Python.framework/Versions/3.8/lib/python3.8/site-packages (from matplotlib->visualdl->paddlenlp) (2.8.1)\n",
      "Requirement already satisfied: toml in /Library/Frameworks/Python.framework/Versions/3.8/lib/python3.8/site-packages (from pre-commit->visualdl->paddlenlp) (0.10.1)\n",
      "Requirement already satisfied: virtualenv>=20.0.8 in /Library/Frameworks/Python.framework/Versions/3.8/lib/python3.8/site-packages (from pre-commit->visualdl->paddlenlp) (20.4.4)\n",
      "Requirement already satisfied: pyyaml>=5.1 in /Library/Frameworks/Python.framework/Versions/3.8/lib/python3.8/site-packages (from pre-commit->visualdl->paddlenlp) (5.3.1)\n",
      "Requirement already satisfied: cfgv>=2.0.0 in /Library/Frameworks/Python.framework/Versions/3.8/lib/python3.8/site-packages (from pre-commit->visualdl->paddlenlp) (3.3.0)\n",
      "Requirement already satisfied: nodeenv>=0.11.1 in /Library/Frameworks/Python.framework/Versions/3.8/lib/python3.8/site-packages (from pre-commit->visualdl->paddlenlp) (1.6.0)\n",
      "Requirement already satisfied: identify>=1.0.0 in /Library/Frameworks/Python.framework/Versions/3.8/lib/python3.8/site-packages (from pre-commit->visualdl->paddlenlp) (2.2.10)\n",
      "Requirement already satisfied: filelock<4,>=3.0.0 in /Library/Frameworks/Python.framework/Versions/3.8/lib/python3.8/site-packages (from virtualenv>=20.0.8->pre-commit->visualdl->paddlenlp) (3.0.12)\n",
      "Requirement already satisfied: distlib<1,>=0.3.1 in /Library/Frameworks/Python.framework/Versions/3.8/lib/python3.8/site-packages (from virtualenv>=20.0.8->pre-commit->visualdl->paddlenlp) (0.3.1)\n",
      "Requirement already satisfied: appdirs<2,>=1.4.3 in /Library/Frameworks/Python.framework/Versions/3.8/lib/python3.8/site-packages (from virtualenv>=20.0.8->pre-commit->visualdl->paddlenlp) (1.4.4)\n",
      "Requirement already satisfied: urllib3!=1.25.0,!=1.25.1,<1.26,>=1.21.1 in /Library/Frameworks/Python.framework/Versions/3.8/lib/python3.8/site-packages (from requests->visualdl->paddlenlp) (1.25.10)\n",
      "Requirement already satisfied: idna<3,>=2.5 in /Library/Frameworks/Python.framework/Versions/3.8/lib/python3.8/site-packages (from requests->visualdl->paddlenlp) (2.10)\n",
      "Requirement already satisfied: certifi>=2017.4.17 in /Library/Frameworks/Python.framework/Versions/3.8/lib/python3.8/site-packages (from requests->visualdl->paddlenlp) (2020.6.20)\n",
      "Requirement already satisfied: chardet<4,>=3.0.2 in /Library/Frameworks/Python.framework/Versions/3.8/lib/python3.8/site-packages (from requests->visualdl->paddlenlp) (3.0.4)\n"
     ]
    },
    {
     "name": "stdout",
     "output_type": "stream",
     "text": [
      "\u001b[33mWARNING: You are using pip version 21.0.1; however, version 21.1.2 is available.\r\n",
      "You should consider upgrading via the '/Library/Frameworks/Python.framework/Versions/3.8/bin/python3 -m pip install --upgrade pip' command.\u001b[0m\r\n"
     ]
    }
   ],
   "source": [
    "!pip install --upgrade paddlenlp -i https://pypi.org/simple"
   ]
  },
  {
   "cell_type": "markdown",
   "metadata": {},
   "source": [
    "## 加载TokenEmbedding\n",
    "\n",
    "`TokenEmbedding()`参数\n",
    "- `embedding_name`\n",
    "将模型名称以参数形式传入TokenEmbedding，加载对应的模型。默认为`w2v.baidu_encyclopedia.target.word-word.dim300`的词向量。\n",
    "- `unknown_token`\n",
    "未知token的表示，默认为[UNK]。\n",
    "- `unknown_token_vector`\n",
    "未知token的向量表示，默认生成和embedding维数一致，数值均值为0的正态分布向量。\n",
    "- `extended_vocab_path`\n",
    "扩展词汇列表文件路径，词表格式为一行一个词。如引入扩展词汇列表，trainable=True。\n",
    "- `trainable`\n",
    "Embedding层是否可被训练。True表示Embedding可以更新参数，False为不可更新。默认为True。"
   ]
  },
  {
   "cell_type": "code",
   "execution_count": 9,
   "metadata": {},
   "outputs": [
    {
     "name": "stderr",
     "output_type": "stream",
     "text": [
      "\u001b[32m[2021-06-10 01:01:46,359] [    INFO]\u001b[0m - Loading token embedding...\u001b[0m\n",
      "\u001b[32m[2021-06-10 01:01:50,687] [    INFO]\u001b[0m - Finish loading embedding vector.\u001b[0m\n",
      "\u001b[32m[2021-06-10 01:01:50,692] [    INFO]\u001b[0m - Token Embedding info:             \n",
      "Unknown index: 352217             \n",
      "Unknown token: [UNK]             \n",
      "Padding index: 352218             \n",
      "Padding token: [PAD]             \n",
      "Shape :[352219, 300]\u001b[0m\n"
     ]
    },
    {
     "name": "stdout",
     "output_type": "stream",
     "text": [
      "Object   type: TokenEmbedding(352219, 300, padding_idx=352218, sparse=False)             \n",
      "Unknown index: 352217             \n",
      "Unknown token: [UNK]             \n",
      "Padding index: 352218             \n",
      "Padding token: [PAD]             \n",
      "Parameter containing:\n",
      "Tensor(shape=[352219, 300], dtype=float32, place=CPUPlace, stop_gradient=False,\n",
      "       [[ 0.15078500,  0.12059100, -0.22020400, ..., -0.53268701, -0.06691400, -0.10072800],\n",
      "        [-0.25135499,  0.23474200, -0.16972800, ..., -0.52722102, -0.22953101,  0.18078101],\n",
      "        [ 0.20782000,  0.14142500, -0.33728099, ..., -0.55558801,  0.04756100, -0.07089700],\n",
      "        ...,\n",
      "        [ 0.00247700, -0.00236600, -0.02842000, ..., -0.02777100, -0.01926100,  0.00767400],\n",
      "        [ 0.00177662,  0.02095289, -0.01342945, ...,  0.03103882, -0.00722435, -0.01168500],\n",
      "        [ 0.        ,  0.        ,  0.        , ...,  0.        ,  0.        ,  0.        ]])\n"
     ]
    }
   ],
   "source": [
    "from paddlenlp.embeddings import TokenEmbedding\n",
    "\n",
    "# 初始化TokenEmbedding， 预训练embedding未下载时会自动下载并加载数据\n",
    "# 需要更换所选的词向量\n",
    "token_embedding = TokenEmbedding(embedding_name=\"w2v.wiki.target.word-word.dim300\")\n",
    "\n",
    "# 查看token_embedding详情\n",
    "print(token_embedding)"
   ]
  },
  {
   "cell_type": "markdown",
   "metadata": {},
   "source": [
    "### 认识一下Embedding\n",
    "**`TokenEmbedding.search()`**\n",
    "获得指定词汇的词向量。"
   ]
  },
  {
   "cell_type": "code",
   "execution_count": 10,
   "metadata": {},
   "outputs": [
    {
     "name": "stdout",
     "output_type": "stream",
     "text": [
      "[[ 0.365368  0.506662 -0.693891 -0.284762  0.922059 -0.32431  -0.584626\n",
      "   0.208058 -0.028354  0.395926 -0.285692 -0.234919  0.007793  0.320857\n",
      "   0.262059  0.360266  0.09468   0.050131  0.325833 -0.114179  0.088535\n",
      "   0.481643  0.09673  -0.013598  0.080423 -0.50085  -0.315578 -0.13176\n",
      "   0.062032  0.250345 -0.090868 -0.070901  0.343267  0.524381  0.085221\n",
      "  -0.156025 -0.376487 -0.275001  0.181942 -0.239668 -0.065353  0.237921\n",
      "  -0.066707 -0.263908  0.233007 -0.07929   0.299518 -0.069163  0.244306\n",
      "  -0.070161 -0.145548  0.203616  0.304813  0.504819 -0.352253 -0.106981\n",
      "  -0.235762  0.323756 -0.043048  0.400078 -0.44818  -0.508927 -0.237484\n",
      "  -0.182911  0.050759  0.701602 -0.329849  0.184569  0.160285 -0.018824\n",
      "   0.168998 -0.330147  0.218863  0.205179  0.249845  0.298654  0.167318\n",
      "   0.104696 -0.296162 -0.064247  0.223644  0.001493 -0.433171  0.710353\n",
      "  -0.077764  0.039108 -0.278512 -0.284465  0.619245  0.361017  0.005835\n",
      "  -0.090648  0.356444 -0.038557 -0.328914  0.723099  0.222141  0.093111\n",
      "  -0.887383  0.413625  0.413561  0.023329  0.023959 -0.256189  0.340596\n",
      "   0.173884 -0.145324  0.030233 -0.616363  0.254053  0.017026 -0.266746\n",
      "   0.11518  -0.371768  0.484607  0.556104 -0.036086  0.065035  0.609483\n",
      "  -0.448173 -0.148398 -0.024856 -0.609521 -0.547077  0.180144 -0.251297\n",
      "  -0.008896 -0.014747  0.651415  0.041205 -0.317698  0.118459  0.242276\n",
      "  -0.077875  0.261647  0.354499  0.35438  -0.01031   0.183725 -0.552181\n",
      "  -0.254141 -0.106531  0.116391 -0.128146 -0.008387 -0.189016 -0.750642\n",
      "  -0.761477 -0.167391  0.170857 -0.212681  0.413913  0.088422  0.251237\n",
      "  -0.416442 -0.641085  0.081485  0.365175 -0.339336 -0.537909  0.160448\n",
      "  -0.635215  0.423818  0.381826 -0.087459  0.05139  -0.040375 -0.073924\n",
      "   0.529733 -0.242314 -0.231479 -0.161863  0.020817  0.41408  -0.255922\n",
      "  -0.067789  0.338643  0.167739  0.305153 -0.304833  0.052106  0.215711\n",
      "  -0.199498 -0.408768  0.012024 -0.237632 -0.209431  0.412     0.183948\n",
      "   0.216681  0.041955  0.031644  0.160919  0.028706  0.259084 -0.404795\n",
      "   0.185435  0.755758 -0.012049  0.004178  0.032586 -0.36672   0.20148\n",
      "   0.435948 -0.011531 -0.577205 -0.128557 -0.202417  0.094911  0.288582\n",
      "   0.074806 -0.562882  0.325032 -0.172756 -0.582478 -0.318207 -0.407404\n",
      "   0.239791 -0.005029 -0.106192 -0.293916 -0.042976 -0.166236 -0.187618\n",
      "  -0.470045  0.353175  0.575118  0.492474 -0.54846  -0.18338  -0.423001\n",
      "  -0.043398 -0.485357  0.171494 -0.06035  -0.125396 -0.10169   0.005329\n",
      "  -0.575614 -0.059884  0.156862  0.249504  0.250815  0.215994 -0.549259\n",
      "   0.083667  0.131035  0.697828  0.11016  -0.094512  0.390119 -0.343284\n",
      "  -0.009114  0.31372   0.081383 -0.066706  0.584175  0.637972  0.33555\n",
      "  -0.15471  -0.079273  0.144652  0.702401 -0.009209 -0.087712 -0.656452\n",
      "   0.064541 -0.343419  0.567913  0.300968  0.059806 -0.160788  0.157453\n",
      "   0.094885  0.25484   0.297166 -0.102898  0.350635  0.308607  0.375273\n",
      "  -0.10434  -0.214416 -0.227797 -0.075157 -0.070556  0.163023 -0.090633\n",
      "  -0.127629  0.212706 -0.166839  0.102444 -0.448468  0.283508 -0.009785\n",
      "  -0.137859 -0.200719  0.239749 -0.154658 -0.157893  0.346256]]\n"
     ]
    }
   ],
   "source": [
    "test_token_embedding = token_embedding.search(\"中国\")\n",
    "print(test_token_embedding)"
   ]
  },
  {
   "cell_type": "markdown",
   "metadata": {},
   "source": [
    "**`TokenEmbedding.cosine_sim()`**\n",
    "计算词向量间余弦相似度，语义相近的词语余弦相似度更高，说明预训练好的词向量空间有很好的语义表示能力。"
   ]
  },
  {
   "cell_type": "code",
   "execution_count": 11,
   "metadata": {},
   "outputs": [
    {
     "name": "stdout",
     "output_type": "stream",
     "text": [
      "score1: 0.5468491\n",
      "score2: 0.20850094\n"
     ]
    }
   ],
   "source": [
    "score1 = token_embedding.cosine_sim(\"女孩\", \"女人\")\n",
    "score2 = token_embedding.cosine_sim(\"女孩\", \"书籍\")\n",
    "print('score1:', score1)\n",
    "print('score2:', score2)"
   ]
  },
  {
   "cell_type": "markdown",
   "metadata": {},
   "source": [
    "### 词向量映射到低维空间\n",
    "\n",
    "使用深度学习可视化工具[VisualDL](https://github.com/PaddlePaddle/VisualDL)的[High Dimensional](https://github.com/PaddlePaddle/VisualDL/blob/develop/docs/components/README_CN.md#High-Dimensional--%E6%95%B0%E6%8D%AE%E9%99%8D%E7%BB%B4%E7%BB%84%E4%BB%B6)组件可以对embedding结果进行可视化展示，便于对其直观分析，步骤如下：\n",
    "\n",
    "1. 升级 VisualDL 最新版本。\n",
    "\n",
    "`pip install --upgrade visualdl`\n",
    "\n",
    "2. 创建LogWriter并将记录词向量。\n",
    "\n",
    "3. 点击左侧面板中的可视化tab，选择‘token_hidi’作为文件并启动VisualDL可视化"
   ]
  },
  {
   "cell_type": "code",
   "execution_count": 6,
   "metadata": {},
   "outputs": [
    {
     "name": "stdout",
     "output_type": "stream",
     "text": [
      "Requirement already satisfied: visualdl in /Library/Frameworks/Python.framework/Versions/3.8/lib/python3.8/site-packages (2.2.0)\n",
      "Requirement already satisfied: Flask-Babel>=1.0.0 in /Library/Frameworks/Python.framework/Versions/3.8/lib/python3.8/site-packages (from visualdl) (2.0.0)\n",
      "Requirement already satisfied: pre-commit in /Library/Frameworks/Python.framework/Versions/3.8/lib/python3.8/site-packages (from visualdl) (2.13.0)\n",
      "Requirement already satisfied: flask>=1.1.1 in /Library/Frameworks/Python.framework/Versions/3.8/lib/python3.8/site-packages (from visualdl) (2.0.1)\n",
      "Requirement already satisfied: pandas in /Library/Frameworks/Python.framework/Versions/3.8/lib/python3.8/site-packages (from visualdl) (1.0.3)\n",
      "Requirement already satisfied: six>=1.14.0 in /Library/Frameworks/Python.framework/Versions/3.8/lib/python3.8/site-packages (from visualdl) (1.15.0)\n",
      "Requirement already satisfied: numpy in /Library/Frameworks/Python.framework/Versions/3.8/lib/python3.8/site-packages (from visualdl) (1.18.5)\n",
      "Requirement already satisfied: bce-python-sdk in /Library/Frameworks/Python.framework/Versions/3.8/lib/python3.8/site-packages (from visualdl) (0.8.60)\n",
      "Requirement already satisfied: requests in /Library/Frameworks/Python.framework/Versions/3.8/lib/python3.8/site-packages (from visualdl) (2.24.0)\n",
      "Requirement already satisfied: matplotlib in /Library/Frameworks/Python.framework/Versions/3.8/lib/python3.8/site-packages (from visualdl) (3.2.1)\n",
      "Requirement already satisfied: Pillow>=7.0.0 in /Library/Frameworks/Python.framework/Versions/3.8/lib/python3.8/site-packages (from visualdl) (7.1.2)\n",
      "Requirement already satisfied: protobuf>=3.11.0 in /Library/Frameworks/Python.framework/Versions/3.8/lib/python3.8/site-packages (from visualdl) (3.13.0)\n",
      "Requirement already satisfied: shellcheck-py in /Library/Frameworks/Python.framework/Versions/3.8/lib/python3.8/site-packages (from visualdl) (0.7.2.1)\n",
      "Requirement already satisfied: flake8>=3.7.9 in /Library/Frameworks/Python.framework/Versions/3.8/lib/python3.8/site-packages (from visualdl) (3.9.2)\n",
      "Requirement already satisfied: mccabe<0.7.0,>=0.6.0 in /Library/Frameworks/Python.framework/Versions/3.8/lib/python3.8/site-packages (from flake8>=3.7.9->visualdl) (0.6.1)\n",
      "Requirement already satisfied: pyflakes<2.4.0,>=2.3.0 in /Library/Frameworks/Python.framework/Versions/3.8/lib/python3.8/site-packages (from flake8>=3.7.9->visualdl) (2.3.1)\n",
      "Requirement already satisfied: pycodestyle<2.8.0,>=2.7.0 in /Library/Frameworks/Python.framework/Versions/3.8/lib/python3.8/site-packages (from flake8>=3.7.9->visualdl) (2.7.0)\n",
      "Requirement already satisfied: Jinja2>=3.0 in /Library/Frameworks/Python.framework/Versions/3.8/lib/python3.8/site-packages (from flask>=1.1.1->visualdl) (3.0.1)\n",
      "Requirement already satisfied: click>=7.1.2 in /Library/Frameworks/Python.framework/Versions/3.8/lib/python3.8/site-packages (from flask>=1.1.1->visualdl) (7.1.2)\n",
      "Requirement already satisfied: Werkzeug>=2.0 in /Library/Frameworks/Python.framework/Versions/3.8/lib/python3.8/site-packages (from flask>=1.1.1->visualdl) (2.0.1)\n",
      "Requirement already satisfied: itsdangerous>=2.0 in /Library/Frameworks/Python.framework/Versions/3.8/lib/python3.8/site-packages (from flask>=1.1.1->visualdl) (2.0.1)\n",
      "Requirement already satisfied: pytz in /Library/Frameworks/Python.framework/Versions/3.8/lib/python3.8/site-packages (from Flask-Babel>=1.0.0->visualdl) (2020.1)\n",
      "Requirement already satisfied: Babel>=2.3 in /Library/Frameworks/Python.framework/Versions/3.8/lib/python3.8/site-packages (from Flask-Babel>=1.0.0->visualdl) (2.9.0)\n",
      "Requirement already satisfied: MarkupSafe>=2.0 in /Library/Frameworks/Python.framework/Versions/3.8/lib/python3.8/site-packages (from Jinja2>=3.0->flask>=1.1.1->visualdl) (2.0.1)\n",
      "Requirement already satisfied: setuptools in /Users/wzx/Library/Python/3.8/lib/python/site-packages (from protobuf>=3.11.0->visualdl) (50.3.2)\n",
      "Requirement already satisfied: future>=0.6.0 in /Library/Frameworks/Python.framework/Versions/3.8/lib/python3.8/site-packages (from bce-python-sdk->visualdl) (0.18.2)\n",
      "Requirement already satisfied: pycryptodome>=3.8.0 in /Library/Frameworks/Python.framework/Versions/3.8/lib/python3.8/site-packages (from bce-python-sdk->visualdl) (3.10.1)\n",
      "Requirement already satisfied: python-dateutil>=2.1 in /Library/Frameworks/Python.framework/Versions/3.8/lib/python3.8/site-packages (from matplotlib->visualdl) (2.8.1)\n",
      "Requirement already satisfied: kiwisolver>=1.0.1 in /Library/Frameworks/Python.framework/Versions/3.8/lib/python3.8/site-packages (from matplotlib->visualdl) (1.2.0)\n",
      "Requirement already satisfied: cycler>=0.10 in /Library/Frameworks/Python.framework/Versions/3.8/lib/python3.8/site-packages (from matplotlib->visualdl) (0.10.0)\n",
      "Requirement already satisfied: pyparsing!=2.0.4,!=2.1.2,!=2.1.6,>=2.0.1 in /Library/Frameworks/Python.framework/Versions/3.8/lib/python3.8/site-packages (from matplotlib->visualdl) (2.4.7)\n",
      "Requirement already satisfied: pyyaml>=5.1 in /Library/Frameworks/Python.framework/Versions/3.8/lib/python3.8/site-packages (from pre-commit->visualdl) (5.3.1)\n",
      "Requirement already satisfied: toml in /Library/Frameworks/Python.framework/Versions/3.8/lib/python3.8/site-packages (from pre-commit->visualdl) (0.10.1)\n",
      "Requirement already satisfied: cfgv>=2.0.0 in /Library/Frameworks/Python.framework/Versions/3.8/lib/python3.8/site-packages (from pre-commit->visualdl) (3.3.0)\n",
      "Requirement already satisfied: virtualenv>=20.0.8 in /Library/Frameworks/Python.framework/Versions/3.8/lib/python3.8/site-packages (from pre-commit->visualdl) (20.4.4)\n",
      "Requirement already satisfied: nodeenv>=0.11.1 in /Library/Frameworks/Python.framework/Versions/3.8/lib/python3.8/site-packages (from pre-commit->visualdl) (1.6.0)\n",
      "Requirement already satisfied: identify>=1.0.0 in /Library/Frameworks/Python.framework/Versions/3.8/lib/python3.8/site-packages (from pre-commit->visualdl) (2.2.10)\n",
      "Requirement already satisfied: filelock<4,>=3.0.0 in /Library/Frameworks/Python.framework/Versions/3.8/lib/python3.8/site-packages (from virtualenv>=20.0.8->pre-commit->visualdl) (3.0.12)\n",
      "Requirement already satisfied: appdirs<2,>=1.4.3 in /Library/Frameworks/Python.framework/Versions/3.8/lib/python3.8/site-packages (from virtualenv>=20.0.8->pre-commit->visualdl) (1.4.4)\n",
      "Requirement already satisfied: distlib<1,>=0.3.1 in /Library/Frameworks/Python.framework/Versions/3.8/lib/python3.8/site-packages (from virtualenv>=20.0.8->pre-commit->visualdl) (0.3.1)\n",
      "Requirement already satisfied: idna<3,>=2.5 in /Library/Frameworks/Python.framework/Versions/3.8/lib/python3.8/site-packages (from requests->visualdl) (2.10)\n",
      "Requirement already satisfied: urllib3!=1.25.0,!=1.25.1,<1.26,>=1.21.1 in /Library/Frameworks/Python.framework/Versions/3.8/lib/python3.8/site-packages (from requests->visualdl) (1.25.10)\n",
      "Requirement already satisfied: certifi>=2017.4.17 in /Library/Frameworks/Python.framework/Versions/3.8/lib/python3.8/site-packages (from requests->visualdl) (2020.6.20)\n",
      "Requirement already satisfied: chardet<4,>=3.0.2 in /Library/Frameworks/Python.framework/Versions/3.8/lib/python3.8/site-packages (from requests->visualdl) (3.0.4)\n",
      "\u001b[33mWARNING: You are using pip version 21.0.1; however, version 21.1.2 is available.\n",
      "You should consider upgrading via the '/Library/Frameworks/Python.framework/Versions/3.8/bin/python3 -m pip install --upgrade pip' command.\u001b[0m\n"
     ]
    }
   ],
   "source": [
    "!pip install --upgrade visualdl"
   ]
  },
  {
   "cell_type": "code",
   "execution_count": 12,
   "metadata": {},
   "outputs": [],
   "source": [
    "# 获取词表中前1000个单词\n",
    "labels = token_embedding.vocab.to_tokens(list(range(0, 1000)))\n",
    "# 取出这1000个单词对应的Embedding\n",
    "test_token_embedding = token_embedding.search(labels)\n",
    "\n",
    "# 引入VisualDL的LogWriter记录日志\n",
    "from visualdl import LogWriter\n",
    "\n",
    "with LogWriter(logdir='./token_hidi') as writer:\n",
    "    writer.add_embeddings(tag='test', mat=[i for i in test_token_embedding], metadata=labels)"
   ]
  },
  {
   "cell_type": "code",
   "execution_count": 23,
   "metadata": {},
   "outputs": [
    {
     "ename": "SyntaxError",
     "evalue": "invalid syntax (<ipython-input-23-878675ba187e>, line 1)",
     "output_type": "error",
     "traceback": [
      "\u001b[0;36m  File \u001b[0;32m\"<ipython-input-23-878675ba187e>\"\u001b[0;36m, line \u001b[0;32m1\u001b[0m\n\u001b[0;31m    visualdl --logdir <token_hidi> --model <token_hidi/vdlrecords.1623308277.log> --host <127.0.0.1> --port <8080> --cache-timeout <20> --language <None> --public-path <None>\u001b[0m\n\u001b[0m                                                                 ^\u001b[0m\n\u001b[0;31mSyntaxError\u001b[0m\u001b[0;31m:\u001b[0m invalid syntax\n"
     ]
    }
   ],
   "source": [
    "visualdl --logdir <token_hidi> --model <token_hidi/vdlrecords.1623308277.log> --host <127.0.0.1> --port <8080> --cache-timeout <20> --language <None> --public-path <None>"
   ]
  },
  {
   "cell_type": "code",
   "execution_count": 30,
   "metadata": {},
   "outputs": [
    {
     "data": {
      "text/plain": [
       "47001"
      ]
     },
     "execution_count": 30,
     "metadata": {},
     "output_type": "execute_result"
    }
   ],
   "source": [
    "from visualdl.server import app\n",
    "\n",
    "# app.run(logdir=\"./log\")\n",
    "app.run(logdir=\"./log\",\n",
    "        model=\"'./token_hidi\",\n",
    "        host=\"127.0.0.1\",\n",
    "        port=8080,\n",
    "        cache_timeout=20,\n",
    "        language=None,\n",
    "        public_path=None,\n",
    "        api_only=False,\n",
    "        open_browser=True)"
   ]
  },
  {
   "cell_type": "code",
   "execution_count": null,
   "metadata": {},
   "outputs": [],
   "source": []
  },
  {
   "cell_type": "markdown",
   "metadata": {},
   "source": [
    "#### 启动VisualDL查看词向量降维效果\n",
    "启动步骤：\n",
    "- 1、切换到「可视化」指定可视化日志\n",
    "- 2、日志文件选择 'token_hidi'\n",
    "- 3、点击「启动VisualDL」后点击「打开VisualDL」，选择「高维数据映射」，即可查看词表中前1000词UMAP方法下映射到三维空间的可视化结果:\n",
    "\n",
    "![](https://user-images.githubusercontent.com/48054808/120594172-1fe02b00-c473-11eb-9df1-c0206b07e948.gif)\n",
    "\n",
    "可以看出，语义相近的词在词向量空间中聚集(如数字、章节等)，说明预训练好的词向量有很好的文本表示能力。\n",
    "\n",
    "使用VisualDL除可视化embedding结果外，还可以对标量、图片、音频等进行可视化，有效提升训练调参效率。关于VisualDL更多功能和详细介绍，可参考[VisualDL使用文档](https://github.com/PaddlePaddle/VisualDL/tree/develop/docs)。"
   ]
  },
  {
   "cell_type": "markdown",
   "metadata": {},
   "source": [
    "## 基于TokenEmbedding衡量句子语义相似度\n",
    "\n",
    "在许多实际应用场景（如文档检索系统）中， 需要衡量两个句子的语义相似程度。此时我们可以使用词袋模型（Bag of Words，简称BoW）计算句子的语义向量。\n",
    "\n",
    "**首先**，将两个句子分别进行切词，并在TokenEmbedding中查找相应的单词词向量（word embdding）。\n",
    "\n",
    "**然后**，根据词袋模型，将句子的word embedding叠加作为句子向量（sentence embedding）。\n",
    "\n",
    "**最后**，计算两个句子向量的余弦相似度。\n",
    "\n",
    "### 基于TokenEmbedding的词袋模型\n",
    "\n",
    "\n",
    "使用`BoWEncoder`搭建一个BoW模型用于计算句子语义。\n",
    "\n",
    "* `paddlenlp.TokenEmbedding`组建word-embedding层\n",
    "* `paddlenlp.seq2vec.BoWEncoder`组建句子建模层\n"
   ]
  },
  {
   "cell_type": "code",
   "execution_count": 6,
   "metadata": {},
   "outputs": [],
   "source": [
    "import paddle\n",
    "import paddle.nn as nn\n",
    "import paddlenlp\n",
    "\n",
    "\n",
    "class BoWModel(nn.Layer):\n",
    "    def __init__(self, embedder):\n",
    "        super().__init__()\n",
    "        self.embedder = embedder\n",
    "        emb_dim = self.embedder.embedding_dim\n",
    "        self.encoder = paddlenlp.seq2vec.BoWEncoder(emb_dim)\n",
    "        self.cos_sim_func = nn.CosineSimilarity(axis=-1)\n",
    "\n",
    "    def get_cos_sim(self, text_a, text_b):\n",
    "        text_a_embedding = self.forward(text_a)\n",
    "        text_b_embedding = self.forward(text_b)\n",
    "        cos_sim = self.cos_sim_func(text_a_embedding, text_b_embedding)\n",
    "        return cos_sim\n",
    "\n",
    "    def forward(self, text):\n",
    "        # Shape: (batch_size, num_tokens, embedding_dim)\n",
    "        embedded_text = self.embedder(text)\n",
    "\n",
    "        # Shape: (batch_size, embedding_dim)\n",
    "        summed = self.encoder(embedded_text)\n",
    "\n",
    "        return summed\n",
    "\n",
    "model = BoWModel(embedder=token_embedding)"
   ]
  },
  {
   "cell_type": "markdown",
   "metadata": {},
   "source": [
    "### 构造Tokenizer\n",
    "使用TokenEmbedding词表构造Tokenizer。"
   ]
  },
  {
   "cell_type": "code",
   "execution_count": 7,
   "metadata": {},
   "outputs": [],
   "source": [
    "from data import Tokenizer\n",
    "tokenizer = Tokenizer()\n",
    "tokenizer.set_vocab(vocab=token_embedding.vocab)"
   ]
  },
  {
   "cell_type": "markdown",
   "metadata": {},
   "source": [
    "### 相似句对数据读取\n",
    "\n",
    "以提供的样例数据text_pair.txt为例，该数据文件每行包含两个句子。\n"
   ]
  },
  {
   "cell_type": "code",
   "execution_count": 8,
   "metadata": {},
   "outputs": [],
   "source": [
    "text_pairs = {}\n",
    "with open(\"text_pair.txt\", \"r\", encoding=\"utf8\") as f:\n",
    "    for line in f:\n",
    "        text_a, text_b = line.strip().split(\"\\t\")\n",
    "        if text_a not in text_pairs:\n",
    "            text_pairs[text_a] = []\n",
    "        text_pairs[text_a].append(text_b)"
   ]
  },
  {
   "cell_type": "markdown",
   "metadata": {},
   "source": [
    "### 查看相似语句相关度"
   ]
  },
  {
   "cell_type": "code",
   "execution_count": null,
   "metadata": {},
   "outputs": [
    {
     "name": "stdout",
     "output_type": "stream",
     "text": [
      "text_a: 多项式矩阵左共轭积对偶Sylvester共轭和数学算子完备参数解\n",
      "text_b: 多项式矩阵的左共轭积及其应用\n",
      "cosine_sim: 0.8933109045028687\n",
      "\n",
      "text_a: 多项式矩阵左共轭积对偶Sylvester共轭和数学算子完备参数解\n",
      "text_b: 退化阻尼对高维可压缩欧拉方程组经典解的影响\n",
      "cosine_sim: 0.8055296540260315\n",
      "\n",
      "text_a: 多项式矩阵左共轭积对偶Sylvester共轭和数学算子完备参数解\n",
      "text_b: Burgers方程基于特征正交分解方法的数值解法研究\n",
      "cosine_sim: 0.8413740992546082\n",
      "\n",
      "text_a: 多项式矩阵左共轭积对偶Sylvester共轭和数学算子完备参数解\n",
      "text_b: 有界对称域上解析函数空间的若干性质\n",
      "cosine_sim: 0.8249679803848267\n",
      "\n",
      "text_a: 多项式矩阵左共轭积对偶Sylvester共轭和数学算子完备参数解\n",
      "text_b: 基于卷积神经网络的图像复杂度研究与应用\n",
      "cosine_sim: 0.7288049459457397\n",
      "\n",
      "text_a: 多项式矩阵左共轭积对偶Sylvester共轭和数学算子完备参数解\n",
      "text_b: Cartesian发射机中线性功率放大器的研究\n",
      "cosine_sim: 0.7297546863555908\n",
      "\n",
      "text_a: 多项式矩阵左共轭积对偶Sylvester共轭和数学算子完备参数解\n",
      "text_b: CFRP加固WF型梁侧扭屈曲的几何非线性有限元分析\n",
      "cosine_sim: 0.7997360229492188\n",
      "\n",
      "text_a: 多项式矩阵左共轭积对偶Sylvester共轭和数学算子完备参数解\n",
      "text_b: 基于线性CCD自适应成像的光刻机平台调平方法研究\n",
      "cosine_sim: 0.7524571418762207\n",
      "\n",
      "text_a: 多项式矩阵左共轭积对偶Sylvester共轭和数学算子完备参数解\n",
      "text_b: 基于变分贝叶斯理论的图像复原方法研究\n",
      "cosine_sim: 0.6836655735969543\n",
      "\n",
      "text_a: 多项式矩阵左共轭积对偶Sylvester共轭和数学算子完备参数解\n",
      "text_b: 网格资源分配中混合并行蚁群算法方式研究\n",
      "cosine_sim: 0.6875622272491455\n",
      "\n",
      "text_a: 停车信息系统路径诱导最佳路径车位占有率城市交通智能交通\n",
      "text_b: 中心式停车信息系统若干问题的研究\n",
      "cosine_sim: 0.7387557029724121\n",
      "\n",
      "text_a: 停车信息系统路径诱导最佳路径车位占有率城市交通智能交通\n",
      "text_b: 视觉导航区域交通智能车辆（CyberCar）系统研究\n",
      "cosine_sim: 0.7968117594718933\n",
      "\n",
      "text_a: 停车信息系统路径诱导最佳路径车位占有率城市交通智能交通\n",
      "text_b: 需求侧参与输电阻塞管理的模型与算法研究\n",
      "cosine_sim: 0.713493824005127\n",
      "\n",
      "text_a: 停车信息系统路径诱导最佳路径车位占有率城市交通智能交通\n",
      "text_b: 基于云服务的智能家居系统的研究与设计\n",
      "cosine_sim: 0.6994773149490356\n",
      "\n",
      "text_a: 停车信息系统路径诱导最佳路径车位占有率城市交通智能交通\n",
      "text_b: 环境水质在线监测系统智能主节点的研究与设计\n",
      "cosine_sim: 0.7481691241264343\n",
      "\n",
      "text_a: 停车信息系统路径诱导最佳路径车位占有率城市交通智能交通\n",
      "text_b: 配电网故障自动处理算法的研究及软件开发\n",
      "cosine_sim: 0.7226179838180542\n",
      "\n",
      "text_a: 停车信息系统路径诱导最佳路径车位占有率城市交通智能交通\n",
      "text_b: 基于GeoMedia的高速公路监控系统的研究与开发\n",
      "cosine_sim: 0.703525960445404\n",
      "\n",
      "text_a: 停车信息系统路径诱导最佳路径车位占有率城市交通智能交通\n",
      "text_b: 基于Java的模块化环境空气质量自动监测系统的研究与设计\n",
      "cosine_sim: 0.6973008513450623\n",
      "\n",
      "text_a: 停车信息系统路径诱导最佳路径车位占有率城市交通智能交通\n",
      "text_b: 边检预检预录系统建设及关键技术研究\n",
      "cosine_sim: 0.725892961025238\n",
      "\n",
      "text_a: 停车信息系统路径诱导最佳路径车位占有率城市交通智能交通\n",
      "text_b: 基于多技术的路面积水监测预警系统的设计与实现\n",
      "cosine_sim: 0.716306209564209\n",
      "\n",
      "text_a: 服务企业企业竞争力决定因素提升策略\n",
      "text_b: 服务企业竞争力决定因素与提升策略研究\n",
      "cosine_sim: 0.9467206001281738\n",
      "\n",
      "text_a: 服务企业企业竞争力决定因素提升策略\n",
      "text_b: 提升我国分析仪器产业竞争力的技术创新战略研究\n",
      "cosine_sim: 0.792744517326355\n",
      "\n",
      "text_a: 服务企业企业竞争力决定因素提升策略\n",
      "text_b: 国有润滑油企业市场开发策略研究\n",
      "cosine_sim: 0.8008909225463867\n",
      "\n",
      "text_a: 服务企业企业竞争力决定因素提升策略\n",
      "text_b: 基于成功要素的企业ERP实施事前评估研究\n",
      "cosine_sim: 0.7981122732162476\n",
      "\n",
      "text_a: 服务企业企业竞争力决定因素提升策略\n",
      "text_b: 环境扫描对企业竞争优势的影响研究--以电子信息行业为例\n",
      "cosine_sim: 0.7597628235816956\n",
      "\n",
      "text_a: 服务企业企业竞争力决定因素提升策略\n",
      "text_b: 浦发银行信用卡产品的营销策略研究\n",
      "cosine_sim: 0.7463800311088562\n",
      "\n",
      "text_a: 服务企业企业竞争力决定因素提升策略\n",
      "text_b: 我国出口企业的竞争战略研究\n",
      "cosine_sim: 0.7676607966423035\n",
      "\n",
      "text_a: 服务企业企业竞争力决定因素提升策略\n",
      "text_b: BMP公司供应商绩效指标体系的改进与实施\n",
      "cosine_sim: 0.7569599151611328\n",
      "\n",
      "text_a: 服务企业企业竞争力决定因素提升策略\n",
      "text_b: P公司企业管理人员选拔任用体系研究\n",
      "cosine_sim: 0.7398951053619385\n",
      "\n",
      "text_a: 服务企业企业竞争力决定因素提升策略\n",
      "text_b: 高管性别结构、内部制衡与企业技术创新——基于我国创业板上市企业的实证研究\n",
      "cosine_sim: 0.7709347605705261\n",
      "\n",
      "text_a: 数字水印混沌映射版权保护序列密码小波变换\n",
      "text_b: 基于混沌映射的数字水印技术研究\n",
      "cosine_sim: 0.8271716833114624\n",
      "\n",
      "text_a: 数字水印混沌映射版权保护序列密码小波变换\n",
      "text_b: 基于卷积神经网络的图像复杂度研究与应用\n",
      "cosine_sim: 0.7418777942657471\n",
      "\n",
      "text_a: 数字水印混沌映射版权保护序列密码小波变换\n",
      "text_b: 基于图像内容的关键帧检测及VLSI实现\n",
      "cosine_sim: 0.6914595365524292\n",
      "\n",
      "text_a: 数字水印混沌映射版权保护序列密码小波变换\n",
      "text_b: 基于局部特征的多光谱与全色图像融合算法研究\n",
      "cosine_sim: 0.7072393298149109\n",
      "\n",
      "text_a: 数字水印混沌映射版权保护序列密码小波变换\n",
      "text_b: 基于嵌入式系统的人脸识别算法研究及其优化\n",
      "cosine_sim: 0.7277570962905884\n",
      "\n",
      "text_a: 数字水印混沌映射版权保护序列密码小波变换\n",
      "text_b: 基于多特征融合和图割模型的遥感影像云检测算法研究\n",
      "cosine_sim: 0.6968082785606384\n",
      "\n",
      "text_a: 数字水印混沌映射版权保护序列密码小波变换\n",
      "text_b: 基于动态符号执行的模糊测试方法研究\n",
      "cosine_sim: 0.6748412251472473\n",
      "\n",
      "text_a: 数字水印混沌映射版权保护序列密码小波变换\n",
      "text_b: 基于交通流增长特性的复杂网络演化建模研究\n",
      "cosine_sim: 0.7001451253890991\n",
      "\n",
      "text_a: 数字水印混沌映射版权保护序列密码小波变换\n",
      "text_b: 基于变分贝叶斯理论的图像复原方法研究\n",
      "cosine_sim: 0.7003292441368103\n",
      "\n",
      "text_a: 数字水印混沌映射版权保护序列密码小波变换\n",
      "text_b: 混沌控制和构造延迟混沌系统及应用的研究\n",
      "cosine_sim: 0.6837852597236633"
     ]
    }
   ],
   "source": [
    "for text_a, text_b_list in text_pairs.items():\n",
    "    text_a_ids = paddle.to_tensor([tokenizer.text_to_ids(text_a)])\n",
    "\n",
    "    for text_b in text_b_list:\n",
    "        text_b_ids = paddle.to_tensor([tokenizer.text_to_ids(text_b)])\n",
    "        print(\"text_a: {}\".format(text_a))\n",
    "        print(\"text_b: {}\".format(text_b))\n",
    "        print(\"cosine_sim: {}\".format(model.get_cos_sim(text_a_ids, text_b_ids).numpy()[0]))\n",
    "        print()"
   ]
  },
  {
   "cell_type": "markdown",
   "metadata": {},
   "source": [
    "### 使用VisualDL查看句子向量"
   ]
  },
  {
   "cell_type": "code",
   "execution_count": 10,
   "metadata": {},
   "outputs": [],
   "source": [
    "# 引入VisualDL的LogWriter记录日志\n",
    "import numpy as np\n",
    "from visualdl import LogWriter    \n",
    "# 获取句子以及其对应的向量\n",
    "label_list = []\n",
    "embedding_list = []\n",
    "\n",
    "for text_a, text_b_list in text_pairs.items():\n",
    "    text_a_ids = paddle.to_tensor([tokenizer.text_to_ids(text_a)])\n",
    "    embedding_list.append(model(text_a_ids).flatten().numpy())\n",
    "    label_list.append(text_a)\n",
    "\n",
    "    for text_b in text_b_list:\n",
    "        text_b_ids = paddle.to_tensor([tokenizer.text_to_ids(text_b)])\n",
    "        embedding_list.append(model(text_b_ids).flatten().numpy())\n",
    "        label_list.append(text_b)\n",
    "\n",
    "\n",
    "with LogWriter(logdir='./sentence_hidi') as writer:\n",
    "    writer.add_embeddings(tag='test', mat=embedding_list, metadata=label_list)"
   ]
  },
  {
   "cell_type": "markdown",
   "metadata": {},
   "source": [
    "### 启动VisualDL观察句子向量降维效果\n",
    "\n",
    "步骤如上述观察词向量降维效果一模一样。\n",
    "![](https://ai-studio-static-online.cdn.bcebos.com/0e876f3cf1724e90a317ad3f4be233a9eb0313b0e92f475b95675c2ad52d3eb0)\n",
    "\n",
    "\n",
    "可以看出，语义相近的句子在句子向量空间中聚集(如有关课堂的句子、有关化学描述句子等)。"
   ]
  },
  {
   "cell_type": "markdown",
   "metadata": {},
   "source": [
    "# PaddleNLP更多预训练词向量\n",
    "PaddleNLP提供61种可直接加载的预训练词向量，训练自多领域中英文语料、如百度百科、新闻语料、微博等，覆盖多种经典词向量模型（word2vec、glove、fastText）、涵盖不同维度、不同语料库大小，详见[PaddleNLP Embedding API](https://github.com/PaddlePaddle/PaddleNLP/blob/develop/docs/model_zoo/embeddings.md)。"
   ]
  },
  {
   "cell_type": "markdown",
   "metadata": {},
   "source": [
    "# 预训练词向量辅助分类任务\n",
    "\n",
    "想学习词向量更多应用，来试试预训练词向量对分类模型的改善效果吧，[这里](https://aistudio.baidu.com/aistudio/projectdetail/1283423) 试试把`paddle.nn.Embedding`换成刚刚学到的预训练词向量吧。"
   ]
  },
  {
   "cell_type": "markdown",
   "metadata": {},
   "source": [
    "# 加入课程交流群，一起学习吧\n",
    "\n",
    "现在就加入课程群，一起交流NLP技术吧！\n",
    "\n",
    "<img src=\"https://ai-studio-static-online.cdn.bcebos.com/d953727af0c24a7c806ab529495f0904f22f809961be420b8c88cdf59b837394\" width=\"200\" height=\"250\" >\n",
    "\n",
    "\n",
    "\n",
    "**[直播链接请戳这里，每晚20:00-21:30👈](http://live.bilibili.com/21689802)**\n",
    "\n",
    "**[还没有报名课程？赶紧戳这里，课程、作业安排统统在课程区哦👉🏻](https://aistudio.baidu.com/aistudio/course/introduce/24177)**"
   ]
  }
 ],
 "metadata": {
  "kernelspec": {
   "display_name": "Python 3",
   "language": "python",
   "name": "python3"
  },
  "language_info": {
   "codemirror_mode": {
    "name": "ipython",
    "version": 3
   },
   "file_extension": ".py",
   "mimetype": "text/x-python",
   "name": "python",
   "nbconvert_exporter": "python",
   "pygments_lexer": "ipython3",
   "version": "3.8.5"
  }
 },
 "nbformat": 4,
 "nbformat_minor": 1
}
