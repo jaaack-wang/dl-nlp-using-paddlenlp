{
 "cells": [
  {
   "cell_type": "markdown",
   "metadata": {},
   "source": [
    "# 作业\n",
    "\n",
    "完成预测环节预训练模型的调用代码，并跑通整个项目，成功提交千言文本相似度竞赛，按要求截图，提交作业即可。\n",
    "\n",
    "tips：\n",
    "\n",
    "- 预测可以使用自己训练的模型（训练时间较长），也可以直接使用提供下载的模型权重；\n",
    "- 报名千言文本相似度竞赛，并成功提交结果；\n",
    "- 并将如下图所示的结果截图，贴到本项目作业最后一行即完成作业。\n",
    "\n",
    "![](https://ai-studio-static-online.cdn.bcebos.com/cf119d3bc6504c098cc3cc58597b7061890d5fe915364f5fbd52341033307c7c)\n"
   ]
  },
  {
   "cell_type": "markdown",
   "metadata": {},
   "source": [
    "# 基于预训练模型 ERNIE-Gram 实现语义匹配\n",
    "\n",
    "\n",
    "6.7NLP直播打卡课即将开播，欢迎大家关注课程，有任何问题来评论区或**QQ群**（群号:758287592）交流吧~~\n",
    "\n",
    "**[直播链接请戳这里，每晚20:00-21:30👈](http://live.bilibili.com/21689802)**\n",
    "\n",
    "**[课程地址请戳这里👈](https://aistudio.baidu.com/aistudio/course/introduce/24177)**\n",
    "\n",
    "\n",
    "本案例介绍 NLP 最基本的任务类型之一 —— 文本语义匹配，并且基于 PaddleNLP 使用百度开源的预训练模型 ERNIE-Gram 搭建效果优异的语义匹配模型，来判断 2 段文本语义是否相同。\n",
    "\n",
    "## 1. 背景介绍\n",
    "文本语义匹配任务，简单来说就是给定两段文本，让模型来判断两段文本是不是语义相似。\n",
    "\n",
    "在本案例中以权威的语义匹配数据集 [LCQMC](http://icrc.hitsz.edu.cn/Article/show/171.html) 为例，[LCQMC](http://icrc.hitsz.edu.cn/Article/show/171.html) 数据集是基于百度知道相似问题推荐构造的通问句语义匹配数据集。训练集中的每两段文本都会被标记为 1（语义相似） 或者 0（语义不相似）。更多数据集可访问[千言](https://www.luge.ai/)获取哦。\n",
    "\n",
    "例如百度知道场景下，用户搜索一个问题，模型会计算这个问题与候选问题是否语义相似，语义匹配模型会找出与问题语义相似的候选问题返回给用户，加快用户提问-获取答案的效率。例如，当某用户在搜索引擎中搜索 “深度学习的教材有哪些？”，模型就自动找到了一些语义相似的问题展现给用户:\n",
    "![](https://ai-studio-static-online.cdn.bcebos.com/ecc1244685ec4476b869ce8a32d421c0ad530666e98d487da21fa4f61670544f)"
   ]
  },
  {
   "cell_type": "markdown",
   "metadata": {},
   "source": [
    "## 2.快速实践\n",
    "\n",
    "介绍如何准备数据，基于 ERNIE-Gram 模型搭建匹配网络，然后快速进行语义匹配模型的训练、评估和预测。\n",
    "\n",
    "### 2.1 数据加载\n",
    "为了训练匹配模型，一般需要准备三个数据集：训练集 train.tsv、验证集dev.tsv、测试集test.tsv。此案例我们使用 PaddleNLP 内置的语义数据集 [LCQMC](http://icrc.hitsz.edu.cn/Article/show/171.html) 来进行训练、评估、预测。\n",
    "\n",
    "训练集: 用来训练模型参数的数据集，模型直接根据训练集来调整自身参数以获得更好的分类效果。\n",
    "\n",
    "验证集: 用于在训练过程中检验模型的状态，收敛情况。验证集通常用于调整超参数，根据几组模型验证集上的表现，决定采用哪组超参数。\n",
    "\n",
    "测试集: 用来计算模型的各项评估指标，验证模型泛化能力。\n",
    "\n",
    "[LCQMC](http://icrc.hitsz.edu.cn/Article/show/171.html) 数据集是公开的语义匹配权威数据集。PaddleNLP 已经内置该数据集，一键即可加载。"
   ]
  },
  {
   "cell_type": "code",
   "execution_count": 1,
   "metadata": {},
   "outputs": [
    {
     "name": "stdout",
     "output_type": "stream",
     "text": [
      "Requirement already satisfied: paddlenlp in /Library/Frameworks/Python.framework/Versions/3.8/lib/python3.8/site-packages (2.0.2)\n",
      "Requirement already satisfied: visualdl in /Library/Frameworks/Python.framework/Versions/3.8/lib/python3.8/site-packages (from paddlenlp) (2.2.0)\n",
      "Requirement already satisfied: jieba in /Library/Frameworks/Python.framework/Versions/3.8/lib/python3.8/site-packages (from paddlenlp) (0.42.1)\n",
      "Requirement already satisfied: seqeval in /Library/Frameworks/Python.framework/Versions/3.8/lib/python3.8/site-packages (from paddlenlp) (0.0.3)\n",
      "Requirement already satisfied: colorama in /Library/Frameworks/Python.framework/Versions/3.8/lib/python3.8/site-packages (from paddlenlp) (0.4.3)\n",
      "Requirement already satisfied: multiprocess in /Library/Frameworks/Python.framework/Versions/3.8/lib/python3.8/site-packages (from paddlenlp) (0.70.11.1)\n",
      "Requirement already satisfied: colorlog in /Library/Frameworks/Python.framework/Versions/3.8/lib/python3.8/site-packages (from paddlenlp) (5.0.1)\n",
      "Requirement already satisfied: h5py in /Library/Frameworks/Python.framework/Versions/3.8/lib/python3.8/site-packages (from paddlenlp) (2.10.0)\n",
      "Requirement already satisfied: numpy>=1.7 in /Library/Frameworks/Python.framework/Versions/3.8/lib/python3.8/site-packages (from h5py->paddlenlp) (1.18.5)\n",
      "Requirement already satisfied: six in /Library/Frameworks/Python.framework/Versions/3.8/lib/python3.8/site-packages (from h5py->paddlenlp) (1.15.0)\n",
      "Requirement already satisfied: dill>=0.3.3 in /Library/Frameworks/Python.framework/Versions/3.8/lib/python3.8/site-packages (from multiprocess->paddlenlp) (0.3.3)\n",
      "Requirement already satisfied: bce-python-sdk in /Library/Frameworks/Python.framework/Versions/3.8/lib/python3.8/site-packages (from visualdl->paddlenlp) (0.8.60)\n",
      "Requirement already satisfied: flask>=1.1.1 in /Library/Frameworks/Python.framework/Versions/3.8/lib/python3.8/site-packages (from visualdl->paddlenlp) (2.0.1)\n",
      "Requirement already satisfied: requests in /Library/Frameworks/Python.framework/Versions/3.8/lib/python3.8/site-packages (from visualdl->paddlenlp) (2.24.0)\n",
      "Requirement already satisfied: flake8>=3.7.9 in /Library/Frameworks/Python.framework/Versions/3.8/lib/python3.8/site-packages (from visualdl->paddlenlp) (3.9.2)\n",
      "Requirement already satisfied: Flask-Babel>=1.0.0 in /Library/Frameworks/Python.framework/Versions/3.8/lib/python3.8/site-packages (from visualdl->paddlenlp) (2.0.0)\n",
      "Requirement already satisfied: matplotlib in /Library/Frameworks/Python.framework/Versions/3.8/lib/python3.8/site-packages (from visualdl->paddlenlp) (3.2.1)\n",
      "Requirement already satisfied: protobuf>=3.11.0 in /Library/Frameworks/Python.framework/Versions/3.8/lib/python3.8/site-packages (from visualdl->paddlenlp) (3.13.0)\n",
      "Requirement already satisfied: pandas in /Library/Frameworks/Python.framework/Versions/3.8/lib/python3.8/site-packages (from visualdl->paddlenlp) (1.0.3)\n",
      "Requirement already satisfied: Pillow>=7.0.0 in /Library/Frameworks/Python.framework/Versions/3.8/lib/python3.8/site-packages (from visualdl->paddlenlp) (7.1.2)\n",
      "Requirement already satisfied: shellcheck-py in /Library/Frameworks/Python.framework/Versions/3.8/lib/python3.8/site-packages (from visualdl->paddlenlp) (0.7.2.1)\n",
      "Requirement already satisfied: pre-commit in /Library/Frameworks/Python.framework/Versions/3.8/lib/python3.8/site-packages (from visualdl->paddlenlp) (2.13.0)\n",
      "Requirement already satisfied: pycodestyle<2.8.0,>=2.7.0 in /Library/Frameworks/Python.framework/Versions/3.8/lib/python3.8/site-packages (from flake8>=3.7.9->visualdl->paddlenlp) (2.7.0)\n",
      "Requirement already satisfied: pyflakes<2.4.0,>=2.3.0 in /Library/Frameworks/Python.framework/Versions/3.8/lib/python3.8/site-packages (from flake8>=3.7.9->visualdl->paddlenlp) (2.3.1)\n",
      "Requirement already satisfied: mccabe<0.7.0,>=0.6.0 in /Library/Frameworks/Python.framework/Versions/3.8/lib/python3.8/site-packages (from flake8>=3.7.9->visualdl->paddlenlp) (0.6.1)\n",
      "Requirement already satisfied: click>=7.1.2 in /Library/Frameworks/Python.framework/Versions/3.8/lib/python3.8/site-packages (from flask>=1.1.1->visualdl->paddlenlp) (7.1.2)\n",
      "Requirement already satisfied: itsdangerous>=2.0 in /Library/Frameworks/Python.framework/Versions/3.8/lib/python3.8/site-packages (from flask>=1.1.1->visualdl->paddlenlp) (2.0.1)\n",
      "Requirement already satisfied: Jinja2>=3.0 in /Library/Frameworks/Python.framework/Versions/3.8/lib/python3.8/site-packages (from flask>=1.1.1->visualdl->paddlenlp) (3.0.1)\n",
      "Requirement already satisfied: Werkzeug>=2.0 in /Library/Frameworks/Python.framework/Versions/3.8/lib/python3.8/site-packages (from flask>=1.1.1->visualdl->paddlenlp) (2.0.1)\n",
      "Requirement already satisfied: Babel>=2.3 in /Library/Frameworks/Python.framework/Versions/3.8/lib/python3.8/site-packages (from Flask-Babel>=1.0.0->visualdl->paddlenlp) (2.9.0)\n",
      "Requirement already satisfied: pytz in /Library/Frameworks/Python.framework/Versions/3.8/lib/python3.8/site-packages (from Flask-Babel>=1.0.0->visualdl->paddlenlp) (2020.1)\n",
      "Requirement already satisfied: MarkupSafe>=2.0 in /Library/Frameworks/Python.framework/Versions/3.8/lib/python3.8/site-packages (from Jinja2>=3.0->flask>=1.1.1->visualdl->paddlenlp) (2.0.1)\n",
      "Requirement already satisfied: setuptools in /Users/wzx/Library/Python/3.8/lib/python/site-packages (from protobuf>=3.11.0->visualdl->paddlenlp) (50.3.2)\n",
      "Requirement already satisfied: pycryptodome>=3.8.0 in /Library/Frameworks/Python.framework/Versions/3.8/lib/python3.8/site-packages (from bce-python-sdk->visualdl->paddlenlp) (3.10.1)\n",
      "Requirement already satisfied: future>=0.6.0 in /Library/Frameworks/Python.framework/Versions/3.8/lib/python3.8/site-packages (from bce-python-sdk->visualdl->paddlenlp) (0.18.2)\n",
      "Requirement already satisfied: python-dateutil>=2.1 in /Library/Frameworks/Python.framework/Versions/3.8/lib/python3.8/site-packages (from matplotlib->visualdl->paddlenlp) (2.8.1)\n",
      "Requirement already satisfied: pyparsing!=2.0.4,!=2.1.2,!=2.1.6,>=2.0.1 in /Library/Frameworks/Python.framework/Versions/3.8/lib/python3.8/site-packages (from matplotlib->visualdl->paddlenlp) (2.4.7)\n",
      "Requirement already satisfied: kiwisolver>=1.0.1 in /Library/Frameworks/Python.framework/Versions/3.8/lib/python3.8/site-packages (from matplotlib->visualdl->paddlenlp) (1.2.0)\n",
      "Requirement already satisfied: cycler>=0.10 in /Library/Frameworks/Python.framework/Versions/3.8/lib/python3.8/site-packages (from matplotlib->visualdl->paddlenlp) (0.10.0)\n",
      "Requirement already satisfied: virtualenv>=20.0.8 in /Library/Frameworks/Python.framework/Versions/3.8/lib/python3.8/site-packages (from pre-commit->visualdl->paddlenlp) (20.4.4)\n",
      "Requirement already satisfied: nodeenv>=0.11.1 in /Library/Frameworks/Python.framework/Versions/3.8/lib/python3.8/site-packages (from pre-commit->visualdl->paddlenlp) (1.6.0)\n",
      "Requirement already satisfied: identify>=1.0.0 in /Library/Frameworks/Python.framework/Versions/3.8/lib/python3.8/site-packages (from pre-commit->visualdl->paddlenlp) (2.2.10)\n",
      "Requirement already satisfied: cfgv>=2.0.0 in /Library/Frameworks/Python.framework/Versions/3.8/lib/python3.8/site-packages (from pre-commit->visualdl->paddlenlp) (3.3.0)\n",
      "Requirement already satisfied: pyyaml>=5.1 in /Library/Frameworks/Python.framework/Versions/3.8/lib/python3.8/site-packages (from pre-commit->visualdl->paddlenlp) (5.3.1)\n",
      "Requirement already satisfied: toml in /Library/Frameworks/Python.framework/Versions/3.8/lib/python3.8/site-packages (from pre-commit->visualdl->paddlenlp) (0.10.1)\n",
      "Requirement already satisfied: filelock<4,>=3.0.0 in /Library/Frameworks/Python.framework/Versions/3.8/lib/python3.8/site-packages (from virtualenv>=20.0.8->pre-commit->visualdl->paddlenlp) (3.0.12)\n",
      "Requirement already satisfied: appdirs<2,>=1.4.3 in /Library/Frameworks/Python.framework/Versions/3.8/lib/python3.8/site-packages (from virtualenv>=20.0.8->pre-commit->visualdl->paddlenlp) (1.4.4)\n",
      "Requirement already satisfied: distlib<1,>=0.3.1 in /Library/Frameworks/Python.framework/Versions/3.8/lib/python3.8/site-packages (from virtualenv>=20.0.8->pre-commit->visualdl->paddlenlp) (0.3.1)\n",
      "Requirement already satisfied: chardet<4,>=3.0.2 in /Library/Frameworks/Python.framework/Versions/3.8/lib/python3.8/site-packages (from requests->visualdl->paddlenlp) (3.0.4)\n",
      "Requirement already satisfied: certifi>=2017.4.17 in /Library/Frameworks/Python.framework/Versions/3.8/lib/python3.8/site-packages (from requests->visualdl->paddlenlp) (2020.6.20)\n",
      "Requirement already satisfied: idna<3,>=2.5 in /Library/Frameworks/Python.framework/Versions/3.8/lib/python3.8/site-packages (from requests->visualdl->paddlenlp) (2.10)\n",
      "Requirement already satisfied: urllib3!=1.25.0,!=1.25.1,<1.26,>=1.21.1 in /Library/Frameworks/Python.framework/Versions/3.8/lib/python3.8/site-packages (from requests->visualdl->paddlenlp) (1.25.10)\n"
     ]
    },
    {
     "name": "stdout",
     "output_type": "stream",
     "text": [
      "\u001b[33mWARNING: You are using pip version 21.0.1; however, version 21.1.2 is available.\r\n",
      "You should consider upgrading via the '/Library/Frameworks/Python.framework/Versions/3.8/bin/python3 -m pip install --upgrade pip' command.\u001b[0m\r\n"
     ]
    }
   ],
   "source": [
    "# 正式开始实验之前首先通过如下命令安装最新版本的 paddlenlp\n",
    "!pip install --upgrade paddlenlp -i https://pypi.org/simple"
   ]
  },
  {
   "cell_type": "code",
   "execution_count": 2,
   "metadata": {},
   "outputs": [
    {
     "name": "stderr",
     "output_type": "stream",
     "text": [
      "2021-06-10 00:50:02,202 - INFO - unique_endpoints {''}\n",
      "2021-06-10 00:50:02,203 - INFO - unique_endpoints {''}\n",
      "2021-06-10 00:50:02,205 - INFO - Downloading lcqmc.zip from https://dataset-bj.cdn.bcebos.com/qianyan/lcqmc.zip\n",
      "100%|██████████| 6827/6827 [00:08<00:00, 780.69it/s]\n",
      "2021-06-10 00:50:12,731 - INFO - File /Users/wzx/.paddlenlp/datasets/LCQMC/lcqmc.zip md5 checking...\n",
      "2021-06-10 00:50:12,754 - INFO - Decompressing /Users/wzx/.paddlenlp/datasets/LCQMC/lcqmc.zip...\n"
     ]
    }
   ],
   "source": [
    "import time\n",
    "import os\n",
    "import numpy as np\n",
    "\n",
    "import paddle\n",
    "import paddle.nn.functional as F\n",
    "from paddlenlp.datasets import load_dataset\n",
    "import paddlenlp\n",
    "\n",
    "# 一键加载 Lcqmc 的训练集、验证集\n",
    "train_ds, dev_ds = load_dataset(\"lcqmc\", splits=[\"train\", \"dev\"])"
   ]
  },
  {
   "cell_type": "code",
   "execution_count": 3,
   "metadata": {},
   "outputs": [
    {
     "name": "stdout",
     "output_type": "stream",
     "text": [
      "{'query': '喜欢打篮球的男生喜欢什么样的女生', 'title': '爱打篮球的男生喜欢什么样的女生', 'label': 1}\n",
      "{'query': '我手机丢了，我想换个手机', 'title': '我想买个新手机，求推荐', 'label': 1}\n",
      "{'query': '大家觉得她好看吗', 'title': '大家觉得跑男好看吗？', 'label': 0}\n",
      "{'query': '求秋色之空漫画全集', 'title': '求秋色之空全集漫画', 'label': 1}\n"
     ]
    },
    {
     "name": "stderr",
     "output_type": "stream",
     "text": [
      "/Users/wzx/Library/Python/3.8/lib/python/site-packages/ipykernel/ipkernel.py:287: DeprecationWarning: `should_run_async` will not call `transform_cell` automatically in the future. Please pass the result to `transformed_cell` argument and any exception that happen during thetransform in `preprocessing_exc_tuple` in IPython 7.17 and above.\n",
      "  and should_run_async(code)\n"
     ]
    }
   ],
   "source": [
    "# 输出训练集的前 3 条样本\n",
    "for idx, example in enumerate(train_ds):\n",
    "    if idx <= 3:\n",
    "        print(example)"
   ]
  },
  {
   "cell_type": "markdown",
   "metadata": {},
   "source": [
    "### 2.2 数据预处理\n",
    "\n",
    "通过 PaddleNLP 加载进来的 [LCQMC](http://icrc.hitsz.edu.cn/Article/show/171.html) 数据集是原始的明文数据集，这部分我们来实现组 batch、tokenize 等预处理逻辑，将原始明文数据转换成网络训练的输入数据。"
   ]
  },
  {
   "cell_type": "markdown",
   "metadata": {},
   "source": [
    "#### 定义样本转换函数"
   ]
  },
  {
   "cell_type": "code",
   "execution_count": 4,
   "metadata": {},
   "outputs": [
    {
     "name": "stderr",
     "output_type": "stream",
     "text": [
      "\u001b[32m[2021-06-10 00:50:22,931] [    INFO]\u001b[0m - Downloading vocab.txt from https://paddlenlp.bj.bcebos.com/models/transformers/ernie_gram_zh/vocab.txt\u001b[0m\n",
      "100%|██████████| 78/78 [00:01<00:00, 44.73it/s]\n"
     ]
    }
   ],
   "source": [
    "# 因为是基于预训练模型 ERNIE-Gram 来进行，所以需要首先加载 ERNIE-Gram 的 tokenizer，\n",
    "# 后续样本转换函数基于 tokenizer 对文本进行切分\n",
    "\n",
    "tokenizer = paddlenlp.transformers.ErnieGramTokenizer.from_pretrained('ernie-gram-zh')"
   ]
  },
  {
   "cell_type": "code",
   "execution_count": 5,
   "metadata": {},
   "outputs": [],
   "source": [
    "# 将 1 条明文数据的 query、title 拼接起来，根据预训练模型的 tokenizer 将明文转换为 ID 数据\n",
    "# 返回 input_ids 和 token_type_ids\n",
    "\n",
    "def convert_example(example, tokenizer, max_seq_length=512, is_test=False):\n",
    "\n",
    "    query, title = example[\"query\"], example[\"title\"]\n",
    "\n",
    "    encoded_inputs = tokenizer(\n",
    "        text=query, text_pair=title, max_seq_len=max_seq_length)\n",
    "\n",
    "    input_ids = encoded_inputs[\"input_ids\"]\n",
    "    token_type_ids = encoded_inputs[\"token_type_ids\"]\n",
    "\n",
    "    if not is_test:\n",
    "        label = np.array([example[\"label\"]], dtype=\"int64\")\n",
    "        return input_ids, token_type_ids, label\n",
    "    # 在预测或者评估阶段，不返回 label 字段\n",
    "    else:\n",
    "        return input_ids, token_type_ids"
   ]
  },
  {
   "cell_type": "code",
   "execution_count": 6,
   "metadata": {},
   "outputs": [],
   "source": [
    "### 对训练集的第 1 条数据进行转换\n",
    "input_ids, token_type_ids, label = convert_example(train_ds[0], tokenizer)"
   ]
  },
  {
   "cell_type": "code",
   "execution_count": 7,
   "metadata": {},
   "outputs": [
    {
     "name": "stdout",
     "output_type": "stream",
     "text": [
      "[1, 692, 811, 445, 2001, 497, 5, 654, 21, 692, 811, 614, 356, 314, 5, 291, 21, 2, 329, 445, 2001, 497, 5, 654, 21, 692, 811, 614, 356, 314, 5, 291, 21, 2]\n"
     ]
    }
   ],
   "source": [
    "print(input_ids)"
   ]
  },
  {
   "cell_type": "code",
   "execution_count": 8,
   "metadata": {},
   "outputs": [
    {
     "name": "stdout",
     "output_type": "stream",
     "text": [
      "[0, 0, 0, 0, 0, 0, 0, 0, 0, 0, 0, 0, 0, 0, 0, 0, 0, 0, 1, 1, 1, 1, 1, 1, 1, 1, 1, 1, 1, 1, 1, 1, 1, 1]\n"
     ]
    }
   ],
   "source": [
    "print(token_type_ids)"
   ]
  },
  {
   "cell_type": "code",
   "execution_count": 9,
   "metadata": {},
   "outputs": [
    {
     "name": "stdout",
     "output_type": "stream",
     "text": [
      "[1]\n"
     ]
    }
   ],
   "source": [
    "print(label)"
   ]
  },
  {
   "cell_type": "code",
   "execution_count": 10,
   "metadata": {},
   "outputs": [],
   "source": [
    "# 为了后续方便使用，我们使用python偏函数（partial）给 convert_example 赋予一些默认参数\n",
    "from functools import partial\n",
    "\n",
    "# 训练集和验证集的样本转换函数\n",
    "trans_func = partial(\n",
    "    convert_example,\n",
    "    tokenizer=tokenizer,\n",
    "    max_seq_length=512)"
   ]
  },
  {
   "cell_type": "markdown",
   "metadata": {},
   "source": [
    "#### 组装 Batch 数据 & Padding\n",
    "\n",
    "上一小节，我们完成了对单条样本的转换，本节我们需要将样本组合成 Batch 数据，对于不等长的数据还需要进行 Padding 操作，便于 GPU 训练。\n",
    "\n",
    "PaddleNLP 提供了许多关于 NLP 任务中构建有效的数据 pipeline 的常用 API\n",
    "\n",
    "| API                             | 简介                                       |\n",
    "| ------------------------------- | :----------------------------------------- |\n",
    "| `paddlenlp.data.Stack`          | 堆叠N个具有相同shape的输入数据来构建一个batch |\n",
    "| `paddlenlp.data.Pad`            | 将长度不同的多个句子padding到统一长度，取N个输入数据中的最大长度 |\n",
    "| `paddlenlp.data.Tuple`          | 将多个batchify函数包装在一起 |\n",
    "\n",
    "更多数据处理操作详见： [https://paddlenlp.readthedocs.io/zh/latest/data_prepare/data_preprocess.html](https://paddlenlp.readthedocs.io/zh/latest/data_prepare/data_preprocess.html)"
   ]
  },
  {
   "cell_type": "code",
   "execution_count": 11,
   "metadata": {},
   "outputs": [
    {
     "name": "stdout",
     "output_type": "stream",
     "text": [
      "Stacked Data: \n",
      " [[1 2 3 4]\n",
      " [3 4 5 6]\n",
      " [5 6 7 8]]\n",
      "\n",
      "Padded Data: \n",
      " [[1 2 3 4]\n",
      " [5 6 7 0]\n",
      " [8 9 0 0]]\n",
      "\n",
      "ids: \n",
      " [[1 2 3 4]\n",
      " [5 6 7 0]\n",
      " [8 9 0 0]]\n",
      "\n",
      "labels: \n",
      " [[1]\n",
      " [0]\n",
      " [1]]\n",
      "\n"
     ]
    }
   ],
   "source": [
    "from paddlenlp.data import Stack, Pad, Tuple\n",
    "a = [1, 2, 3, 4]\n",
    "b = [3, 4, 5, 6]\n",
    "c = [5, 6, 7, 8]\n",
    "result = Stack()([a, b, c])\n",
    "print(\"Stacked Data: \\n\", result)\n",
    "print()\n",
    "\n",
    "a = [1, 2, 3, 4]\n",
    "b = [5, 6, 7]\n",
    "c = [8, 9]\n",
    "result = Pad(pad_val=0)([a, b, c])\n",
    "print(\"Padded Data: \\n\", result)\n",
    "print()\n",
    "\n",
    "data = [\n",
    "        [[1, 2, 3, 4], [1]],\n",
    "        [[5, 6, 7], [0]],\n",
    "        [[8, 9], [1]],\n",
    "       ]\n",
    "batchify_fn = Tuple(Pad(pad_val=0), Stack())\n",
    "ids, labels = batchify_fn(data)\n",
    "print(\"ids: \\n\", ids)\n",
    "print()\n",
    "print(\"labels: \\n\", labels)\n",
    "print()"
   ]
  },
  {
   "cell_type": "code",
   "execution_count": 12,
   "metadata": {},
   "outputs": [],
   "source": [
    "# 我们的训练数据会返回 input_ids, token_type_ids, labels 3 个字段\n",
    "# 因此针对这 3 个字段需要分别定义 3 个组 batch 操作\n",
    "batchify_fn = lambda samples, fn=Tuple(\n",
    "    Pad(axis=0, pad_val=tokenizer.pad_token_id),  # input_ids\n",
    "    Pad(axis=0, pad_val=tokenizer.pad_token_type_id),  # token_type_ids\n",
    "    Stack(dtype=\"int64\")  # label\n",
    "): [data for data in fn(samples)]"
   ]
  },
  {
   "cell_type": "markdown",
   "metadata": {},
   "source": [
    "#### 定义 Dataloader\n",
    "下面我们基于组 batchify_fn 函数和样本转换函数 trans_func 来构造训练集的 DataLoader, 支持多卡训练\n"
   ]
  },
  {
   "cell_type": "code",
   "execution_count": 13,
   "metadata": {},
   "outputs": [],
   "source": [
    "\n",
    "# 定义分布式 Sampler: 自动对训练数据进行切分，支持多卡并行训练\n",
    "batch_sampler = paddle.io.DistributedBatchSampler(train_ds, batch_size=32, shuffle=True)\n",
    "\n",
    "# 基于 train_ds 定义 train_data_loader\n",
    "# 因为我们使用了分布式的 DistributedBatchSampler, train_data_loader 会自动对训练数据进行切分\n",
    "train_data_loader = paddle.io.DataLoader(\n",
    "        dataset=train_ds.map(trans_func),\n",
    "        batch_sampler=batch_sampler,\n",
    "        collate_fn=batchify_fn,\n",
    "        return_list=True)\n",
    "\n",
    "# 针对验证集数据加载，我们使用单卡进行评估，所以采用 paddle.io.BatchSampler 即可\n",
    "# 定义 dev_data_loader\n",
    "batch_sampler = paddle.io.BatchSampler(dev_ds, batch_size=32, shuffle=False)\n",
    "dev_data_loader = paddle.io.DataLoader(\n",
    "        dataset=dev_ds.map(trans_func),\n",
    "        batch_sampler=batch_sampler,\n",
    "        collate_fn=batchify_fn,\n",
    "        return_list=True)"
   ]
  },
  {
   "cell_type": "markdown",
   "metadata": {},
   "source": [
    "### 2.3 模型搭建\n",
    "\n",
    "自从 2018 年 10 月以来，NLP 个领域的任务都通过 Pretrain + Finetune 的模式相比传统 DNN 方法在效果上取得了显著的提升，本节我们以百度开源的预训练模型 ERNIE-Gram 为基础模型，在此之上构建 Point-wise 语义匹配网络。\n",
    "\n",
    "首先我们来定义网络结构:"
   ]
  },
  {
   "cell_type": "code",
   "execution_count": null,
   "metadata": {},
   "outputs": [
    {
     "name": "stderr",
     "output_type": "stream",
     "text": [
      "\u001b[32m[2021-06-10 00:50:40,544] [    INFO]\u001b[0m - Downloading https://paddlenlp.bj.bcebos.com/models/transformers/ernie_gram_zh/ernie_gram_zh.pdparams and saved to /Users/wzx/.paddlenlp/models/ernie-gram-zh\u001b[0m\n",
      "\u001b[32m[2021-06-10 00:50:40,546] [    INFO]\u001b[0m - Downloading ernie_gram_zh.pdparams from https://paddlenlp.bj.bcebos.com/models/transformers/ernie_gram_zh/ernie_gram_zh.pdparams\u001b[0m\n",
      "  7%|▋         | 43411/583566 [00:58<09:10, 981.67it/s] "
     ]
    }
   ],
   "source": [
    "import paddle.nn as nn\n",
    "\n",
    "# 我们基于 ERNIE-Gram 模型结构搭建 Point-wise 语义匹配网络\n",
    "# 所以此处先定义 ERNIE-Gram 的 pretrained_model\n",
    "pretrained_model = paddlenlp.transformers.ErnieGramModel.from_pretrained('ernie-gram-zh')\n",
    "#pretrained_model = paddlenlp.transformers.ErnieModel.from_pretrained('ernie-1.0')\n",
    "\n",
    "\n",
    "class PointwiseMatching(nn.Layer):\n",
    "   \n",
    "    # 此处的 pretained_model 在本例中会被 ERNIE-Gram 预训练模型初始化\n",
    "    def __init__(self, pretrained_model, dropout=None):\n",
    "        super().__init__()\n",
    "        self.ptm = pretrained_model\n",
    "        self.dropout = nn.Dropout(dropout if dropout is not None else 0.1)\n",
    "\n",
    "        # 语义匹配任务: 相似、不相似 2 分类任务\n",
    "        self.classifier = nn.Linear(self.ptm.config[\"hidden_size\"], 2)\n",
    "\n",
    "    def forward(self,\n",
    "                input_ids,\n",
    "                token_type_ids=None,\n",
    "                position_ids=None,\n",
    "                attention_mask=None):\n",
    "\n",
    "        # 此处的 Input_ids 由两条文本的 token ids 拼接而成\n",
    "        # token_type_ids 表示两段文本的类型编码\n",
    "        # 返回的 cls_embedding 就表示这两段文本经过模型的计算之后而得到的语义表示向量\n",
    "        _, cls_embedding = self.ptm(input_ids, token_type_ids, position_ids,\n",
    "                                    attention_mask)\n",
    "\n",
    "        cls_embedding = self.dropout(cls_embedding)\n",
    "\n",
    "        # 基于文本对的语义表示向量进行 2 分类任务\n",
    "        logits = self.classifier(cls_embedding)\n",
    "        probs = F.softmax(logits)\n",
    "\n",
    "        return probs\n",
    "\n",
    "# 定义 Point-wise 语义匹配网络\n",
    "model = PointwiseMatching(pretrained_model)"
   ]
  },
  {
   "cell_type": "markdown",
   "metadata": {},
   "source": [
    "### 2.4 模型训练 & 评估"
   ]
  },
  {
   "cell_type": "code",
   "execution_count": null,
   "metadata": {},
   "outputs": [],
   "source": [
    "from paddlenlp.transformers import LinearDecayWithWarmup\n",
    "\n",
    "epochs = 3\n",
    "num_training_steps = len(train_data_loader) * epochs\n",
    "\n",
    "# 定义 learning_rate_scheduler，负责在训练过程中对 lr 进行调度\n",
    "lr_scheduler = LinearDecayWithWarmup(5E-5, num_training_steps, 0.0)\n",
    "\n",
    "# Generate parameter names needed to perform weight decay.\n",
    "# All bias and LayerNorm parameters are excluded.\n",
    "decay_params = [\n",
    "    p.name for n, p in model.named_parameters()\n",
    "    if not any(nd in n for nd in [\"bias\", \"norm\"])\n",
    "]\n",
    "\n",
    "# 定义 Optimizer\n",
    "optimizer = paddle.optimizer.AdamW(\n",
    "    learning_rate=lr_scheduler,\n",
    "    parameters=model.parameters(),\n",
    "    weight_decay=0.0,\n",
    "    apply_decay_param_fun=lambda x: x in decay_params)\n",
    "\n",
    "# 采用交叉熵 损失函数\n",
    "criterion = paddle.nn.loss.CrossEntropyLoss()\n",
    "\n",
    "# 评估的时候采用准确率指标\n",
    "metric = paddle.metric.Accuracy()"
   ]
  },
  {
   "cell_type": "code",
   "execution_count": null,
   "metadata": {},
   "outputs": [],
   "source": [
    "# 因为训练过程中同时要在验证集进行模型评估，因此我们先定义评估函数\n",
    "\n",
    "@paddle.no_grad()\n",
    "def evaluate(model, criterion, metric, data_loader, phase=\"dev\"):\n",
    "    model.eval()\n",
    "    metric.reset()\n",
    "    losses = []\n",
    "    for batch in data_loader:\n",
    "        input_ids, token_type_ids, labels = batch\n",
    "        probs = model(input_ids=input_ids, token_type_ids=token_type_ids)\n",
    "        loss = criterion(probs, labels)\n",
    "        losses.append(loss.numpy())\n",
    "        correct = metric.compute(probs, labels)\n",
    "        metric.update(correct)\n",
    "        accu = metric.accumulate()\n",
    "    print(\"eval {} loss: {:.5}, accu: {:.5}\".format(phase,\n",
    "                                                    np.mean(losses), accu))\n",
    "    model.train()\n",
    "    metric.reset()"
   ]
  },
  {
   "cell_type": "code",
   "execution_count": null,
   "metadata": {},
   "outputs": [],
   "source": [
    "# 接下来，开始正式训练模型，训练时间较长，可注释掉这部分\n",
    "\n",
    "global_step = 0\n",
    "tic_train = time.time()\n",
    "\n",
    "for epoch in range(1, epochs + 1):\n",
    "    for step, batch in enumerate(train_data_loader, start=1):\n",
    "\n",
    "        input_ids, token_type_ids, labels = batch\n",
    "        probs = model(input_ids=input_ids, token_type_ids=token_type_ids)\n",
    "        loss = criterion(probs, labels)\n",
    "        correct = metric.compute(probs, labels)\n",
    "        metric.update(correct)\n",
    "        acc = metric.accumulate()\n",
    "\n",
    "        global_step += 1\n",
    "        \n",
    "        # 每间隔 10 step 输出训练指标\n",
    "        if global_step % 10 == 0:\n",
    "            print(\n",
    "                \"global step %d, epoch: %d, batch: %d, loss: %.5f, accu: %.5f, speed: %.2f step/s\"\n",
    "                % (global_step, epoch, step, loss, acc,\n",
    "                    10 / (time.time() - tic_train)))\n",
    "            tic_train = time.time()\n",
    "        loss.backward()\n",
    "        optimizer.step()\n",
    "        lr_scheduler.step()\n",
    "        optimizer.clear_grad()\n",
    "\n",
    "        # 每间隔 100 step 在验证集和测试集上进行评估\n",
    "        if global_step % 100 == 0:\n",
    "            evaluate(model, criterion, metric, dev_data_loader, \"dev\")\n",
    "            \n",
    "# 训练结束后，存储模型参数\n",
    "save_dir = os.path.join(\"checkpoint\", \"model_%d\" % global_step)\n",
    "os.makedirs(save_dir)\n",
    "\n",
    "save_param_path = os.path.join(save_dir, 'model_state.pdparams')\n",
    "paddle.save(model.state_dict(), save_param_path)\n",
    "tokenizer.save_pretrained(save_dir)"
   ]
  },
  {
   "cell_type": "markdown",
   "metadata": {},
   "source": [
    "模型训练过程中会输出如下日志:\n",
    "```\n",
    "global step 5310, epoch: 3, batch: 1578, loss: 0.31671, accu: 0.95000, speed: 0.63 step/s\n",
    "global step 5320, epoch: 3, batch: 1588, loss: 0.36240, accu: 0.94063, speed: 6.98 step/s\n",
    "global step 5330, epoch: 3, batch: 1598, loss: 0.41451, accu: 0.93854, speed: 7.40 step/s\n",
    "global step 5340, epoch: 3, batch: 1608, loss: 0.31327, accu: 0.94063, speed: 7.01 step/s\n",
    "global step 5350, epoch: 3, batch: 1618, loss: 0.40664, accu: 0.93563, speed: 7.83 step/s\n",
    "global step 5360, epoch: 3, batch: 1628, loss: 0.33064, accu: 0.93958, speed: 7.34 step/s\n",
    "global step 5370, epoch: 3, batch: 1638, loss: 0.38411, accu: 0.93795, speed: 7.72 step/s\n",
    "global step 5380, epoch: 3, batch: 1648, loss: 0.35376, accu: 0.93906, speed: 7.92 step/s\n",
    "global step 5390, epoch: 3, batch: 1658, loss: 0.39706, accu: 0.93924, speed: 7.47 step/s\n",
    "global step 5400, epoch: 3, batch: 1668, loss: 0.41198, accu: 0.93781, speed: 7.41 step/s\n",
    "eval dev loss: 0.4177, accu: 0.89082\n",
    "global step 5410, epoch: 3, batch: 1678, loss: 0.34453, accu: 0.93125, speed: 0.63 step/s\n",
    "global step 5420, epoch: 3, batch: 1688, loss: 0.34569, accu: 0.93906, speed: 7.75 step/s\n",
    "global step 5430, epoch: 3, batch: 1698, loss: 0.39160, accu: 0.92917, speed: 7.54 step/s\n",
    "global step 5440, epoch: 3, batch: 1708, loss: 0.46002, accu: 0.93125, speed: 7.05 step/s\n",
    "global step 5450, epoch: 3, batch: 1718, loss: 0.32302, accu: 0.93188, speed: 7.14 step/s\n",
    "global step 5460, epoch: 3, batch: 1728, loss: 0.40802, accu: 0.93281, speed: 7.22 step/s\n",
    "global step 5470, epoch: 3, batch: 1738, loss: 0.34607, accu: 0.93348, speed: 7.44 step/s\n",
    "global step 5480, epoch: 3, batch: 1748, loss: 0.34709, accu: 0.93398, speed: 7.38 step/s\n",
    "global step 5490, epoch: 3, batch: 1758, loss: 0.31814, accu: 0.93437, speed: 7.39 step/s\n",
    "global step 5500, epoch: 3, batch: 1768, loss: 0.42689, accu: 0.93125, speed: 7.74 step/s\n",
    "eval dev loss: 0.41789, accu: 0.88968\n",
    "```"
   ]
  },
  {
   "cell_type": "markdown",
   "metadata": {},
   "source": [
    "基于默认参数配置进行单卡训练大概要持续 4 个小时左右，会训练完成 3 个 Epoch, 模型最终的收敛指标结果如下:\n",
    "\n",
    "\n",
    "| 数据集 | Accuracy |\n",
    "| -------- | -------- |\n",
    "| dev.tsv     | 89.62  |\n",
    "\n",
    "可以看到: 我们基于 PaddleNLP ，利用 ERNIE-Gram 预训练模型使用非常简洁的代码，就在权威语义匹配数据集上取得了很不错的效果."
   ]
  },
  {
   "cell_type": "markdown",
   "metadata": {},
   "source": [
    "### 2.5 模型预测\n",
    "\n",
    "接下来我们使用已经训练好的语义匹配模型对一些预测数据进行预测。待预测数据为每行都是文本对的 tsv 文件，我们使用 Lcqmc 数据集的测试集作为我们的预测数据，进行预测并提交预测结果到 [千言文本相似度竞赛](https://aistudio.baidu.com/aistudio/competition/detail/45)\n",
    "\n",
    "下载我们已经训练好的语义匹配模型, 并解压"
   ]
  },
  {
   "cell_type": "code",
   "execution_count": 18,
   "metadata": {},
   "outputs": [
    {
     "name": "stdout",
     "output_type": "stream",
     "text": [
      "--2021-06-10 14:29:00--  https://paddlenlp.bj.bcebos.com/models/text_matching/ernie_gram_zh_pointwise_matching_model.tar\n",
      "Resolving paddlenlp.bj.bcebos.com (paddlenlp.bj.bcebos.com)... 182.61.200.195, 182.61.200.229, 2409:8c00:6c21:10ad:0:ff:b00e:67d\n",
      "Connecting to paddlenlp.bj.bcebos.com (paddlenlp.bj.bcebos.com)|182.61.200.195|:443... connected.\n",
      "HTTP request sent, awaiting response... 200 OK\n",
      "Length: 597667840 (570M) [application/x-tar]\n",
      "Saving to: ‘ernie_gram_zh_pointwise_matching_model.tar.1’\n",
      "\n",
      "ernie_gram_zh_point 100%[===================>] 569.98M  45.9MB/s    in 19s     \n",
      "\n",
      "2021-06-10 14:29:19 (30.2 MB/s) - ‘ernie_gram_zh_pointwise_matching_model.tar.1’ saved [597667840/597667840]\n",
      "\n",
      "ernie_gram_zh_pointwise_matching_model/\n",
      "ernie_gram_zh_pointwise_matching_model/model_state.pdparams\n",
      "ernie_gram_zh_pointwise_matching_model/vocab.txt\n",
      "ernie_gram_zh_pointwise_matching_model/tokenizer_config.json\n"
     ]
    }
   ],
   "source": [
    "# 下载我们基于 Lcqmc 事先训练好的语义匹配模型并解压\n",
    "! wget https://paddlenlp.bj.bcebos.com/models/text_matching/ernie_gram_zh_pointwise_matching_model.tar\n",
    "! tar -xvf ernie_gram_zh_pointwise_matching_model.tar"
   ]
  },
  {
   "cell_type": "code",
   "execution_count": null,
   "metadata": {},
   "outputs": [],
   "source": [
    "# 测试数据由 2 列文本构成 tab 分隔\n",
    "# Lcqmc 默认下载到如下路径\n",
    "! head -n3 \"${HOME}/.paddlenlp/datasets/LCQMC/lcqmc/lcqmc/test.tsv\""
   ]
  },
  {
   "cell_type": "markdown",
   "metadata": {},
   "source": [
    "#### 定义预测函数"
   ]
  },
  {
   "cell_type": "code",
   "execution_count": 20,
   "metadata": {},
   "outputs": [],
   "source": [
    "\n",
    "def predict(model, data_loader):\n",
    "    \n",
    "    batch_probs = []\n",
    "\n",
    "    # 预测阶段打开 eval 模式，模型中的 dropout 等操作会关掉\n",
    "    model.eval()\n",
    "\n",
    "    with paddle.no_grad():\n",
    "        for batch_data in data_loader:\n",
    "            input_ids, token_type_ids = batch_data\n",
    "            input_ids = paddle.to_tensor(input_ids)\n",
    "            token_type_ids = paddle.to_tensor(token_type_ids)\n",
    "            \n",
    "            # 获取每个样本的预测概率: [batch_size, 2] 的矩阵\n",
    "            batch_prob = model(\n",
    "                input_ids=input_ids, token_type_ids=token_type_ids).numpy()\n",
    "\n",
    "            batch_probs.append(batch_prob)\n",
    "        batch_probs = np.concatenate(batch_probs, axis=0)\n",
    "\n",
    "        return batch_probs"
   ]
  },
  {
   "cell_type": "markdown",
   "metadata": {},
   "source": [
    "#### 定义预测数据的 data_loader"
   ]
  },
  {
   "cell_type": "code",
   "execution_count": 21,
   "metadata": {},
   "outputs": [],
   "source": [
    "# 预测数据的转换函数\n",
    "# predict 数据没有 label, 因此 convert_exmaple 的 is_test 参数设为 True\n",
    "trans_func = partial(\n",
    "    convert_example,\n",
    "    tokenizer=tokenizer,\n",
    "    max_seq_length=512,\n",
    "    is_test=True)\n",
    "\n",
    "# 预测数据的组 batch 操作\n",
    "# predict 数据只返回 input_ids 和 token_type_ids，因此只需要 2 个 Pad 对象作为 batchify_fn\n",
    "batchify_fn = lambda samples, fn=Tuple(\n",
    "    Pad(axis=0, pad_val=tokenizer.pad_token_id),  # input_ids\n",
    "    Pad(axis=0, pad_val=tokenizer.pad_token_type_id),  # segment_ids\n",
    "): [data for data in fn(samples)]\n",
    "\n",
    "# 加载预测数据\n",
    "test_ds = load_dataset(\"lcqmc\", splits=[\"test\"])"
   ]
  },
  {
   "cell_type": "code",
   "execution_count": 22,
   "metadata": {},
   "outputs": [],
   "source": [
    "batch_sampler = paddle.io.BatchSampler(test_ds, batch_size=32, shuffle=False)\n",
    "\n",
    "# 生成预测数据 data_loader\n",
    "predict_data_loader =paddle.io.DataLoader(\n",
    "        dataset=test_ds.map(trans_func),\n",
    "        batch_sampler=batch_sampler,\n",
    "        collate_fn=batchify_fn,\n",
    "        return_list=True)"
   ]
  },
  {
   "cell_type": "markdown",
   "metadata": {},
   "source": [
    "#### 定义预测模型"
   ]
  },
  {
   "cell_type": "code",
   "execution_count": 25,
   "metadata": {},
   "outputs": [
    {
     "name": "stderr",
     "output_type": "stream",
     "text": [
      "[2021-06-10 14:38:34,760] [    INFO] - Already cached /home/aistudio/.paddlenlp/models/ernie-gram-zh/ernie_gram_zh.pdparams\n"
     ]
    }
   ],
   "source": [
    "# 选择预训练ernie gram，填写自己的代码\n",
    "pretrained_model = paddlenlp.transformers.ErnieGramModel.from_pretrained('ernie-gram-zh')\n",
    "\n",
    "model = PointwiseMatching(pretrained_model)"
   ]
  },
  {
   "cell_type": "markdown",
   "metadata": {},
   "source": [
    "#### 加载已训练好的模型参数"
   ]
  },
  {
   "cell_type": "code",
   "execution_count": 26,
   "metadata": {},
   "outputs": [],
   "source": [
    "# 刚才下载的模型解压之后存储路径为 ./ernie_gram_zh_pointwise_matching_model/model_state.pdparams\n",
    "state_dict = paddle.load(\"./ernie_gram_zh_pointwise_matching_model/model_state.pdparams\")\n",
    "\n",
    "# 刚才下载的模型解压之后存储路径为 ./pointwise_matching_model/ernie1.0_base_pointwise_matching.pdparams\n",
    "# state_dict = paddle.load(\"pointwise_matching_model/ernie1.0_base_pointwise_matching.pdparams\")\n",
    "model.set_dict(state_dict)"
   ]
  },
  {
   "cell_type": "markdown",
   "metadata": {},
   "source": [
    "#### 开始预测"
   ]
  },
  {
   "cell_type": "code",
   "execution_count": 27,
   "metadata": {},
   "outputs": [
    {
     "name": "stdout",
     "output_type": "stream",
     "text": [
      "[Tensor(shape=[32, 38], dtype=int64, place=CUDAPinnedPlace, stop_gradient=True,\n",
      "       [[1   , 1022, 9   , ..., 0   , 0   , 0   ],\n",
      "        [1   , 514 , 904 , ..., 0   , 0   , 0   ],\n",
      "        [1   , 47  , 10  , ..., 0   , 0   , 0   ],\n",
      "        ...,\n",
      "        [1   , 733 , 404 , ..., 0   , 0   , 0   ],\n",
      "        [1   , 134 , 170 , ..., 0   , 0   , 0   ],\n",
      "        [1   , 379 , 3122, ..., 0   , 0   , 0   ]]), Tensor(shape=[32, 38], dtype=int64, place=CUDAPinnedPlace, stop_gradient=True,\n",
      "       [[0, 0, 0, ..., 0, 0, 0],\n",
      "        [0, 0, 0, ..., 0, 0, 0],\n",
      "        [0, 0, 0, ..., 0, 0, 0],\n",
      "        ...,\n",
      "        [0, 0, 0, ..., 0, 0, 0],\n",
      "        [0, 0, 0, ..., 0, 0, 0],\n",
      "        [0, 0, 0, ..., 0, 0, 0]])]\n"
     ]
    }
   ],
   "source": [
    "for idx, batch in enumerate(predict_data_loader):\n",
    "    if idx < 1:\n",
    "        print(batch)"
   ]
  },
  {
   "cell_type": "code",
   "execution_count": 28,
   "metadata": {},
   "outputs": [],
   "source": [
    "# 执行预测函数\n",
    "y_probs = predict(model, predict_data_loader)\n",
    "\n",
    "# 根据预测概率获取预测 label\n",
    "y_preds = np.argmax(y_probs, axis=1)"
   ]
  },
  {
   "cell_type": "markdown",
   "metadata": {},
   "source": [
    "#### 输出预测结果"
   ]
  },
  {
   "cell_type": "code",
   "execution_count": null,
   "metadata": {},
   "outputs": [
    {
     "name": "stdout",
     "output_type": "stream",
     "text": [
      "\n",
      "{'query': '我得了神经病怎么办', 'title': '我是神经病是什么歌', 'label': 0}\n",
      "{'query': '橄榄油有些什么功效？', 'title': '橄榄油精华有什么作用', 'label': 0}\n",
      "{'query': '谁知道这是什么鸟啊', 'title': '谁知道这是什么', 'label': 0}\n",
      "{'query': '怎么设置中文', 'title': '怎么设置中文？', 'label': 1}\n",
      "{'query': '怎么找回电话号码', 'title': '该怎么找回电话号码！', 'label': 1}\n",
      "{'query': '求蓝男色全部资源', 'title': '求蓝男色资源。', 'label': 1}\n",
      "{'query': '报关单如何查询', 'title': '如何查询报关单号', 'label': 1}\n",
      "{'query': '温州有什么好玩的地方？', 'title': '温州什么地方最好玩', 'label': 1}\n",
      "{'query': '欠你的幸福繁体字怎么写', 'title': '愿你幸福的繁体字怎样写', 'label': 0}\n",
      "{'query': '酷派大神好不好用，', 'title': '酷派大神怎么样，好不好', 'label': 1}\n",
      "{'query': '怎么清洗手机屏幕', 'title': '手机屏幕怎么清洗？', 'label': 1}\n",
      "{'query': '才干的近义词是什么？', 'title': '才干的进近义词是什么？', 'label': 1}\n",
      "{'query': '男生怎么留刘海', 'title': '如何剪刘海是男生的', 'label': 0}\n",
      "{'query': '清华同方的平板电脑怎么样', 'title': '清华同方笔记本电脑怎么样', 'label': 1}\n",
      "{'query': '数据结构都有哪些', 'title': '关于数据结构的题', 'label': 0}\n",
      "{'query': '月字加一笔是什么字', 'title': '旧．这个字加一笔是什么字', 'label': 0}\n",
      "{'query': '张爱玲有哪些经典作品', 'title': '张爱玲有哪些小说比较受欢迎', 'label': 1}\n",
      "{'query': '你们还相信爱情吗？', 'title': '你还相信爱情吗？', 'label': 1}\n",
      "{'query': '性取向要怎么改变', 'title': '如何改变性取向', 'label': 1}\n",
      "{'query': '给设计公司起名', 'title': '帮设计公司起名', 'label': 1}\n",
      "{'query': '孕妇补血吃什么好？', 'title': '孕妇吃什么最补血', 'label': 1}\n",
      "{'query': '青年医生很好看的', 'title': '青年医生好看不', 'label': 1}\n",
      "{'query': '支付宝手机怎么收款', 'title': '如何用手机支付宝收款', 'label': 1}\n",
      "{'query': '男人为什么喜欢吃女人的乳房', 'title': '男人为什么喜欢摸乳房', 'label': 0}\n",
      "{'query': '在电影院里是什么客', 'title': '电影院是什么', 'label': 0}\n",
      "{'query': '小学生家长意见怎样写', 'title': '小学生家长意见怎样写？', 'label': 1}\n",
      "{'query': '我早泄如何治疗', 'title': '早泄要怎么治疗', 'label': 1}\n",
      "{'query': '在唯品会怎么开店', 'title': '唯品会怎么开店', 'label': 1}\n",
      "{'query': '小米手机怎么清理缓存', 'title': '小米手机内存里的其他怎么清理', 'label': 0}\n",
      "{'query': '这样的脸型适合中分吗？', 'title': '她是什么脸型，适合中分吗？', 'label': 1}\n",
      "{'query': '北京哪里好吃？', 'title': '北京的饭哪里最好吃？', 'label': 1}\n",
      "{'query': '雌性激素高的食物有哪些', 'title': '含有雌激素的食物有哪些', 'label': 1}\n",
      "{'query': '有什么科技小制作？', 'title': '科技小制作有什么？', 'label': 1}\n",
      "{'query': '小眼睛有什么成语形容', 'title': '形容眼睛一眨不眨的成语是什么', 'label': 0}\n",
      "{'query': '什么是变形计？', 'title': '变形计什么时候放？', 'label': 0}\n",
      "{'query': '有人知道图片上的人是谁吗。', 'title': '这个图片有人知道吗', 'label': 1}\n",
      "{'query': '谁有《诱爱妩冰》的全文', 'title': '谁有《剩女不淑》全文！', 'label': 0}\n",
      "{'query': '用手机怎么注册谷歌账号？', 'title': '手机如何注册谷歌账号', 'label': 1}\n",
      "{'query': '伤心听什么歌', 'title': '什么事让我最伤心？', 'label': 0}\n",
      "{'query': '有效安全的丰胸产品有哪些?', 'title': '丰胸产品哪些安全有效？', 'label': 1}\n",
      "{'query': '世界上哪个国家的女人最漂亮?', 'title': '世界上最漂亮的女人是哪个国家的', 'label': 1}\n",
      "{'query': '求淘宝店名，有个性的', 'title': '求淘宝个性店名', 'label': 1}\n",
      "{'query': '整容成功率高么？', 'title': '整容成功率高吗？', 'label': 1}\n",
      "{'query': '蓝色衣服藏青色裤子配什么颜色鞋好', 'title': '藏青色裤子搭配什么颜色的鞋子好', 'label': 1}\n",
      "{'query': '今天北京下雨了吗', 'title': '今天北京会下雨吗', 'label': 1}\n",
      "{'query': '雪莲果怎么吃', 'title': '干雪莲怎么吃？', 'label': 0}\n",
      "{'query': '这个是什么播放器？', 'title': '这个是什么播放器', 'label': 1}\n",
      "{'query': '生活中的传统文化有哪些?', 'title': '生活中的传统文化有哪些', 'label': 1}\n",
      "{'query': '女人用什么网名好', 'title': '女人取什么网名好', 'label': 1}\n",
      "{'query': '用手机怎样设置路由器。', 'title': '手机怎么设置路由器', 'label': 1}\n",
      "{'query': '这些韩文是什么意思？', 'title': '韩文中什么意思', 'label': 1}\n",
      "{'query': '网络黑客指的是什么人？', 'title': '网络黑客是什么', 'label': 1}\n",
      "{'query': '情人节应该送女朋友什么礼物好', 'title': '情人节应该给女朋友送什么礼物', 'label': 1}\n",
      "{'query': '怎么拿银行卡开通快捷支付？', 'title': '怎么把银行卡开通快捷支付？', 'label': 1}\n",
      "{'query': '今天是什么日子', 'title': '今天什么日子?', 'label': 1}\n",
      "{'query': '谁能帮我设计个图标', 'title': '谁会设计花的图标', 'label': 0}\n",
      "{'query': '百度如何上传文件', 'title': '在百度贴吧里怎么上传文件？', 'label': 1}\n",
      "{'query': '中心圈是什么？', 'title': '观刈麦的中心句是什么？', 'label': 0}\n",
      "{'query': '就业失业登记证有什么用', 'title': '就业失业登记证有什么用？', 'label': 1}\n",
      "{'query': '什么播放器可以看世界杯直播？', 'title': '用什么播放器看世界杯直播', 'label': 1}\n",
      "{'query': '剑灵捏人。求这个天族女的原数据', 'title': '求这个剑灵天族的捏人数据。', 'label': 1}\n",
      "{'query': '怎么知道对方有没有上微信', 'title': '微信上怎么看别人是否在线', 'label': 1}\n",
      "{'query': '求电影《雷横与朱仝》的下载地址', 'title': '求电影《毒吻》下载地址', 'label': 0}\n",
      "{'query': '只要有你是什么电视剧的主题曲？', 'title': '《你》是哪个电视剧的主题曲？', 'label': 1}\n",
      "{'query': '产妇喝什么下奶好啊', 'title': '产妇喝什么下奶', 'label': 1}\n",
      "{'query': '你在干什么，日语怎么说？', 'title': '“你们在干什么”日语怎么说', 'label': 0}\n",
      "{'query': '溜溜球在哪买', 'title': '溜溜球哪个好', 'label': 0}\n",
      "{'query': '画蛇添足里的其是什么意思', 'title': '画蛇添足的意思是什么？', 'label': 0}\n",
      "{'query': '草绿色搭配什么颜色好看', 'title': '草绿色和什么颜色搭配起最好看', 'label': 1}\n",
      "{'query': '给小孩怎么扎头发的图片', 'title': '儿童头发怎么扎好看图片和步骤', 'label': 1}\n",
      "{'query': '蛤蟆是什么？', 'title': '小蛤蟆吃什么', 'label': 0}\n",
      "{'query': '这是什么水果？有图。', 'title': '这是什么水果。怎么吃？', 'label': 1}\n",
      "{'query': '包皮手术后自己换药可以吗', 'title': '做完包皮手术后可以自己换药吗', 'label': 1}\n",
      "{'query': '过年卖什么挣钱', 'title': '过年卖什么最挣钱', 'label': 1}\n",
      "{'query': '打鸡血是什么意思', 'title': '鸡血是什么意思？', 'label': 1}\n",
      "{'query': '动感地带和全球通哪个好', 'title': '动感地带转全球通', 'label': 1}\n",
      "{'query': '好世界上最凶猛的狗是什么狗', 'title': '世界上什么鱼最凶猛', 'label': 0}\n",
      "{'query': '你在烦恼什么呢，', 'title': '烦恼是什么？', 'label': 0}\n",
      "{'query': '想和女朋友接吻要怎么说', 'title': '怎么和女朋友接吻啊？', 'label': 1}\n",
      "{'query': '你们对一个这样的男人怎么看', 'title': '怎么样才算一个好男人啊？', 'label': 0}\n",
      "{'query': '怎样钩有后跟的鞋子', 'title': '钩鞋子怎样钩图', 'label': 0}\n",
      "{'query': '触手剑是什么', 'title': '什么是触手系？', 'label': 0}\n",
      "{'query': '小灰机是什么？', 'title': '小灰机有什么用啊', 'label': 0}\n",
      "{'query': '怎么去买到电影票？', 'title': '电影票怎么买', 'label': 1}\n",
      "{'query': '大头儿子的爸爸叫什么?', 'title': '大头儿子小头爸爸是什么时候出的', 'label': 0}\n",
      "{'query': '影响的近义词是什么？', 'title': '影响的近义词是什么', 'label': 1}\n",
      "{'query': '我比较适合哪种，面膜~', 'title': '哪种面膜比较适合我?', 'label': 1}\n",
      "{'query': '这个女明星的名字？', 'title': '这个女明星名字叫什么？', 'label': 1}\n",
      "{'query': '我恨你英语怎么读', 'title': '为什么用英语怎么拼？', 'label': 0}\n",
      "{'query': '你的名字叫奇葩吗', 'title': '你的名字为什么取的那么奇葩？', 'label': 0}\n",
      "{'query': '关于前男友的报复，我该怎么做？', 'title': '怎么去报复前男友一家人。', 'label': 1}\n",
      "{'query': '怎么去除不干胶？', 'title': '怎样去除不干胶印', 'label': 1}\n",
      "{'query': '什么东西，长方形的', 'title': '有什么东西是长方形的！', 'label': 1}\n",
      "{'query': '舒查字典查什么部首', 'title': '表的查字典是什么部首', 'label': 0}\n",
      "{'query': '帮我起个好听的网名吧', 'title': '起个网名好听', 'label': 1}\n",
      "{'query': '有没有像问道的手游', 'title': '有没有哪个手游像问道的', 'label': 1}\n",
      "{'query': '摩尔庄园拉姆运动场在哪里', 'title': '摩尔庄园的拉姆运动场在哪里呀？', 'label': 1}\n",
      "{'query': '我的世界手机版有没有鞍', 'title': '我的世界手机版有没有鱼', 'label': 0}\n",
      "{'query': '斯怎么组词？(二个)', 'title': '毁怎么组词？(二个)', 'label': 0}\n",
      "{'query': '男朋友生日送什么？', 'title': '男朋友生日说什么', 'label': 0}\n",
      "{'query': '男生纹什么好看', 'title': '男生跳什么舞好看', 'label': 0}\n",
      "{'query': '如何备份手机通讯录', 'title': '手机通讯录怎么备份？', 'label': 1}\n",
      "{'query': '北海还有传销吗？', 'title': '北海是传销吗？', 'label': 1}\n",
      "{'query': '哒哒鸟的激活码', 'title': '给个激活码！', 'label': 0}\n",
      "{'query': '秋天有什么特点', 'title': '秋天风的特点是什么', 'label': 0}\n",
      "{'query': '淘宝模特叫什么？急', 'title': '淘宝的模特她叫什么', 'label': 1}\n",
      "{'query': '情侣之间送什么礼物啊', 'title': '情侣之间送什么礼物，有意义', 'label': 1}\n",
      "{'query': '谷歌地球怎么打不开了？', 'title': '谷歌地球怎么打不开', 'label': 1}\n",
      "{'query': '长方体的底面积怎么求？', 'title': '长方体的面积怎么做？', 'label': 1}\n",
      "{'query': '大便拉出血什么原因', 'title': '大便出血一般是什么原因', 'label': 1}\n",
      "{'query': '虾的尾巴起什么作用', 'title': '鱼的尾巴有什么作用', 'label': 0}\n",
      "{'query': '绝味鸭脖总部在哪里？', 'title': '绝味鸭脖的总部在哪里', 'label': 1}\n",
      "{'query': '南宁服装批发市场在哪里', 'title': '南宁的服装批发市场在哪里？', 'label': 1}\n",
      "{'query': '这是什么动物？', 'title': '这是什么动物', 'label': 1}\n",
      "{'query': '怎么领取支付宝红包', 'title': '怎样领取支付宝红包', 'label': 1}\n",
      "{'query': '大学生可以做什么挣钱', 'title': '大学生网上做什么赚钱', 'label': 1}\n",
      "{'query': '送奶奶什么礼物比较好', 'title': '送老公的奶奶生日礼物什么好呢，送', 'label': 1}\n",
      "{'query': '天天飞车经典模式怎么获得配件', 'title': '天天飞车经典模式配件怎么获得', 'label': 1}\n",
      "{'query': '我的世界材质包怎么下', 'title': '我的世界中的材质包怎么大', 'label': 0}\n",
      "{'query': '为什么大家都不看奥特曼啊', 'title': '奥特曼为什么哭了', 'label': 0}\n",
      "{'query': '淘宝网小媛非主流服饰的女模特叫什么名字', 'title': '淘宝网上夏娜，芸妃的女模特叫什么名字啊', 'label': 0}\n",
      "{'query': '微信怎么看好友在不在线？', 'title': '微信是怎么看好友在不在线', 'label': 1}\n",
      "{'query': '我爱上了我朋友的老婆怎么办', 'title': '我上了朋友的老婆怎么办', 'label': 1}\n",
      "{'query': '上海租房子哪里最便宜？', 'title': '上海哪里租房子便宜', 'label': 1}\n",
      "{'query': '好安逸是什么意思', 'title': '耍安逸是什么意思', 'label': 0}\n",
      "{'query': '求此动漫女名字', 'title': '求此动漫名字。', 'label': 1}\n",
      "{'query': '找一本古言小说}', 'title': '找一本小说，古言。', 'label': 1}\n",
      "{'query': '舅舅的儿子的儿子叫我什么', 'title': '我儿子叫我舅舅的儿子儿媳叫什么', 'label': 0}\n",
      "{'query': '青花瓷器图片', 'title': '元青花瓷图片', 'label': 0}\n",
      "{'query': '找一首粤语歌曲。', 'title': '求一首粤语歌曲！女的唱的！', 'label': 1}\n",
      "{'query': '我去年买了个表，什么意思', 'title': '我去年买了个表。是什么意思呀？', 'label': 1}\n",
      "{'query': '白菜怎么画', 'title': '怎么腌白菜。', 'label': 0}\n",
      "{'query': '怎样用手机发视频', 'title': '怎么样在手机上看视频', 'label': 0}\n",
      "{'query': '紫色代表什么？', 'title': '紫色代表什么', 'label': 1}\n",
      "{'query': '男皮鞋哪个牌子好？', 'title': '哪个牌子的皮鞋好？', 'label': 1}\n",
      "{'query': '南充哪里可以烧烤', 'title': '南充哪里可以租烧烤架', 'label': 0}\n",
      "{'query': '求共享个优酷会员账号', 'title': '求优酷会员账号共享}', 'label': 1}\n",
      "{'query': '欧巴是什么意思？', 'title': '欧巴是什么意思啊？', 'label': 1}\n",
      "{'query': '高个子女孩适合什么样的短发', 'title': '高个子女生适合什么样的发型', 'label': 1}\n",
      "{'query': '平度同和哪里招聘？', 'title': '平度哪里招聘男', 'label': 0}\n",
      "{'query': '求助，这个是什么字体呀？', 'title': '求助这个是什么字体？', 'label': 1}\n",
      "{'query': '澳洲有哪些块矿', 'title': '在澳洲的时候，', 'label': 0}\n",
      "{'query': '怎么样可以让眉毛变浓？而且多', 'title': '怎么可以使眉毛变浓？', 'label': 1}\n",
      "{'query': '求篡位吧全部广播剧下载啊', 'title': '求篡位吧广播剧下载', 'label': 1}\n",
      "{'query': '请问图片上的是什么花？谢谢', 'title': '请问图片里是什么花？谢谢', 'label': 1}\n",
      "{'query': '爸爸去哪儿一集多长时间', 'title': '爸爸去哪儿播出时间是多长', 'label': 1}\n",
      "{'query': '为什么所有车队都不能申请加入', 'title': '电子竞技为什么不能申请加入奥运会', 'label': 0}\n",
      "{'query': '什么行业赚钱', 'title': '做什么行业最赚钱', 'label': 1}\n",
      "{'query': '买什么悠悠球好', 'title': '什么悠悠球好', 'label': 1}\n",
      "{'query': '求曾轶可这张原图', 'title': '求这张榎本贵音的原图', 'label': 0}\n",
      "{'query': '求一部关于吸血鬼的电影', 'title': '找一部吸血鬼电影', 'label': 1}\n",
      "{'query': '求国外的一部电影', 'title': '求一部电影，国外的', 'label': 1}{'query': '新大唐双龙传', 'title': '大唐双龙传中', 'label': 1}\n",
      "{'query': '我表姐的儿子叫他什么？', 'title': '我儿子叫我的表姐叫什么', 'label': 0}\n",
      "{'query': '关于守护甜心所有的小说', 'title': '《守护甜心》小说', 'label': 1}\n",
      "{'query': '别人说肩膀宽是什么意思', 'title': '肩膀上有痔，有什么意思吗', 'label': 0}\n",
      "{'query': '淘宝导航怎么做的', 'title': '淘宝导航怎么改', 'label': 0}\n",
      "{'query': '推荐点手机游戏吧', 'title': '手机游戏推荐', 'label': 1}\n",
      "{'query': '龙泉驾校怎么停了', 'title': '龙泉驾校怎样？', 'label': 0}\n",
      "{'query': '火车是什么时候发明的', 'title': '电报是什么时候发明的', 'label': 0}\n",
      "{'query': '冬季呼吸道疾病如何预防', 'title': '如何预防小儿的呼吸道疾病呢', 'label': 0}\n",
      "{'query': '想给我女儿取个小名', 'title': '帮我女儿取个小名？', 'label': 1}\n",
      "{'query': '刚开始模特做什么', 'title': '这个模特叫什么', 'label': 0}\n",
      "{'query': '杨幂的孩子是谁', 'title': '杨幂怀了谁的孩子', 'label': 1}\n",
      "{'query': '看漫画哪个软件好', 'title': '好的画漫画的软件', 'label': 1}\n",
      "{'query': '异地买车本地上牌可以吗？', 'title': '本地买车异地上牌可以吗？', 'label': 1}\n",
      "{'query': '哪个牌子的空调质量好', 'title': '哪个品牌的空调质量最好', 'label': 1}\n",
      "{'query': '麦当劳和肯德基哪个好吃', 'title': '肯德基和麦当劳哪个好吃?', 'label': 1}\n",
      "{'query': '有火车司机吗', 'title': '火车司机好吗', 'label': 0}\n",
      "{'query': '时空猎人的兑换码是什么', 'title': '时空猎人兑换码是什么', 'label': 1}\n",
      "{'query': '如何投诉淘宝网', 'title': '在淘宝网上，如何投诉？', 'label': 1}\n",
      "{'query': '蚂蚁的牙齿是什么颜色的', 'title': '蚂蚁牙齿是什么颜色的？', 'label': 1}\n",
      "{'query': '我的百果园面膜有激素吗', 'title': '我的花果园面膜有激素吗', 'label': 1}\n",
      "{'query': '你喜欢的人名字是多少个字', 'title': '你最喜欢的名字是？', 'label': 0}\n",
      "{'query': '什么面膜最好？', 'title': '什么时候贴面膜最好？', 'label': 0}\n",
      "{'query': '为什么这么多人黑周星驰', 'title': '为什么周星驰被这么多人黑', 'label': 1}\n",
      "{'query': '这个石膏像是谁', 'title': '这个石膏像是什么啊？', 'label': 1}\n",
      "{'query': '汽车保险怎么买', 'title': '如何报汽车保险', 'label': 0}\n",
      "{'query': '什么牌子笔记本性价比高些', 'title': '请问现在什么牌子的笔记本性价比高', 'label': 1}\n",
      "{'query': '智能手机膜怎么贴', 'title': '智能手机怎么用', 'label': 0}\n",
      "{'query': '开心消消乐怎么玩', 'title': '开心消消乐怎么了', 'label': 1}\n",
      "{'query': '阿拉伯野燕麦怎么样？', 'title': '《阿拉伯野燕麦怎么样？好用吗》', 'label': 1}\n",
      "{'query': '请问圆形周长和面积怎么计算', 'title': '知道圆的面积怎么求周长', 'label': 1}\n",
      "{'query': '醋泡脚有什么好处啊', 'title': '醋喝了有什么好处', 'label': 0}\n",
      "{'query': '检验铝离子的方法', 'title': '检验碘离子的方法', 'label': 0}\n",
      "{'query': '三年级上科学', 'title': '三年级科学题', 'label': 1}\n",
      "{'query': '取个好听的网名', 'title': '给取个好听的网名吧', 'label': 1}\n",
      "{'query': '创业计划书怎么写', 'title': '创业计划书怎么写？', 'label': 1}\n",
      "{'query': '鸡最喜欢吃什么水果？', 'title': '牛喜欢吃什么水果', 'label': 0}\n",
      "{'query': '电信本地流量怎么关', 'title': '电信怎么开流量', 'label': 0}\n",
      "{'query': '亲爱哒是什么意思？', 'title': '亲爱的是什么意思？', 'label': 1}\n",
      "{'query': '谁知道千什么一什么的成语', 'title': '一什么十什么这个成语谁知道？', 'label': 0}\n",
      "{'query': '最近有什么好玩的网页游戏么？', 'title': '最近有什么好玩的网页游戏呀', 'label': 1}\n",
      "{'query': '什么老虎动物们见了都不怕？', 'title': '什么老虎没动物怕？', 'label': 1}\n",
      "{'query': '送给自己喜欢的人，该送什么礼物', 'title': '推销信用卡买什么礼物送最划算客户也喜欢', 'label': 0}\n",
      "{'query': '非诚勿扰好看吗？', 'title': '非诚勿扰好看吗', 'label': 1}\n",
      "{'query': '运动鞋批发上哪里', 'title': '批发运动鞋哪里有', 'label': 1}\n",
      "{'query': '聚精会神的意思是什么', 'title': '聚精会神是什么意思?', 'label': 1}\n",
      "{'query': '李嘉格的网店叫什么？', 'title': '李嘉格的网店叫什么', 'label': 1}\n",
      "{'query': '死飞自行车有什么危险？', 'title': '有什么类似死飞的自行车', 'label': 0}\n",
      "{'query': '许昌市哪个市', 'title': '许昌市是哪个省', 'label': 0}\n",
      "{'query': '最近有什么好看的节目吗？', 'title': '最近有什么好看的节目么？', 'label': 1}\n",
      "{'query': '元气少女缘结神第二季什么时候出？', 'title': '元气少女缘结神什么时候出第二季', 'label': 1}\n",
      "{'query': '百度浏览器怎么用', 'title': '百度浏览器怎么样？', 'label': 1}\n",
      "{'query': '天天炫斗怎么用话费充值贵族', 'title': '天天炫斗怎么充值q币贵族', 'label': 0}\n",
      "{'query': '手机保密码怎么破解？', 'title': '怎样破解别人的手机密码', 'label': 1}\n",
      "{'query': '手机上怎么查车辆违章', 'title': '手机如何查车辆违章', 'label': 1}\n",
      "{'query': '什么牌子的轮胎好', 'title': '轮胎什么牌子的好', 'label': 1}\n",
      "{'query': '绝味鸭脖怎么做？', 'title': '绝味鸭脖怎么样？', 'label': 0}\n",
      "{'query': '木还能加什么偏旁并组词', 'title': '还能加什么偏旁组词', 'label': 0}\n",
      "{'query': '白菜怎么超好吃', 'title': '干白菜怎么做好吃好吗', 'label': 0}\n",
      "{'query': '梦见自己的爱人死了，是怎么回事？', 'title': '梦见死去的爱人和自己发脾气怎么回事', 'label': 0}\n",
      "{'query': '求一本网游小说！急！', 'title': '求一本网游小说…', 'label': 1}\n",
      "{'query': '窗帘用什么颜色好看', 'title': '窗帘什么颜色好看', 'label': 1}\n",
      "{'query': '现在做什么最赚钱？', 'title': '现在养啥最赚钱', 'label': 0}\n",
      "{'query': '木瓜牛奶怎么煮？', 'title': '怎么做木瓜炖牛奶？', 'label': 1}\n",
      "{'query': '疾风之刃人是黑的', 'title': '疾风之刃的号求啊', 'label': 0}\n",
      "{'query': '红米手机好不好？', 'title': '红米手机好不好用？', 'label': 1}\n",
      "{'query': '投资现货白银选择哪家平台比较好', 'title': '现货白银怎么样去投资/哪家公司做现货白银好', 'label': 1}\n",
      "{'query': '什么牌子的醋最好吃啊', 'title': '什么牌子的手抓饼最好吃', 'label': 0}\n",
      "{'query': '你说什么。广东话怎么说', 'title': '用广东话怎么说', 'label': 0}\n",
      "{'query': '墨水有毒吗？', 'title': '墨水有毒吗？喝了会怎么样？', 'label': 1}\n",
      "{'query': '八个月宝宝可以吃肉吗', 'title': '八个月宝宝能吃油吗', 'label': 0}\n",
      "{'query': '你现在还好吗', 'title': '现在还好吗？', 'label': 1}\n",
      "{'query': '梦见孩子被猫抓是什么意思', 'title': '梦见自己孩子哭是什么意思', 'label': 0}\n",
      "{'query': '氧化汞分子是由什么构成的', 'title': '什么是由分子构成什么是有原子构成', 'label': 0}\n",
      "{'query': '我的世界编辑器', 'title': '我的世界怎么用编辑器', 'label': 1}\n",
      "{'query': '是金子总会发光的，这句话正确吗？', 'title': '“是金子总会发光的”这句话的出处和内涵', 'label': 0}\n",
      "{'query': '求重生穿越小说', 'title': '求重生对上穿越的小说', 'label': 1}\n",
      "{'query': '怎么删除微信好友？急', 'title': '微信怎么查删除好友', 'label': 1}\n",
      "{'query': '怎么做淘宝代理。好做吗', 'title': '淘宝代理怎么做', 'label': 1}\n",
      "{'query': '腊八粥怎么煮？', 'title': '腊八粥怎么做', 'label': 1}\n",
      "{'query': '类似超级学生的小说有那些？', 'title': '跟超级学生类似的小说有那些', 'label': 1}\n",
      "{'query': '减肥用什么产品好？', 'title': '什么减肥产品好？', 'label': 1}\n",
      "{'query': '什么样的女人更容易出轨？', 'title': '什么样的女人最容易出轨', 'label': 1}\n",
      "{'query': '邦的无线鼠标怎么拆', 'title': '无线鼠标怎么修', 'label': 0}\n",
      "{'query': '苹果解锁图怎么换', 'title': '苹果被锁了怎么解锁', 'label': 0}\n",
      "{'query': '有什么好的看电影的软件？', 'title': '有什么可以看电影的软件。', 'label': 1}\n",
      "{'query': '金华火腿怎么烧更好吃', 'title': '金华火腿怎么做好吃', 'label': 1}\n",
      "{'query': '梦见猫吃老鼠是什么意思', 'title': '梦见老鼠什么意思？', 'label': 0}\n",
      "{'query': '你喜欢的名字是什么？', 'title': '你喜欢的人名字是多少个字', 'label': 1}\n",
      "{'query': '什么牌子电脑音响好?', 'title': '什么牌子的电脑音响好', 'label': 1}\n",
      "{'query': '谁能查汽车的违章啊，', 'title': '怎么能查到汽车违章', 'label': 1}\n",
      "{'query': '梨花是什么颜色！', 'title': '梨花是什么颜色', 'label': 1}\n",
      "{'query': '电脑在哪里设置定时关机的', 'title': '电脑定时关机从哪里设置？', 'label': 1}\n",
      "{'query': '香蕉干怎么吃？', 'title': '怎样做香蕉片', 'label': 0}\n",
      "{'query': '马化腾和马云谁厉害', 'title': '马云和马化腾谁厉害？', 'label': 1}\n",
      "{'query': '压缩面膜用着怎么样', 'title': '压缩面膜哪个好怎么样', 'label': 1}\n",
      "{'query': '美女图片从哪里下载', 'title': '那里有下载美女图片的？', 'label': 1}\n",
      "{'query': '某韩语翻译成中文是什么', 'title': '这韩语翻译成中文是什么？', 'label': 1}\n",
      "{'query': '在线等艺术签名设计。', 'title': '艺术签名设计在线等', 'label': 1}\n",
      "{'query': '上网一般有什么好玩的了', 'title': '上网有什么好玩的！？', 'label': 1}\n",
      "{'query': '怎么下载英雄联盟', 'title': '英雄联盟怎么下载？', 'label': 1}\n",
      "{'query': '爱马仕长钱包怎么样', 'title': '爱马仕男钱包怎么样呢？', 'label': 0}\n",
      "{'query': '这样的纹身大概多少钱？', 'title': '纹这样的纹身大概多少钱？', 'label': 1}\n",
      "{'query': '怎样开通支付宝', 'title': '怎么样开通支付宝？', 'label': 1}\n",
      "{'query': '海口还是三亚美', 'title': '海口热还是三亚热？', 'label': 0}\n",
      "{'query': '怎样和男朋友聊天？', 'title': '怎么跟男朋友聊天', 'label': 1}\n",
      "{'query': '举世闻名的举是什么意思', 'title': '举世闻名的举是什么意思？', 'label': 1}\n",
      "{'query': '我的世界小黑吃什么', 'title': '我的世界小黑怕什么', 'label': 0}\n",
      "{'query': '我喜欢的人喜欢上了我最好的朋友', 'title': '我最好的朋友喜欢的人却喜欢上了我', 'label': 0}\n",
      "{'query': '跪求这个视频的背景音乐！', 'title': '跪求此视频背景音乐', 'label': 1}\n",
      "{'query': '这种高跟鞋叫什么鞋？', 'title': '谁见过这种高跟鞋', 'label': 0}\n",
      "{'query': '有什么好看的校园黑道小说啊', 'title': '有什么好看的黑道校园小说啊', 'label': 1}\n",
      "{'query': '花都有什么地方好玩？', 'title': '花都有什么好玩的地方', 'label': 1}\n",
      "{'query': '所有的足球动漫都有哪些', 'title': '所有关于足球的动漫', 'label': 1}\n",
      "{'query': '云播怎么不可以下载！', 'title': '怎样下载云播', 'label': 0}\n",
      "{'query': '有哪些明星吸毒被抓？', 'title': '2013年哪些明星吸毒被抓', 'label': 1}\n",
      "{'query': '有好听的中文歌曲么？', 'title': '有好听的中文歌曲吗？', 'label': 1}\n",
      "{'query': '最喜欢哪个明星', 'title': '你喜欢哪个明星？', 'label': 1}\n",
      "{'query': '求四系乃所有的本子。', 'title': '求四系乃本子', 'label': 1}\n",
      "{'query': '一个女人怎样和两个男人做', 'title': '两个男人玩一个女人怎么玩', 'label': 0}\n",
      "{'query': '商铺投资好吗', 'title': '如何找投资商铺的人', 'label': 0}\n",
      "{'query': '的确的近义词是什么', 'title': '甜的近义词是什么', 'label': 0}\n",
      "{'query': '合肥有啥好吃的', 'title': '合肥有什么好吃的啊', 'label': 1}\n",
      "{'query': '找一部印度电影', 'title': '求一部印度电影！', 'label': 1}\n",
      "{'query': '橄榄油能喝吗', 'title': '橄榄油擦脸好吗', 'label': 0}\n",
      "{'query': '都有哪些运动可以减肚子啊', 'title': '什么样的运动可以瘦肚子啊、、', 'label': 1}\n",
      "{'query': '手机跑分软件哪个好', 'title': '刷手机的软件', 'label': 0}\n",
      "{'query': '赛尔号萨格罗斯哪抓', 'title': '赛尔号萨格罗斯牛不', 'label': 0}\n",
      "{'query': '猜这是什么牌子的纸巾？', 'title': '什么纸巾牌子好', 'label': 0}\n",
      "{'query': '时空猎人咋翻魔能宝石', 'title': '时空猎人紫宝石怎么得', 'label': 0}\n",
      "{'query': '这是杰森斯坦森哪部电影。', 'title': '这是杰森斯坦森哪部电影？', 'label': 1}\n",
      "{'query': '羽绒服如何清洗？', 'title': '羽绒服怎样清洗好？', 'label': 1}\n",
      "{'query': '黑色短款羽绒服配什么颜色，样式的裙子好~', 'title': '黑色短款羽绒服配什么衣服', 'label': 0}\n",
      "{'query': '梦见和不爱我的人结婚了', 'title': '梦见要和死人结婚', 'label': 0}\n",
      "{'query': '洁净的反义词是什么呀', 'title': '洁净的反义词是什么', 'label': 1}\n",
      "{'query': '这个是什么动漫里面的', 'title': '这个是哪个动漫里面的', 'label': 1}\n",
      "{'query': '想念是会呼吸的痛', 'title': '想念是会呼吸的痛，', 'label': 1}\n",
      "{'query': '现货白银，哪家投资公司比较好？', 'title': '投资现货白银选择哪家平台比较好', 'label': 1}\n",
      "{'query': '有没有喜欢我的人', 'title': '有没有人喜欢', 'label': 0}\n",
      "{'query': '什么听书软件好？', 'title': '什么软件可以听书', 'label': 1}\n",
      "{'query': '她们都系着红领巾是什么歌', 'title': '红领巾脏了用什么洗', 'label': 0}\n",
      "{'query': '什么是饥饿游戏', 'title': '饥饿游戏是什么', 'label': 1}\n",
      "{'query': '怎样写锦旗啊', 'title': '锦旗怎么写？', 'label': 1}\n",
      "{'query': '豆花文我的美娇妻我的帅老公', 'title': '豆花文我的帅老公和我的美娇妻', 'label': 1}\n",
      "{'query': '美图秀秀，怎么换发型？', 'title': '用美图秀秀怎么换发型？', 'label': 1}\n",
      "{'query': '怎样过日子好？', 'title': '怎样熬过日子。', 'label': 1}\n",
      "{'query': '环卫工人被比喻什么', 'title': '人们比喻环卫工人什么', 'label': 1}\n"
     ]
    }
   ],
   "source": [
    "# 我们按照千言文本相似度竞赛的提交格式将预测结果存储在 lcqmc.tsv 中，用来后续提交\n",
    "# 同时将预测结果输出到终端，便于大家直观感受模型预测效果\n",
    "\n",
    "test_ds = load_dataset(\"lcqmc\", splits=[\"test\"])\n",
    "\n",
    "with open(\"lcqmc.tsv\", 'w', encoding=\"utf-8\") as f:\n",
    "    f.write(\"index\\tprediction\\n\")    \n",
    "    for idx, y_pred in enumerate(y_preds):\n",
    "        f.write(\"{}\\t{}\\n\".format(idx, y_pred))\n",
    "        text_pair = test_ds[idx]\n",
    "        text_pair[\"label\"] = y_pred\n",
    "        print(text_pair)"
   ]
  },
  {
   "cell_type": "markdown",
   "metadata": {},
   "source": [
    "#### 提交 LCQMC 预测结果[千言文本相似度竞赛](https://aistudio.baidu.com/aistudio/competition/detail/45)\n",
    "\n",
    "千言文本相似度竞赛一共有 3 个数据集: lcqmc、bq_corpus、paws-x, 我们刚才生成了 lcqmc 的预测结果 lcqmc.tsv, 同时我们在项目内提供了 bq_corpus、paw-x 数据集的空预测结果，我们将这 3 个文件打包提交到千言文本相似度竞赛，即可看到自己的模型在 Lcqmc 数据集上的竞赛成绩。\n",
    "\n"
   ]
  },
  {
   "cell_type": "code",
   "execution_count": 30,
   "metadata": {},
   "outputs": [
    {
     "name": "stdout",
     "output_type": "stream",
     "text": [
      "  adding: lcqmc.tsv (deflated 65%)\r\n",
      "  adding: paws-x.tsv (deflated 61%)\r\n",
      "  adding: bq_corpus.tsv (deflated 62%)\r\n"
     ]
    }
   ],
   "source": [
    "# 打包预测结果\n",
    "!zip submit.zip lcqmc.tsv paws-x.tsv bq_corpus.tsv"
   ]
  },
  {
   "cell_type": "markdown",
   "metadata": {},
   "source": [
    "##### 提交预测结果 submit.zip 到 [千言文本相似度竞赛](https://aistudio.baidu.com/aistudio/competition/detail/45)"
   ]
  },
  {
   "cell_type": "markdown",
   "metadata": {},
   "source": [
    "# 千言文本相似度竞赛结果截图\n",
    "\n",
    "将自己的竞赛结果贴在此处\n",
    "![](https://ai-studio-static-online.cdn.bcebos.com/ccc5814f4582493eb102d9beb02e04c0e38ffb19010d4b93ac43f021db83aff0)\n"
   ]
  },
  {
   "cell_type": "code",
   "execution_count": null,
   "metadata": {},
   "outputs": [],
   "source": []
  }
 ],
 "metadata": {
  "kernelspec": {
   "display_name": "Python 3",
   "language": "python",
   "name": "python3"
  },
  "language_info": {
   "codemirror_mode": {
    "name": "ipython",
    "version": 3
   },
   "file_extension": ".py",
   "mimetype": "text/x-python",
   "name": "python",
   "nbconvert_exporter": "python",
   "pygments_lexer": "ipython3",
   "version": "3.8.5"
  }
 },
 "nbformat": 4,
 "nbformat_minor": 1
}
