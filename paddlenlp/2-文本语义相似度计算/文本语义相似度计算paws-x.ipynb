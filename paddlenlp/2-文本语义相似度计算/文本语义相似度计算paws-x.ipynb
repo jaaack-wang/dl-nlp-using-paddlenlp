{
 "cells": [
  {
   "cell_type": "markdown",
   "metadata": {
    "collapsed": false
   },
   "source": [
    "# 作业\n",
    "\n",
    "完成预测环节预训练模型的调用代码，并跑通整个项目，成功提交千言文本相似度竞赛，按要求截图，提交作业即可。\n",
    "\n",
    "tips：\n",
    "\n",
    "- 预测可以使用自己训练的模型（训练时间较长），也可以直接使用提供下载的模型权重；\n",
    "- 报名千言文本相似度竞赛，并成功提交结果；\n",
    "- 并将如下图所示的结果截图，贴到本项目作业最后一行即完成作业。\n",
    "\n",
    "![](https://ai-studio-static-online.cdn.bcebos.com/cf119d3bc6504c098cc3cc58597b7061890d5fe915364f5fbd52341033307c7c)\n"
   ]
  },
  {
   "cell_type": "markdown",
   "metadata": {
    "collapsed": false
   },
   "source": [
    "# 基于预训练模型 ERNIE-Gram 实现语义匹配\n",
    "\n",
    "\n",
    "6.7NLP直播打卡课即将开播，欢迎大家关注课程，有任何问题来评论区或**QQ群**（群号:758287592）交流吧~~\n",
    "\n",
    "**[直播链接请戳这里，每晚20:00-21:30👈](http://live.bilibili.com/21689802)**\n",
    "\n",
    "**[课程地址请戳这里👈](https://aistudio.baidu.com/aistudio/course/introduce/24177)**\n",
    "\n",
    "\n",
    "本案例介绍 NLP 最基本的任务类型之一 —— 文本语义匹配，并且基于 PaddleNLP 使用百度开源的预训练模型 ERNIE-Gram 搭建效果优异的语义匹配模型，来判断 2 段文本语义是否相同。\n",
    "\n",
    "## 1. 背景介绍\n",
    "文本语义匹配任务，简单来说就是给定两段文本，让模型来判断两段文本是不是语义相似。\n",
    "\n",
    "在本案例中以权威的语义匹配数据集 [LCQMC](http://icrc.hitsz.edu.cn/Article/show/171.html) 为例，[LCQMC](http://icrc.hitsz.edu.cn/Article/show/171.html) 数据集是基于百度知道相似问题推荐构造的通问句语义匹配数据集。训练集中的每两段文本都会被标记为 1（语义相似） 或者 0（语义不相似）。更多数据集可访问[千言](https://www.luge.ai/)获取哦。\n",
    "\n",
    "例如百度知道场景下，用户搜索一个问题，模型会计算这个问题与候选问题是否语义相似，语义匹配模型会找出与问题语义相似的候选问题返回给用户，加快用户提问-获取答案的效率。例如，当某用户在搜索引擎中搜索 “深度学习的教材有哪些？”，模型就自动找到了一些语义相似的问题展现给用户:\n",
    "![](https://ai-studio-static-online.cdn.bcebos.com/ecc1244685ec4476b869ce8a32d421c0ad530666e98d487da21fa4f61670544f)"
   ]
  },
  {
   "cell_type": "markdown",
   "metadata": {
    "collapsed": false
   },
   "source": [
    "## 2.快速实践\n",
    "\n",
    "介绍如何准备数据，基于 ERNIE-Gram 模型搭建匹配网络，然后快速进行语义匹配模型的训练、评估和预测。\n",
    "\n",
    "### 2.1 数据加载\n",
    "为了训练匹配模型，一般需要准备三个数据集：训练集 train.tsv、验证集dev.tsv、测试集test.tsv。此案例我们使用 PaddleNLP 内置的语义数据集 [LCQMC](http://icrc.hitsz.edu.cn/Article/show/171.html) 来进行训练、评估、预测。\n",
    "\n",
    "训练集: 用来训练模型参数的数据集，模型直接根据训练集来调整自身参数以获得更好的分类效果。\n",
    "\n",
    "验证集: 用于在训练过程中检验模型的状态，收敛情况。验证集通常用于调整超参数，根据几组模型验证集上的表现，决定采用哪组超参数。\n",
    "\n",
    "测试集: 用来计算模型的各项评估指标，验证模型泛化能力。\n",
    "\n",
    "[LCQMC](http://icrc.hitsz.edu.cn/Article/show/171.html) 数据集是公开的语义匹配权威数据集。PaddleNLP 已经内置该数据集，一键即可加载。"
   ]
  },
  {
   "cell_type": "code",
   "execution_count": 1,
   "metadata": {
    "collapsed": false
   },
   "outputs": [
    {
     "name": "stdout",
     "output_type": "stream",
     "text": [
      "Collecting paddlenlp\n",
      "\u001b[?25l  Downloading https://files.pythonhosted.org/packages/b1/e9/128dfc1371db3fc2fa883d8ef27ab6b21e3876e76750a43f58cf3c24e707/paddlenlp-2.0.2-py3-none-any.whl (426kB)\n",
      "\u001b[K     |████████████████████████████████| 430kB 598kB/s eta 0:00:01\n",
      "\u001b[?25hRequirement already satisfied, skipping upgrade: jieba in /opt/conda/envs/python35-paddle120-env/lib/python3.7/site-packages (from paddlenlp) (0.42.1)\n",
      "Requirement already satisfied, skipping upgrade: seqeval in /opt/conda/envs/python35-paddle120-env/lib/python3.7/site-packages (from paddlenlp) (1.2.2)\n",
      "Requirement already satisfied, skipping upgrade: multiprocess in /opt/conda/envs/python35-paddle120-env/lib/python3.7/site-packages (from paddlenlp) (0.70.11.1)\n",
      "Requirement already satisfied, skipping upgrade: colorama in /opt/conda/envs/python35-paddle120-env/lib/python3.7/site-packages (from paddlenlp) (0.4.4)\n",
      "Requirement already satisfied, skipping upgrade: colorlog in /opt/conda/envs/python35-paddle120-env/lib/python3.7/site-packages (from paddlenlp) (4.1.0)\n",
      "Requirement already satisfied, skipping upgrade: h5py in /opt/conda/envs/python35-paddle120-env/lib/python3.7/site-packages (from paddlenlp) (2.9.0)\n",
      "Requirement already satisfied, skipping upgrade: visualdl in /opt/conda/envs/python35-paddle120-env/lib/python3.7/site-packages (from paddlenlp) (2.1.1)\n",
      "Requirement already satisfied, skipping upgrade: numpy>=1.14.0 in /opt/conda/envs/python35-paddle120-env/lib/python3.7/site-packages (from seqeval->paddlenlp) (1.20.3)\n",
      "Requirement already satisfied, skipping upgrade: scikit-learn>=0.21.3 in /opt/conda/envs/python35-paddle120-env/lib/python3.7/site-packages (from seqeval->paddlenlp) (0.24.2)\n",
      "Requirement already satisfied, skipping upgrade: dill>=0.3.3 in /opt/conda/envs/python35-paddle120-env/lib/python3.7/site-packages (from multiprocess->paddlenlp) (0.3.3)\n",
      "Requirement already satisfied, skipping upgrade: six in /opt/conda/envs/python35-paddle120-env/lib/python3.7/site-packages (from h5py->paddlenlp) (1.15.0)\n",
      "Requirement already satisfied, skipping upgrade: bce-python-sdk in /opt/conda/envs/python35-paddle120-env/lib/python3.7/site-packages (from visualdl->paddlenlp) (0.8.53)\n",
      "Requirement already satisfied, skipping upgrade: Flask-Babel>=1.0.0 in /opt/conda/envs/python35-paddle120-env/lib/python3.7/site-packages (from visualdl->paddlenlp) (1.0.0)\n",
      "Requirement already satisfied, skipping upgrade: shellcheck-py in /opt/conda/envs/python35-paddle120-env/lib/python3.7/site-packages (from visualdl->paddlenlp) (0.7.1.1)\n",
      "Requirement already satisfied, skipping upgrade: flask>=1.1.1 in /opt/conda/envs/python35-paddle120-env/lib/python3.7/site-packages (from visualdl->paddlenlp) (1.1.1)\n",
      "Requirement already satisfied, skipping upgrade: protobuf>=3.11.0 in /opt/conda/envs/python35-paddle120-env/lib/python3.7/site-packages (from visualdl->paddlenlp) (3.14.0)\n",
      "Requirement already satisfied, skipping upgrade: pre-commit in /opt/conda/envs/python35-paddle120-env/lib/python3.7/site-packages (from visualdl->paddlenlp) (1.21.0)\n",
      "Requirement already satisfied, skipping upgrade: flake8>=3.7.9 in /opt/conda/envs/python35-paddle120-env/lib/python3.7/site-packages (from visualdl->paddlenlp) (3.8.2)\n",
      "Requirement already satisfied, skipping upgrade: Pillow>=7.0.0 in /opt/conda/envs/python35-paddle120-env/lib/python3.7/site-packages (from visualdl->paddlenlp) (7.1.2)\n",
      "Requirement already satisfied, skipping upgrade: requests in /opt/conda/envs/python35-paddle120-env/lib/python3.7/site-packages (from visualdl->paddlenlp) (2.22.0)\n",
      "Requirement already satisfied, skipping upgrade: joblib>=0.11 in /opt/conda/envs/python35-paddle120-env/lib/python3.7/site-packages (from scikit-learn>=0.21.3->seqeval->paddlenlp) (0.14.1)\n",
      "Requirement already satisfied, skipping upgrade: threadpoolctl>=2.0.0 in /opt/conda/envs/python35-paddle120-env/lib/python3.7/site-packages (from scikit-learn>=0.21.3->seqeval->paddlenlp) (2.1.0)\n",
      "Requirement already satisfied, skipping upgrade: scipy>=0.19.1 in /opt/conda/envs/python35-paddle120-env/lib/python3.7/site-packages (from scikit-learn>=0.21.3->seqeval->paddlenlp) (1.6.3)\n",
      "Requirement already satisfied, skipping upgrade: pycryptodome>=3.8.0 in /opt/conda/envs/python35-paddle120-env/lib/python3.7/site-packages (from bce-python-sdk->visualdl->paddlenlp) (3.9.9)\n",
      "Requirement already satisfied, skipping upgrade: future>=0.6.0 in /opt/conda/envs/python35-paddle120-env/lib/python3.7/site-packages (from bce-python-sdk->visualdl->paddlenlp) (0.18.0)\n",
      "Requirement already satisfied, skipping upgrade: Jinja2>=2.5 in /opt/conda/envs/python35-paddle120-env/lib/python3.7/site-packages (from Flask-Babel>=1.0.0->visualdl->paddlenlp) (2.10.1)\n",
      "Requirement already satisfied, skipping upgrade: Babel>=2.3 in /opt/conda/envs/python35-paddle120-env/lib/python3.7/site-packages (from Flask-Babel>=1.0.0->visualdl->paddlenlp) (2.8.0)\n",
      "Requirement already satisfied, skipping upgrade: pytz in /opt/conda/envs/python35-paddle120-env/lib/python3.7/site-packages (from Flask-Babel>=1.0.0->visualdl->paddlenlp) (2019.3)\n",
      "Requirement already satisfied, skipping upgrade: click>=5.1 in /opt/conda/envs/python35-paddle120-env/lib/python3.7/site-packages (from flask>=1.1.1->visualdl->paddlenlp) (7.0)\n",
      "Requirement already satisfied, skipping upgrade: itsdangerous>=0.24 in /opt/conda/envs/python35-paddle120-env/lib/python3.7/site-packages (from flask>=1.1.1->visualdl->paddlenlp) (1.1.0)\n",
      "Requirement already satisfied, skipping upgrade: Werkzeug>=0.15 in /opt/conda/envs/python35-paddle120-env/lib/python3.7/site-packages (from flask>=1.1.1->visualdl->paddlenlp) (0.16.0)\n",
      "Requirement already satisfied, skipping upgrade: cfgv>=2.0.0 in /opt/conda/envs/python35-paddle120-env/lib/python3.7/site-packages (from pre-commit->visualdl->paddlenlp) (2.0.1)\n",
      "Requirement already satisfied, skipping upgrade: nodeenv>=0.11.1 in /opt/conda/envs/python35-paddle120-env/lib/python3.7/site-packages (from pre-commit->visualdl->paddlenlp) (1.3.4)\n",
      "Requirement already satisfied, skipping upgrade: aspy.yaml in /opt/conda/envs/python35-paddle120-env/lib/python3.7/site-packages (from pre-commit->visualdl->paddlenlp) (1.3.0)\n",
      "Requirement already satisfied, skipping upgrade: importlib-metadata; python_version < \"3.8\" in /opt/conda/envs/python35-paddle120-env/lib/python3.7/site-packages (from pre-commit->visualdl->paddlenlp) (0.23)\n",
      "Requirement already satisfied, skipping upgrade: pyyaml in /opt/conda/envs/python35-paddle120-env/lib/python3.7/site-packages (from pre-commit->visualdl->paddlenlp) (5.1.2)\n",
      "Requirement already satisfied, skipping upgrade: identify>=1.0.0 in /opt/conda/envs/python35-paddle120-env/lib/python3.7/site-packages (from pre-commit->visualdl->paddlenlp) (1.4.10)\n",
      "Requirement already satisfied, skipping upgrade: toml in /opt/conda/envs/python35-paddle120-env/lib/python3.7/site-packages (from pre-commit->visualdl->paddlenlp) (0.10.0)\n",
      "Requirement already satisfied, skipping upgrade: virtualenv>=15.2 in /opt/conda/envs/python35-paddle120-env/lib/python3.7/site-packages (from pre-commit->visualdl->paddlenlp) (16.7.9)\n",
      "Requirement already satisfied, skipping upgrade: pyflakes<2.3.0,>=2.2.0 in /opt/conda/envs/python35-paddle120-env/lib/python3.7/site-packages (from flake8>=3.7.9->visualdl->paddlenlp) (2.2.0)\n",
      "Requirement already satisfied, skipping upgrade: pycodestyle<2.7.0,>=2.6.0a1 in /opt/conda/envs/python35-paddle120-env/lib/python3.7/site-packages (from flake8>=3.7.9->visualdl->paddlenlp) (2.6.0)\n",
      "Requirement already satisfied, skipping upgrade: mccabe<0.7.0,>=0.6.0 in /opt/conda/envs/python35-paddle120-env/lib/python3.7/site-packages (from flake8>=3.7.9->visualdl->paddlenlp) (0.6.1)\n",
      "Requirement already satisfied, skipping upgrade: idna<2.9,>=2.5 in /opt/conda/envs/python35-paddle120-env/lib/python3.7/site-packages (from requests->visualdl->paddlenlp) (2.8)\n",
      "Requirement already satisfied, skipping upgrade: certifi>=2017.4.17 in /opt/conda/envs/python35-paddle120-env/lib/python3.7/site-packages (from requests->visualdl->paddlenlp) (2019.9.11)\n",
      "Requirement already satisfied, skipping upgrade: urllib3!=1.25.0,!=1.25.1,<1.26,>=1.21.1 in /opt/conda/envs/python35-paddle120-env/lib/python3.7/site-packages (from requests->visualdl->paddlenlp) (1.25.6)\n",
      "Requirement already satisfied, skipping upgrade: chardet<3.1.0,>=3.0.2 in /opt/conda/envs/python35-paddle120-env/lib/python3.7/site-packages (from requests->visualdl->paddlenlp) (3.0.4)\n",
      "Requirement already satisfied, skipping upgrade: MarkupSafe>=0.23 in /opt/conda/envs/python35-paddle120-env/lib/python3.7/site-packages (from Jinja2>=2.5->Flask-Babel>=1.0.0->visualdl->paddlenlp) (1.1.1)\n",
      "Requirement already satisfied, skipping upgrade: zipp>=0.5 in /opt/conda/envs/python35-paddle120-env/lib/python3.7/site-packages (from importlib-metadata; python_version < \"3.8\"->pre-commit->visualdl->paddlenlp) (0.6.0)\n",
      "Requirement already satisfied, skipping upgrade: more-itertools in /opt/conda/envs/python35-paddle120-env/lib/python3.7/site-packages (from zipp>=0.5->importlib-metadata; python_version < \"3.8\"->pre-commit->visualdl->paddlenlp) (7.2.0)\n",
      "Installing collected packages: paddlenlp\n",
      "  Found existing installation: paddlenlp 2.0.1\n",
      "    Uninstalling paddlenlp-2.0.1:\n",
      "      Successfully uninstalled paddlenlp-2.0.1\n",
      "Successfully installed paddlenlp-2.0.2\n"
     ]
    }
   ],
   "source": [
    "# 正式开始实验之前首先通过如下命令安装最新版本的 paddlenlp\n",
    "!pip install --upgrade paddlenlp -i https://pypi.org/simple"
   ]
  },
  {
   "cell_type": "code",
   "execution_count": 89,
   "metadata": {
    "collapsed": false
   },
   "outputs": [],
   "source": [
    "import time\n",
    "import os\n",
    "import numpy as np\n",
    "\n",
    "import paddle\n",
    "import paddle.nn.functional as F\n",
    "from paddlenlp.datasets import load_dataset, MapDataset\n",
    "import paddlenlp\n",
    "\n",
    "# 一键加载 Lcqmc 的训练集、验证集\n",
    "# train_ds, dev_ds = load_dataset(\"lcqmc\", splits=[\"train\", \"dev\"])\n",
    "\n",
    "\n",
    "# # 下载并解压数据集\n",
    "from paddle.utils.download import get_path_from_url\n",
    "URL = \"https://dataset-bj.cdn.bcebos.com/qianyan/paws-x-zh.zip\"\n",
    "get_path_from_url(URL, \"./\")\n",
    "\n",
    "\n",
    "def load_dataset(datafiles):\n",
    "    def read(data_path):\n",
    "        with open(data_path, 'r', encoding='utf-8') as fp:\n",
    "            next(fp)  # Skip header\n",
    "            for line in fp.readlines():\n",
    "                items = line.strip('\\n').split('\\t')\n",
    "                sens1 = items[0].split('\\002')[0]\n",
    "                sens2 = items[1].split('\\002')[0]\n",
    "                labels = items[-1].split('\\002')[0]\n",
    "                yield sens1, sens2, labels\n",
    "\n",
    "    if isinstance(datafiles, str):\n",
    "        return MapDataset(list(read(datafile)))\n",
    "    elif isinstance(datafiles, list) or isinstance(datafiles, tuple):\n",
    "        return [MapDataset(list(read(datafile))) for datafile in datafiles]\n",
    "\n",
    "# Create dataset, tokenizer and dataloader.\n",
    "train_ds, dev_ds, test_ds = load_dataset(datafiles=(\n",
    "        './paws-x-zh/paws-x-zh/train.tsv', './paws-x-zh/paws-x-zh/dev.tsv', './paws-x-zh/paws-x-zh/test.tsv'))"
   ]
  },
  {
   "cell_type": "code",
   "execution_count": 97,
   "metadata": {
    "collapsed": false
   },
   "outputs": [],
   "source": [
    "test_ds_copy = test_ds"
   ]
  },
  {
   "cell_type": "code",
   "execution_count": 44,
   "metadata": {
    "collapsed": false
   },
   "outputs": [
    {
     "name": "stdout",
     "output_type": "stream",
     "text": [
      "{'query': '喜欢打篮球的男生喜欢什么样的女生', 'title': '爱打篮球的男生喜欢什么样的女生', 'label': 1}\n",
      "{'query': '我手机丢了，我想换个手机', 'title': '我想买个新手机，求推荐', 'label': 1}\n",
      "{'query': '大家觉得她好看吗', 'title': '大家觉得跑男好看吗？', 'label': 0}\n",
      "{'query': '求秋色之空漫画全集', 'title': '求秋色之空全集漫画', 'label': 1}\n"
     ]
    }
   ],
   "source": [
    "# 输出训练集的前 3 条样本\n",
    "for idx, example in enumerate(train_ds):\n",
    "    if idx <= 3:\n",
    "        print(example)"
   ]
  },
  {
   "cell_type": "markdown",
   "metadata": {
    "collapsed": false
   },
   "source": [
    "### 2.2 数据预处理\n",
    "\n",
    "通过 PaddleNLP 加载进来的 [LCQMC](http://icrc.hitsz.edu.cn/Article/show/171.html) 数据集是原始的明文数据集，这部分我们来实现组 batch、tokenize 等预处理逻辑，将原始明文数据转换成网络训练的输入数据。"
   ]
  },
  {
   "cell_type": "markdown",
   "metadata": {
    "collapsed": false
   },
   "source": [
    "#### 定义样本转换函数"
   ]
  },
  {
   "cell_type": "code",
   "execution_count": 45,
   "metadata": {
    "collapsed": false
   },
   "outputs": [
    {
     "name": "stderr",
     "output_type": "stream",
     "text": [
      "[2021-06-16 06:43:29,126] [    INFO] - Downloading vocab.txt from https://paddlenlp.bj.bcebos.com/models/transformers/ernie_gram_zh/vocab.txt\n",
      "100%|██████████| 78/78 [00:00<00:00, 3382.78it/s]\n"
     ]
    }
   ],
   "source": [
    "# 因为是基于预训练模型 ERNIE-Gram 来进行，所以需要首先加载 ERNIE-Gram 的 tokenizer，\n",
    "# 后续样本转换函数基于 tokenizer 对文本进行切分\n",
    "\n",
    "tokenizer = paddlenlp.transformers.ErnieGramTokenizer.from_pretrained('ernie-gram-zh')"
   ]
  },
  {
   "cell_type": "code",
   "execution_count": 53,
   "metadata": {
    "collapsed": false
   },
   "outputs": [],
   "source": [
    "# 将 1 条明文数据的 query、title 拼接起来，根据预训练模型的 tokenizer 将明文转换为 ID 数据\n",
    "# 返回 input_ids 和 token_type_ids\n",
    "\n",
    "# def convert_example(example, tokenizer, max_seq_length=512, is_test=False):\n",
    "\n",
    "#     query, title = example[\"query\"], example[\"title\"]\n",
    "\n",
    "#     encoded_inputs = tokenizer(\n",
    "#         text=query, text_pair=title, max_seq_len=max_seq_length)\n",
    "\n",
    "#     input_ids = encoded_inputs[\"input_ids\"]\n",
    "#     token_type_ids = encoded_inputs[\"token_type_ids\"]\n",
    "\n",
    "#     if not is_test:\n",
    "#         label = np.array([example[\"label\"]], dtype=\"int64\")\n",
    "#         return input_ids, token_type_ids, label\n",
    "#     # 在预测或者评估阶段，不返回 label 字段\n",
    "#     else:\n",
    "#         return input_ids, token_type_ids\n",
    "\n",
    "\n",
    "def convert_example(example, tokenizer, max_seq_length=512, is_test=False):\n",
    "\n",
    "    query, title, _ = example\n",
    "\n",
    "    encoded_inputs = tokenizer(\n",
    "        text=query, text_pair=title, max_seq_len=max_seq_length)\n",
    "\n",
    "    input_ids = encoded_inputs[\"input_ids\"]\n",
    "    token_type_ids = encoded_inputs[\"token_type_ids\"]\n",
    "\n",
    "    if not is_test:\n",
    "        label = np.array([example[-1]], dtype=\"int64\")\n",
    "        return input_ids, token_type_ids, label\n",
    "    # 在预测或者评估阶段，不返回 label 字段\n",
    "    else:\n",
    "        return input_ids, token_type_ids"
   ]
  },
  {
   "cell_type": "code",
   "execution_count": 54,
   "metadata": {
    "collapsed": false
   },
   "outputs": [],
   "source": [
    "### 对训练集的第 1 条数据进行转换\n",
    "input_ids, token_type_ids, label = convert_example(train_ds[0], tokenizer)"
   ]
  },
  {
   "cell_type": "code",
   "execution_count": 55,
   "metadata": {
    "collapsed": false
   },
   "outputs": [
    {
     "name": "stdout",
     "output_type": "stream",
     "text": [
      "[1, 3066, 17, 5, 4021, 628, 909, 12051, 2794, 628, 909, 10, 62, 188, 2001, 497, 443, 32, 5, 131, 853, 27, 628, 909, 12043, 2, 3066, 12051, 2794, 628, 909, 5, 62, 20, 2001, 497, 443, 32, 10, 4021, 5, 131, 853, 27, 628, 909, 12043, 2]\n"
     ]
    }
   ],
   "source": [
    "print(input_ids)"
   ]
  },
  {
   "cell_type": "code",
   "execution_count": 56,
   "metadata": {
    "collapsed": false
   },
   "outputs": [
    {
     "name": "stdout",
     "output_type": "stream",
     "text": [
      "[0, 0, 0, 0, 0, 0, 0, 0, 0, 0, 0, 0, 0, 0, 0, 0, 0, 0, 0, 0, 0, 0, 0, 0, 0, 0, 1, 1, 1, 1, 1, 1, 1, 1, 1, 1, 1, 1, 1, 1, 1, 1, 1, 1, 1, 1, 1, 1]\n"
     ]
    }
   ],
   "source": [
    "print(token_type_ids)"
   ]
  },
  {
   "cell_type": "code",
   "execution_count": 57,
   "metadata": {
    "collapsed": false
   },
   "outputs": [
    {
     "name": "stdout",
     "output_type": "stream",
     "text": [
      "[1]\n"
     ]
    }
   ],
   "source": [
    "print(label)"
   ]
  },
  {
   "cell_type": "code",
   "execution_count": 58,
   "metadata": {
    "collapsed": false
   },
   "outputs": [],
   "source": [
    "# 为了后续方便使用，我们使用python偏函数（partial）给 convert_example 赋予一些默认参数\n",
    "from functools import partial\n",
    "\n",
    "# 训练集和验证集的样本转换函数\n",
    "trans_func = partial(\n",
    "    convert_example,\n",
    "    tokenizer=tokenizer,\n",
    "    max_seq_length=512)"
   ]
  },
  {
   "cell_type": "markdown",
   "metadata": {
    "collapsed": false
   },
   "source": [
    "#### 组装 Batch 数据 & Padding\n",
    "\n",
    "上一小节，我们完成了对单条样本的转换，本节我们需要将样本组合成 Batch 数据，对于不等长的数据还需要进行 Padding 操作，便于 GPU 训练。\n",
    "\n",
    "PaddleNLP 提供了许多关于 NLP 任务中构建有效的数据 pipeline 的常用 API\n",
    "\n",
    "| API                             | 简介                                       |\n",
    "| ------------------------------- | :----------------------------------------- |\n",
    "| `paddlenlp.data.Stack`          | 堆叠N个具有相同shape的输入数据来构建一个batch |\n",
    "| `paddlenlp.data.Pad`            | 将长度不同的多个句子padding到统一长度，取N个输入数据中的最大长度 |\n",
    "| `paddlenlp.data.Tuple`          | 将多个batchify函数包装在一起 |\n",
    "\n",
    "更多数据处理操作详见： [https://paddlenlp.readthedocs.io/zh/latest/data_prepare/data_preprocess.html](https://paddlenlp.readthedocs.io/zh/latest/data_prepare/data_preprocess.html)"
   ]
  },
  {
   "cell_type": "code",
   "execution_count": 59,
   "metadata": {
    "collapsed": false
   },
   "outputs": [
    {
     "name": "stdout",
     "output_type": "stream",
     "text": [
      "Stacked Data: \n",
      " [[1 2 3 4]\n",
      " [3 4 5 6]\n",
      " [5 6 7 8]]\n",
      "\n",
      "Padded Data: \n",
      " [[1 2 3 4]\n",
      " [5 6 7 0]\n",
      " [8 9 0 0]]\n",
      "\n",
      "ids: \n",
      " [[1 2 3 4]\n",
      " [5 6 7 0]\n",
      " [8 9 0 0]]\n",
      "\n",
      "labels: \n",
      " [[1]\n",
      " [0]\n",
      " [1]]\n",
      "\n"
     ]
    }
   ],
   "source": [
    "from paddlenlp.data import Stack, Pad, Tuple\n",
    "a = [1, 2, 3, 4]\n",
    "b = [3, 4, 5, 6]\n",
    "c = [5, 6, 7, 8]\n",
    "result = Stack()([a, b, c])\n",
    "print(\"Stacked Data: \\n\", result)\n",
    "print()\n",
    "\n",
    "a = [1, 2, 3, 4]\n",
    "b = [5, 6, 7]\n",
    "c = [8, 9]\n",
    "result = Pad(pad_val=0)([a, b, c])\n",
    "print(\"Padded Data: \\n\", result)\n",
    "print()\n",
    "\n",
    "data = [\n",
    "        [[1, 2, 3, 4], [1]],\n",
    "        [[5, 6, 7], [0]],\n",
    "        [[8, 9], [1]],\n",
    "       ]\n",
    "batchify_fn = Tuple(Pad(pad_val=0), Stack())\n",
    "ids, labels = batchify_fn(data)\n",
    "print(\"ids: \\n\", ids)\n",
    "print()\n",
    "print(\"labels: \\n\", labels)\n",
    "print()"
   ]
  },
  {
   "cell_type": "code",
   "execution_count": 60,
   "metadata": {
    "collapsed": false
   },
   "outputs": [],
   "source": [
    "# 我们的训练数据会返回 input_ids, token_type_ids, labels 3 个字段\n",
    "# 因此针对这 3 个字段需要分别定义 3 个组 batch 操作\n",
    "batchify_fn = lambda samples, fn=Tuple(\n",
    "    Pad(axis=0, pad_val=tokenizer.pad_token_id),  # input_ids\n",
    "    Pad(axis=0, pad_val=tokenizer.pad_token_type_id),  # token_type_ids\n",
    "    Stack(dtype=\"int64\")  # label\n",
    "): [data for data in fn(samples)]"
   ]
  },
  {
   "cell_type": "markdown",
   "metadata": {
    "collapsed": false
   },
   "source": [
    "#### 定义 Dataloader\n",
    "下面我们基于组 batchify_fn 函数和样本转换函数 trans_func 来构造训练集的 DataLoader, 支持多卡训练\n"
   ]
  },
  {
   "cell_type": "code",
   "execution_count": 61,
   "metadata": {
    "collapsed": false
   },
   "outputs": [],
   "source": [
    "\n",
    "# 定义分布式 Sampler: 自动对训练数据进行切分，支持多卡并行训练\n",
    "batch_sampler = paddle.io.DistributedBatchSampler(train_ds, batch_size=32, shuffle=True)\n",
    "\n",
    "# 基于 train_ds 定义 train_data_loader\n",
    "# 因为我们使用了分布式的 DistributedBatchSampler, train_data_loader 会自动对训练数据进行切分\n",
    "train_data_loader = paddle.io.DataLoader(\n",
    "        dataset=train_ds.map(trans_func),\n",
    "        batch_sampler=batch_sampler,\n",
    "        collate_fn=batchify_fn,\n",
    "        return_list=True)\n",
    "\n",
    "# 针对验证集数据加载，我们使用单卡进行评估，所以采用 paddle.io.BatchSampler 即可\n",
    "# 定义 dev_data_loader\n",
    "batch_sampler = paddle.io.BatchSampler(dev_ds, batch_size=32, shuffle=False)\n",
    "dev_data_loader = paddle.io.DataLoader(\n",
    "        dataset=dev_ds.map(trans_func),\n",
    "        batch_sampler=batch_sampler,\n",
    "        collate_fn=batchify_fn,\n",
    "        return_list=True)"
   ]
  },
  {
   "cell_type": "markdown",
   "metadata": {
    "collapsed": false
   },
   "source": [
    "### 2.3 模型搭建\n",
    "\n",
    "自从 2018 年 10 月以来，NLP 个领域的任务都通过 Pretrain + Finetune 的模式相比传统 DNN 方法在效果上取得了显著的提升，本节我们以百度开源的预训练模型 ERNIE-Gram 为基础模型，在此之上构建 Point-wise 语义匹配网络。\n",
    "\n",
    "首先我们来定义网络结构:"
   ]
  },
  {
   "cell_type": "code",
   "execution_count": 62,
   "metadata": {
    "collapsed": false
   },
   "outputs": [
    {
     "name": "stderr",
     "output_type": "stream",
     "text": [
      "[2021-06-16 06:47:48,208] [    INFO] - Downloading https://paddlenlp.bj.bcebos.com/models/transformers/ernie_gram_zh/ernie_gram_zh.pdparams and saved to /home/aistudio/.paddlenlp/models/ernie-gram-zh\n",
      "[2021-06-16 06:47:48,213] [    INFO] - Downloading ernie_gram_zh.pdparams from https://paddlenlp.bj.bcebos.com/models/transformers/ernie_gram_zh/ernie_gram_zh.pdparams\n",
      "100%|██████████| 583566/583566 [00:13<00:00, 43775.84it/s]\n"
     ]
    }
   ],
   "source": [
    "import paddle.nn as nn\n",
    "\n",
    "# 我们基于 ERNIE-Gram 模型结构搭建 Point-wise 语义匹配网络\n",
    "# 所以此处先定义 ERNIE-Gram 的 pretrained_model\n",
    "pretrained_model = paddlenlp.transformers.ErnieGramModel.from_pretrained('ernie-gram-zh')\n",
    "#pretrained_model = paddlenlp.transformers.ErnieModel.from_pretrained('ernie-1.0')\n",
    "\n",
    "\n",
    "class PointwiseMatching(nn.Layer):\n",
    "   \n",
    "    # 此处的 pretained_model 在本例中会被 ERNIE-Gram 预训练模型初始化\n",
    "    def __init__(self, pretrained_model, dropout=None):\n",
    "        super().__init__()\n",
    "        self.ptm = pretrained_model\n",
    "        self.dropout = nn.Dropout(dropout if dropout is not None else 0.1)\n",
    "\n",
    "        # 语义匹配任务: 相似、不相似 2 分类任务\n",
    "        self.classifier = nn.Linear(self.ptm.config[\"hidden_size\"], 2)\n",
    "\n",
    "    def forward(self,\n",
    "                input_ids,\n",
    "                token_type_ids=None,\n",
    "                position_ids=None,\n",
    "                attention_mask=None):\n",
    "\n",
    "        # 此处的 Input_ids 由两条文本的 token ids 拼接而成\n",
    "        # token_type_ids 表示两段文本的类型编码\n",
    "        # 返回的 cls_embedding 就表示这两段文本经过模型的计算之后而得到的语义表示向量\n",
    "        _, cls_embedding = self.ptm(input_ids, token_type_ids, position_ids,\n",
    "                                    attention_mask)\n",
    "\n",
    "        cls_embedding = self.dropout(cls_embedding)\n",
    "\n",
    "        # 基于文本对的语义表示向量进行 2 分类任务\n",
    "        logits = self.classifier(cls_embedding)\n",
    "        probs = F.softmax(logits)\n",
    "\n",
    "        return probs\n",
    "\n",
    "# 定义 Point-wise 语义匹配网络\n",
    "model = PointwiseMatching(pretrained_model)"
   ]
  },
  {
   "cell_type": "markdown",
   "metadata": {
    "collapsed": false
   },
   "source": [
    "### 2.4 模型训练 & 评估"
   ]
  },
  {
   "cell_type": "code",
   "execution_count": 63,
   "metadata": {
    "collapsed": false
   },
   "outputs": [],
   "source": [
    "from paddlenlp.transformers import LinearDecayWithWarmup\n",
    "\n",
    "epochs = 3\n",
    "num_training_steps = len(train_data_loader) * epochs\n",
    "\n",
    "# 定义 learning_rate_scheduler，负责在训练过程中对 lr 进行调度\n",
    "lr_scheduler = LinearDecayWithWarmup(5E-5, num_training_steps, 0.0)\n",
    "\n",
    "# Generate parameter names needed to perform weight decay.\n",
    "# All bias and LayerNorm parameters are excluded.\n",
    "decay_params = [\n",
    "    p.name for n, p in model.named_parameters()\n",
    "    if not any(nd in n for nd in [\"bias\", \"norm\"])\n",
    "]\n",
    "\n",
    "# 定义 Optimizer\n",
    "optimizer = paddle.optimizer.AdamW(\n",
    "    learning_rate=lr_scheduler,\n",
    "    parameters=model.parameters(),\n",
    "    weight_decay=0.0,\n",
    "    apply_decay_param_fun=lambda x: x in decay_params)\n",
    "\n",
    "# 采用交叉熵 损失函数\n",
    "criterion = paddle.nn.loss.CrossEntropyLoss()\n",
    "\n",
    "# 评估的时候采用准确率指标\n",
    "metric = paddle.metric.Accuracy()"
   ]
  },
  {
   "cell_type": "code",
   "execution_count": 64,
   "metadata": {
    "collapsed": false
   },
   "outputs": [],
   "source": [
    "# 因为训练过程中同时要在验证集进行模型评估，因此我们先定义评估函数\n",
    "\n",
    "@paddle.no_grad()\n",
    "def evaluate(model, criterion, metric, data_loader, phase=\"dev\"):\n",
    "    model.eval()\n",
    "    metric.reset()\n",
    "    losses = []\n",
    "    for batch in data_loader:\n",
    "        input_ids, token_type_ids, labels = batch\n",
    "        probs = model(input_ids=input_ids, token_type_ids=token_type_ids)\n",
    "        loss = criterion(probs, labels)\n",
    "        losses.append(loss.numpy())\n",
    "        correct = metric.compute(probs, labels)\n",
    "        metric.update(correct)\n",
    "        accu = metric.accumulate()\n",
    "    print(\"eval {} loss: {:.5}, accu: {:.5}\".format(phase,\n",
    "                                                    np.mean(losses), accu))\n",
    "    model.train()\n",
    "    metric.reset()"
   ]
  },
  {
   "cell_type": "code",
   "execution_count": 65,
   "metadata": {
    "collapsed": false
   },
   "outputs": [
    {
     "name": "stdout",
     "output_type": "stream",
     "text": [
      "global step 10, epoch: 1, batch: 10, loss: 0.78286, accu: 0.54375, speed: 5.00 step/s\n",
      "global step 20, epoch: 1, batch: 20, loss: 0.70080, accu: 0.53906, speed: 5.06 step/s\n",
      "global step 30, epoch: 1, batch: 30, loss: 0.69394, accu: 0.55312, speed: 5.32 step/s\n",
      "global step 40, epoch: 1, batch: 40, loss: 0.79009, accu: 0.54141, speed: 5.29 step/s\n",
      "global step 50, epoch: 1, batch: 50, loss: 0.68478, accu: 0.54187, speed: 5.17 step/s\n",
      "global step 60, epoch: 1, batch: 60, loss: 0.73310, accu: 0.53750, speed: 4.92 step/s\n",
      "global step 70, epoch: 1, batch: 70, loss: 0.76472, accu: 0.53438, speed: 5.14 step/s\n",
      "global step 80, epoch: 1, batch: 80, loss: 0.68141, accu: 0.53203, speed: 5.09 step/s\n",
      "global step 90, epoch: 1, batch: 90, loss: 0.72888, accu: 0.53472, speed: 5.15 step/s\n",
      "global step 100, epoch: 1, batch: 100, loss: 0.81645, accu: 0.53812, speed: 5.18 step/s\n",
      "eval dev loss: 0.7234, accu: 0.57379\n",
      "global step 110, epoch: 1, batch: 110, loss: 0.73177, accu: 0.55625, speed: 1.37 step/s\n",
      "global step 120, epoch: 1, batch: 120, loss: 0.68702, accu: 0.53281, speed: 5.24 step/s\n",
      "global step 130, epoch: 1, batch: 130, loss: 0.72388, accu: 0.53854, speed: 5.34 step/s\n",
      "global step 140, epoch: 1, batch: 140, loss: 0.65590, accu: 0.53281, speed: 5.12 step/s\n",
      "global step 150, epoch: 1, batch: 150, loss: 0.70599, accu: 0.53312, speed: 4.90 step/s\n",
      "global step 160, epoch: 1, batch: 160, loss: 0.68420, accu: 0.53385, speed: 5.25 step/s\n",
      "global step 170, epoch: 1, batch: 170, loss: 0.54869, accu: 0.54911, speed: 5.00 step/s\n",
      "global step 180, epoch: 1, batch: 180, loss: 0.67718, accu: 0.54844, speed: 5.15 step/s\n",
      "global step 190, epoch: 1, batch: 190, loss: 0.76313, accu: 0.54306, speed: 4.99 step/s\n",
      "global step 200, epoch: 1, batch: 200, loss: 0.75672, accu: 0.53875, speed: 5.38 step/s\n",
      "eval dev loss: 0.68263, accu: 0.57379\n",
      "global step 210, epoch: 1, batch: 210, loss: 0.68571, accu: 0.47500, speed: 1.35 step/s\n",
      "global step 220, epoch: 1, batch: 220, loss: 0.80617, accu: 0.47344, speed: 5.16 step/s\n",
      "global step 230, epoch: 1, batch: 230, loss: 0.75083, accu: 0.48125, speed: 4.88 step/s\n",
      "global step 240, epoch: 1, batch: 240, loss: 0.66681, accu: 0.49219, speed: 4.93 step/s\n",
      "global step 250, epoch: 1, batch: 250, loss: 0.74628, accu: 0.51187, speed: 4.73 step/s\n",
      "global step 260, epoch: 1, batch: 260, loss: 0.66581, accu: 0.51927, speed: 5.10 step/s\n",
      "global step 270, epoch: 1, batch: 270, loss: 0.74207, accu: 0.52366, speed: 4.64 step/s\n",
      "global step 280, epoch: 1, batch: 280, loss: 0.62138, accu: 0.53008, speed: 4.96 step/s\n",
      "global step 290, epoch: 1, batch: 290, loss: 0.69628, accu: 0.52743, speed: 5.02 step/s\n",
      "global step 300, epoch: 1, batch: 300, loss: 0.68477, accu: 0.52312, speed: 5.23 step/s\n",
      "eval dev loss: 0.68228, accu: 0.57379\n",
      "global step 310, epoch: 1, batch: 310, loss: 0.69182, accu: 0.57188, speed: 1.36 step/s\n",
      "global step 320, epoch: 1, batch: 320, loss: 0.69706, accu: 0.57969, speed: 5.15 step/s\n",
      "global step 330, epoch: 1, batch: 330, loss: 0.69281, accu: 0.58646, speed: 5.12 step/s\n",
      "global step 340, epoch: 1, batch: 340, loss: 0.71816, accu: 0.58672, speed: 4.88 step/s\n",
      "global step 350, epoch: 1, batch: 350, loss: 0.68439, accu: 0.57875, speed: 5.00 step/s\n",
      "global step 360, epoch: 1, batch: 360, loss: 0.66804, accu: 0.57448, speed: 4.96 step/s\n",
      "global step 370, epoch: 1, batch: 370, loss: 0.68250, accu: 0.57188, speed: 4.99 step/s\n",
      "global step 380, epoch: 1, batch: 380, loss: 0.70581, accu: 0.57500, speed: 4.96 step/s\n",
      "global step 390, epoch: 1, batch: 390, loss: 0.70044, accu: 0.57083, speed: 5.30 step/s\n",
      "global step 400, epoch: 1, batch: 400, loss: 0.70642, accu: 0.56563, speed: 4.66 step/s\n",
      "eval dev loss: 0.68363, accu: 0.57379\n",
      "global step 410, epoch: 1, batch: 410, loss: 0.67852, accu: 0.52500, speed: 1.31 step/s\n",
      "global step 420, epoch: 1, batch: 420, loss: 0.70538, accu: 0.50156, speed: 5.17 step/s\n",
      "global step 430, epoch: 1, batch: 430, loss: 0.72332, accu: 0.51042, speed: 4.83 step/s\n",
      "global step 440, epoch: 1, batch: 440, loss: 0.68414, accu: 0.51797, speed: 4.96 step/s\n",
      "global step 450, epoch: 1, batch: 450, loss: 0.73026, accu: 0.51375, speed: 4.99 step/s\n",
      "global step 460, epoch: 1, batch: 460, loss: 0.69287, accu: 0.52656, speed: 5.04 step/s\n",
      "global step 470, epoch: 1, batch: 470, loss: 0.64443, accu: 0.53214, speed: 5.14 step/s\n",
      "global step 480, epoch: 1, batch: 480, loss: 0.67139, accu: 0.53008, speed: 5.02 step/s\n",
      "global step 490, epoch: 1, batch: 490, loss: 0.66185, accu: 0.52153, speed: 5.24 step/s\n",
      "global step 500, epoch: 1, batch: 500, loss: 0.80059, accu: 0.52469, speed: 4.72 step/s\n",
      "eval dev loss: 0.68625, accu: 0.57379\n",
      "global step 510, epoch: 1, batch: 510, loss: 0.68277, accu: 0.55625, speed: 1.33 step/s\n",
      "global step 520, epoch: 1, batch: 520, loss: 0.67532, accu: 0.52656, speed: 4.81 step/s\n",
      "global step 530, epoch: 1, batch: 530, loss: 0.70022, accu: 0.51562, speed: 5.05 step/s\n",
      "global step 540, epoch: 1, batch: 540, loss: 0.65184, accu: 0.51016, speed: 4.82 step/s\n",
      "global step 550, epoch: 1, batch: 550, loss: 0.69314, accu: 0.52438, speed: 5.06 step/s\n",
      "global step 560, epoch: 1, batch: 560, loss: 0.74452, accu: 0.53333, speed: 4.98 step/s\n",
      "global step 570, epoch: 1, batch: 570, loss: 0.68558, accu: 0.52723, speed: 5.02 step/s\n",
      "global step 580, epoch: 1, batch: 580, loss: 0.69346, accu: 0.53008, speed: 5.05 step/s\n",
      "global step 590, epoch: 1, batch: 590, loss: 0.71860, accu: 0.52604, speed: 5.23 step/s\n",
      "global step 600, epoch: 1, batch: 600, loss: 0.63758, accu: 0.52531, speed: 5.07 step/s\n",
      "eval dev loss: 0.68515, accu: 0.57379\n",
      "global step 610, epoch: 1, batch: 610, loss: 0.71308, accu: 0.49375, speed: 1.34 step/s\n",
      "global step 620, epoch: 1, batch: 620, loss: 0.69128, accu: 0.51250, speed: 5.18 step/s\n",
      "global step 630, epoch: 1, batch: 630, loss: 0.68447, accu: 0.52500, speed: 4.69 step/s\n",
      "global step 640, epoch: 1, batch: 640, loss: 0.68191, accu: 0.54219, speed: 4.95 step/s\n",
      "global step 650, epoch: 1, batch: 650, loss: 0.70565, accu: 0.53000, speed: 4.72 step/s\n",
      "global step 660, epoch: 1, batch: 660, loss: 0.72922, accu: 0.52187, speed: 5.06 step/s\n",
      "global step 670, epoch: 1, batch: 670, loss: 0.64908, accu: 0.52411, speed: 4.92 step/s\n",
      "global step 680, epoch: 1, batch: 680, loss: 0.66995, accu: 0.52422, speed: 5.01 step/s\n",
      "global step 690, epoch: 1, batch: 690, loss: 0.67899, accu: 0.52431, speed: 4.78 step/s\n",
      "global step 700, epoch: 1, batch: 700, loss: 0.60168, accu: 0.53531, speed: 5.03 step/s\n",
      "eval dev loss: 0.68947, accu: 0.57379\n",
      "global step 710, epoch: 1, batch: 710, loss: 0.68000, accu: 0.53438, speed: 1.33 step/s\n",
      "global step 720, epoch: 1, batch: 720, loss: 0.75423, accu: 0.50313, speed: 5.01 step/s\n",
      "global step 730, epoch: 1, batch: 730, loss: 0.67324, accu: 0.51875, speed: 4.91 step/s\n",
      "global step 740, epoch: 1, batch: 740, loss: 0.72574, accu: 0.50469, speed: 4.92 step/s\n",
      "global step 750, epoch: 1, batch: 750, loss: 0.68873, accu: 0.50813, speed: 4.95 step/s\n",
      "global step 760, epoch: 1, batch: 760, loss: 0.71084, accu: 0.51979, speed: 5.00 step/s\n",
      "global step 770, epoch: 1, batch: 770, loss: 0.73733, accu: 0.52098, speed: 5.14 step/s\n",
      "global step 780, epoch: 1, batch: 780, loss: 0.72633, accu: 0.52109, speed: 4.83 step/s\n",
      "global step 790, epoch: 1, batch: 790, loss: 0.68126, accu: 0.52396, speed: 5.08 step/s\n",
      "global step 800, epoch: 1, batch: 800, loss: 0.78956, accu: 0.52375, speed: 5.34 step/s\n",
      "eval dev loss: 0.68182, accu: 0.57379\n",
      "global step 810, epoch: 1, batch: 810, loss: 0.68905, accu: 0.48750, speed: 1.35 step/s\n",
      "global step 820, epoch: 1, batch: 820, loss: 0.66582, accu: 0.54219, speed: 5.19 step/s\n",
      "global step 830, epoch: 1, batch: 830, loss: 0.72956, accu: 0.54167, speed: 4.80 step/s\n",
      "global step 840, epoch: 1, batch: 840, loss: 0.70094, accu: 0.52578, speed: 4.97 step/s\n",
      "global step 850, epoch: 1, batch: 850, loss: 0.67733, accu: 0.52438, speed: 5.01 step/s\n",
      "global step 860, epoch: 1, batch: 860, loss: 0.69074, accu: 0.53229, speed: 5.05 step/s\n",
      "global step 870, epoch: 1, batch: 870, loss: 0.73406, accu: 0.52545, speed: 5.02 step/s\n",
      "global step 880, epoch: 1, batch: 880, loss: 0.65165, accu: 0.52812, speed: 5.11 step/s\n",
      "global step 890, epoch: 1, batch: 890, loss: 0.72770, accu: 0.53472, speed: 4.97 step/s\n",
      "global step 900, epoch: 1, batch: 900, loss: 0.72598, accu: 0.53375, speed: 4.79 step/s\n",
      "eval dev loss: 0.69689, accu: 0.42621\n",
      "global step 910, epoch: 1, batch: 910, loss: 0.72768, accu: 0.49062, speed: 1.36 step/s\n",
      "global step 920, epoch: 1, batch: 920, loss: 0.69577, accu: 0.50938, speed: 5.00 step/s\n",
      "global step 930, epoch: 1, batch: 930, loss: 0.69479, accu: 0.53542, speed: 4.87 step/s\n",
      "global step 940, epoch: 1, batch: 940, loss: 0.65640, accu: 0.55625, speed: 5.09 step/s\n",
      "global step 950, epoch: 1, batch: 950, loss: 0.68031, accu: 0.55688, speed: 5.04 step/s\n",
      "global step 960, epoch: 1, batch: 960, loss: 0.71926, accu: 0.55104, speed: 5.04 step/s\n",
      "global step 970, epoch: 1, batch: 970, loss: 0.65329, accu: 0.54643, speed: 4.97 step/s\n",
      "global step 980, epoch: 1, batch: 980, loss: 0.75278, accu: 0.54648, speed: 4.99 step/s\n",
      "global step 990, epoch: 1, batch: 990, loss: 0.67366, accu: 0.54618, speed: 4.85 step/s\n",
      "global step 1000, epoch: 1, batch: 1000, loss: 0.67656, accu: 0.54688, speed: 5.16 step/s\n",
      "eval dev loss: 0.68277, accu: 0.57379\n",
      "global step 1010, epoch: 1, batch: 1010, loss: 0.67469, accu: 0.55937, speed: 1.34 step/s\n",
      "global step 1020, epoch: 1, batch: 1020, loss: 0.69824, accu: 0.51250, speed: 5.01 step/s\n",
      "global step 1030, epoch: 1, batch: 1030, loss: 0.65953, accu: 0.51146, speed: 5.07 step/s\n",
      "global step 1040, epoch: 1, batch: 1040, loss: 0.63884, accu: 0.51328, speed: 5.14 step/s\n",
      "global step 1050, epoch: 1, batch: 1050, loss: 0.75713, accu: 0.53000, speed: 5.01 step/s\n",
      "global step 1060, epoch: 1, batch: 1060, loss: 0.72059, accu: 0.51562, speed: 4.86 step/s\n",
      "global step 1070, epoch: 1, batch: 1070, loss: 0.65896, accu: 0.51562, speed: 5.16 step/s\n",
      "global step 1080, epoch: 1, batch: 1080, loss: 0.81909, accu: 0.51445, speed: 5.10 step/s\n",
      "global step 1090, epoch: 1, batch: 1090, loss: 0.69070, accu: 0.51354, speed: 5.07 step/s\n",
      "global step 1100, epoch: 1, batch: 1100, loss: 0.75295, accu: 0.51656, speed: 4.96 step/s\n",
      "eval dev loss: 0.68236, accu: 0.57379\n",
      "global step 1110, epoch: 1, batch: 1110, loss: 0.67113, accu: 0.55937, speed: 1.34 step/s\n",
      "global step 1120, epoch: 1, batch: 1120, loss: 0.64883, accu: 0.57969, speed: 5.08 step/s\n",
      "global step 1130, epoch: 1, batch: 1130, loss: 0.64947, accu: 0.59375, speed: 4.83 step/s\n",
      "global step 1140, epoch: 1, batch: 1140, loss: 0.73714, accu: 0.58359, speed: 4.99 step/s\n",
      "global step 1150, epoch: 1, batch: 1150, loss: 0.72073, accu: 0.56063, speed: 4.95 step/s\n",
      "global step 1160, epoch: 1, batch: 1160, loss: 0.67686, accu: 0.55469, speed: 4.88 step/s\n",
      "global step 1170, epoch: 1, batch: 1170, loss: 0.74502, accu: 0.55268, speed: 4.82 step/s\n",
      "global step 1180, epoch: 1, batch: 1180, loss: 0.73883, accu: 0.54531, speed: 4.99 step/s\n",
      "global step 1190, epoch: 1, batch: 1190, loss: 0.72973, accu: 0.54236, speed: 4.96 step/s\n",
      "global step 1200, epoch: 1, batch: 1200, loss: 0.64341, accu: 0.54656, speed: 4.95 step/s\n",
      "eval dev loss: 0.68443, accu: 0.57379\n",
      "global step 1210, epoch: 1, batch: 1210, loss: 0.66829, accu: 0.55625, speed: 1.33 step/s\n",
      "global step 1220, epoch: 1, batch: 1220, loss: 0.71929, accu: 0.53750, speed: 4.86 step/s\n",
      "global step 1230, epoch: 1, batch: 1230, loss: 0.67809, accu: 0.52812, speed: 4.94 step/s\n",
      "global step 1240, epoch: 1, batch: 1240, loss: 0.67006, accu: 0.53203, speed: 4.68 step/s\n",
      "global step 1250, epoch: 1, batch: 1250, loss: 0.71957, accu: 0.53687, speed: 4.93 step/s\n",
      "global step 1260, epoch: 1, batch: 1260, loss: 0.72227, accu: 0.52344, speed: 5.01 step/s\n",
      "global step 1270, epoch: 1, batch: 1270, loss: 0.65749, accu: 0.52277, speed: 4.93 step/s\n",
      "global step 1280, epoch: 1, batch: 1280, loss: 0.77003, accu: 0.53047, speed: 4.75 step/s\n",
      "global step 1290, epoch: 1, batch: 1290, loss: 0.72511, accu: 0.53125, speed: 4.84 step/s\n",
      "global step 1300, epoch: 1, batch: 1300, loss: 0.72242, accu: 0.53063, speed: 4.73 step/s\n",
      "eval dev loss: 0.68813, accu: 0.57379\n",
      "global step 1310, epoch: 1, batch: 1310, loss: 0.63974, accu: 0.58750, speed: 1.32 step/s\n",
      "global step 1320, epoch: 1, batch: 1320, loss: 0.75742, accu: 0.58125, speed: 4.98 step/s\n",
      "global step 1330, epoch: 1, batch: 1330, loss: 0.72506, accu: 0.56771, speed: 4.92 step/s\n",
      "global step 1340, epoch: 1, batch: 1340, loss: 0.68535, accu: 0.56406, speed: 5.08 step/s\n",
      "global step 1350, epoch: 1, batch: 1350, loss: 0.71658, accu: 0.54500, speed: 4.90 step/s\n",
      "global step 1360, epoch: 1, batch: 1360, loss: 0.71400, accu: 0.53750, speed: 4.75 step/s\n",
      "global step 1370, epoch: 1, batch: 1370, loss: 0.64310, accu: 0.53348, speed: 5.24 step/s\n",
      "global step 1380, epoch: 1, batch: 1380, loss: 0.77051, accu: 0.53711, speed: 4.79 step/s\n",
      "global step 1390, epoch: 1, batch: 1390, loss: 0.67854, accu: 0.53750, speed: 4.85 step/s\n",
      "global step 1400, epoch: 1, batch: 1400, loss: 0.67177, accu: 0.54156, speed: 4.95 step/s\n",
      "eval dev loss: 0.68328, accu: 0.57379\n",
      "global step 1410, epoch: 1, batch: 1410, loss: 0.68917, accu: 0.51562, speed: 1.34 step/s\n",
      "global step 1420, epoch: 1, batch: 1420, loss: 0.72782, accu: 0.47187, speed: 4.57 step/s\n",
      "global step 1430, epoch: 1, batch: 1430, loss: 0.66733, accu: 0.48125, speed: 4.99 step/s\n",
      "global step 1440, epoch: 1, batch: 1440, loss: 0.72070, accu: 0.50156, speed: 4.93 step/s\n",
      "global step 1450, epoch: 1, batch: 1450, loss: 0.76207, accu: 0.50875, speed: 5.06 step/s\n",
      "global step 1460, epoch: 1, batch: 1460, loss: 0.71426, accu: 0.50990, speed: 4.96 step/s\n",
      "global step 1470, epoch: 1, batch: 1470, loss: 0.66828, accu: 0.50848, speed: 4.92 step/s\n",
      "global step 1480, epoch: 1, batch: 1480, loss: 0.65725, accu: 0.51250, speed: 5.20 step/s\n",
      "global step 1490, epoch: 1, batch: 1490, loss: 0.71919, accu: 0.51840, speed: 5.29 step/s\n",
      "global step 1500, epoch: 1, batch: 1500, loss: 0.70534, accu: 0.51750, speed: 5.06 step/s\n",
      "eval dev loss: 0.68582, accu: 0.57379\n",
      "global step 1510, epoch: 1, batch: 1510, loss: 0.71382, accu: 0.46250, speed: 1.34 step/s\n",
      "global step 1520, epoch: 1, batch: 1520, loss: 0.74278, accu: 0.47031, speed: 4.92 step/s\n",
      "global step 1530, epoch: 1, batch: 1530, loss: 0.69982, accu: 0.49375, speed: 4.87 step/s\n",
      "global step 1540, epoch: 1, batch: 1540, loss: 0.73605, accu: 0.49688, speed: 4.89 step/s\n",
      "global step 1550, epoch: 2, batch: 6, loss: 0.69394, accu: 0.50126, speed: 5.10 step/s\n",
      "global step 1560, epoch: 2, batch: 16, loss: 0.68932, accu: 0.50418, speed: 4.91 step/s\n",
      "global step 1570, epoch: 2, batch: 26, loss: 0.64024, accu: 0.51120, speed: 4.98 step/s\n",
      "global step 1580, epoch: 2, batch: 36, loss: 0.69707, accu: 0.51763, speed: 5.02 step/s\n",
      "global step 1590, epoch: 2, batch: 46, loss: 0.64622, accu: 0.52646, speed: 4.70 step/s\n",
      "global step 1600, epoch: 2, batch: 56, loss: 0.69003, accu: 0.52569, speed: 4.71 step/s\n",
      "eval dev loss: 0.68345, accu: 0.57379\n",
      "global step 1610, epoch: 2, batch: 66, loss: 0.73584, accu: 0.53438, speed: 1.33 step/s\n",
      "global step 1620, epoch: 2, batch: 76, loss: 0.67085, accu: 0.54063, speed: 4.99 step/s\n",
      "global step 1630, epoch: 2, batch: 86, loss: 0.71590, accu: 0.53854, speed: 5.07 step/s\n",
      "global step 1640, epoch: 2, batch: 96, loss: 0.65607, accu: 0.55547, speed: 5.20 step/s\n",
      "global step 1650, epoch: 2, batch: 106, loss: 0.66794, accu: 0.55437, speed: 4.99 step/s\n",
      "global step 1660, epoch: 2, batch: 116, loss: 0.71134, accu: 0.55156, speed: 4.89 step/s\n",
      "global step 1670, epoch: 2, batch: 126, loss: 0.63284, accu: 0.55536, speed: 5.17 step/s\n",
      "global step 1680, epoch: 2, batch: 136, loss: 0.70958, accu: 0.54883, speed: 5.00 step/s\n",
      "global step 1690, epoch: 2, batch: 146, loss: 0.70685, accu: 0.53889, speed: 4.69 step/s\n",
      "global step 1700, epoch: 2, batch: 156, loss: 0.73541, accu: 0.53938, speed: 5.07 step/s\n",
      "eval dev loss: 0.68302, accu: 0.57379\n",
      "global step 1710, epoch: 2, batch: 166, loss: 0.71143, accu: 0.55000, speed: 1.34 step/s\n",
      "global step 1720, epoch: 2, batch: 176, loss: 0.67409, accu: 0.56406, speed: 4.91 step/s\n",
      "global step 1730, epoch: 2, batch: 186, loss: 0.72433, accu: 0.54271, speed: 4.85 step/s\n",
      "global step 1740, epoch: 2, batch: 196, loss: 0.79065, accu: 0.53516, speed: 5.06 step/s\n",
      "global step 1750, epoch: 2, batch: 206, loss: 0.72847, accu: 0.53125, speed: 5.12 step/s\n",
      "global step 1760, epoch: 2, batch: 216, loss: 0.65807, accu: 0.51979, speed: 5.14 step/s\n",
      "global step 1770, epoch: 2, batch: 226, loss: 0.74709, accu: 0.52232, speed: 4.88 step/s\n",
      "global step 1780, epoch: 2, batch: 236, loss: 0.67633, accu: 0.52656, speed: 4.93 step/s\n",
      "global step 1790, epoch: 2, batch: 246, loss: 0.72262, accu: 0.52500, speed: 5.08 step/s\n",
      "global step 1800, epoch: 2, batch: 256, loss: 0.73544, accu: 0.52312, speed: 5.02 step/s\n",
      "eval dev loss: 0.68362, accu: 0.57379\n",
      "global step 1810, epoch: 2, batch: 266, loss: 0.65377, accu: 0.60313, speed: 1.34 step/s\n",
      "global step 1820, epoch: 2, batch: 276, loss: 0.75272, accu: 0.58906, speed: 4.98 step/s\n",
      "global step 1830, epoch: 2, batch: 286, loss: 0.75834, accu: 0.56250, speed: 4.86 step/s\n",
      "global step 1840, epoch: 2, batch: 296, loss: 0.66713, accu: 0.56094, speed: 4.95 step/s\n",
      "global step 1850, epoch: 2, batch: 306, loss: 0.66903, accu: 0.54563, speed: 4.97 step/s\n",
      "global step 1860, epoch: 2, batch: 316, loss: 0.74550, accu: 0.54167, speed: 4.94 step/s\n",
      "global step 1870, epoch: 2, batch: 326, loss: 0.75646, accu: 0.53616, speed: 4.90 step/s\n",
      "global step 1880, epoch: 2, batch: 336, loss: 0.68261, accu: 0.53945, speed: 5.24 step/s\n",
      "global step 1890, epoch: 2, batch: 346, loss: 0.64069, accu: 0.54965, speed: 4.96 step/s\n",
      "global step 1900, epoch: 2, batch: 356, loss: 0.69865, accu: 0.54937, speed: 4.95 step/s\n",
      "eval dev loss: 0.68293, accu: 0.57379\n",
      "global step 1910, epoch: 2, batch: 366, loss: 0.69308, accu: 0.55937, speed: 1.35 step/s\n",
      "global step 1920, epoch: 2, batch: 376, loss: 0.63409, accu: 0.55625, speed: 5.08 step/s\n",
      "global step 1930, epoch: 2, batch: 386, loss: 0.67952, accu: 0.54167, speed: 4.98 step/s\n",
      "global step 1940, epoch: 2, batch: 396, loss: 0.62361, accu: 0.55469, speed: 5.04 step/s\n",
      "global step 1950, epoch: 2, batch: 406, loss: 0.68530, accu: 0.55500, speed: 4.64 step/s\n",
      "global step 1960, epoch: 2, batch: 416, loss: 0.69964, accu: 0.55781, speed: 5.12 step/s\n",
      "global step 1970, epoch: 2, batch: 426, loss: 0.70049, accu: 0.54821, speed: 5.10 step/s\n",
      "global step 1980, epoch: 2, batch: 436, loss: 0.68818, accu: 0.54453, speed: 4.93 step/s\n",
      "global step 1990, epoch: 2, batch: 446, loss: 0.67521, accu: 0.53750, speed: 4.97 step/s\n",
      "global step 2000, epoch: 2, batch: 456, loss: 0.72971, accu: 0.53625, speed: 5.10 step/s\n",
      "eval dev loss: 0.68499, accu: 0.57379\n",
      "global step 2010, epoch: 2, batch: 466, loss: 0.67383, accu: 0.56563, speed: 1.32 step/s\n",
      "global step 2020, epoch: 2, batch: 476, loss: 0.65551, accu: 0.55000, speed: 4.85 step/s\n",
      "global step 2030, epoch: 2, batch: 486, loss: 0.72833, accu: 0.52917, speed: 4.99 step/s\n",
      "global step 2040, epoch: 2, batch: 496, loss: 0.73326, accu: 0.52891, speed: 4.98 step/s\n",
      "global step 2050, epoch: 2, batch: 506, loss: 0.73145, accu: 0.54375, speed: 5.04 step/s\n",
      "global step 2060, epoch: 2, batch: 516, loss: 0.68817, accu: 0.53750, speed: 4.81 step/s\n",
      "global step 2070, epoch: 2, batch: 526, loss: 0.67630, accu: 0.53750, speed: 5.03 step/s\n",
      "global step 2080, epoch: 2, batch: 536, loss: 0.67297, accu: 0.53398, speed: 4.77 step/s\n",
      "global step 2090, epoch: 2, batch: 546, loss: 0.69227, accu: 0.53646, speed: 5.02 step/s\n",
      "global step 2100, epoch: 2, batch: 556, loss: 0.64483, accu: 0.54344, speed: 5.15 step/s\n",
      "eval dev loss: 0.68943, accu: 0.57379\n",
      "global step 2110, epoch: 2, batch: 566, loss: 0.68205, accu: 0.57812, speed: 1.35 step/s\n",
      "global step 2120, epoch: 2, batch: 576, loss: 0.67731, accu: 0.56875, speed: 5.12 step/s\n",
      "global step 2130, epoch: 2, batch: 586, loss: 0.71135, accu: 0.54375, speed: 4.98 step/s\n",
      "global step 2140, epoch: 2, batch: 596, loss: 0.66589, accu: 0.55156, speed: 5.06 step/s\n",
      "global step 2150, epoch: 2, batch: 606, loss: 0.69653, accu: 0.55250, speed: 5.01 step/s\n",
      "global step 2160, epoch: 2, batch: 616, loss: 0.72977, accu: 0.55417, speed: 4.96 step/s\n",
      "global step 2170, epoch: 2, batch: 626, loss: 0.71949, accu: 0.55179, speed: 4.72 step/s\n",
      "global step 2180, epoch: 2, batch: 636, loss: 0.67660, accu: 0.55078, speed: 5.11 step/s\n",
      "global step 2190, epoch: 2, batch: 646, loss: 0.72026, accu: 0.54479, speed: 5.11 step/s\n",
      "global step 2200, epoch: 2, batch: 656, loss: 0.68999, accu: 0.54500, speed: 5.10 step/s\n",
      "eval dev loss: 0.68667, accu: 0.57379\n",
      "global step 2210, epoch: 2, batch: 666, loss: 0.67024, accu: 0.55937, speed: 1.25 step/s\n",
      "global step 2220, epoch: 2, batch: 676, loss: 0.71187, accu: 0.56250, speed: 5.10 step/s\n",
      "global step 2230, epoch: 2, batch: 686, loss: 0.69240, accu: 0.54688, speed: 5.07 step/s\n",
      "global step 2240, epoch: 2, batch: 696, loss: 0.69252, accu: 0.53359, speed: 4.83 step/s\n",
      "global step 2250, epoch: 2, batch: 706, loss: 0.74257, accu: 0.52312, speed: 5.21 step/s\n",
      "global step 2260, epoch: 2, batch: 716, loss: 0.71348, accu: 0.52708, speed: 5.18 step/s\n",
      "global step 2270, epoch: 2, batch: 726, loss: 0.69356, accu: 0.52411, speed: 5.08 step/s\n",
      "global step 2280, epoch: 2, batch: 736, loss: 0.70530, accu: 0.51914, speed: 4.99 step/s\n",
      "global step 2290, epoch: 2, batch: 746, loss: 0.74188, accu: 0.52153, speed: 5.02 step/s\n",
      "global step 2300, epoch: 2, batch: 756, loss: 0.63386, accu: 0.53156, speed: 4.88 step/s\n",
      "eval dev loss: 0.68961, accu: 0.57379\n",
      "global step 2310, epoch: 2, batch: 766, loss: 0.72527, accu: 0.56563, speed: 1.33 step/s\n",
      "global step 2320, epoch: 2, batch: 776, loss: 0.76623, accu: 0.56406, speed: 4.85 step/s\n",
      "global step 2330, epoch: 2, batch: 786, loss: 0.70092, accu: 0.55521, speed: 5.17 step/s\n",
      "global step 2340, epoch: 2, batch: 796, loss: 0.66232, accu: 0.54297, speed: 4.95 step/s\n",
      "global step 2350, epoch: 2, batch: 806, loss: 0.70046, accu: 0.55000, speed: 4.95 step/s\n",
      "global step 2360, epoch: 2, batch: 816, loss: 0.68587, accu: 0.54688, speed: 4.95 step/s\n",
      "global step 2370, epoch: 2, batch: 826, loss: 0.69657, accu: 0.54063, speed: 4.99 step/s\n",
      "global step 2380, epoch: 2, batch: 836, loss: 0.68384, accu: 0.54492, speed: 4.96 step/s\n",
      "global step 2390, epoch: 2, batch: 846, loss: 0.75004, accu: 0.54479, speed: 4.66 step/s\n",
      "global step 2400, epoch: 2, batch: 856, loss: 0.69876, accu: 0.54719, speed: 5.07 step/s\n",
      "eval dev loss: 0.68298, accu: 0.57379\n",
      "global step 2410, epoch: 2, batch: 866, loss: 0.71666, accu: 0.52812, speed: 1.34 step/s\n",
      "global step 2420, epoch: 2, batch: 876, loss: 0.71134, accu: 0.53750, speed: 5.30 step/s\n",
      "global step 2430, epoch: 2, batch: 886, loss: 0.70098, accu: 0.54271, speed: 5.00 step/s\n",
      "global step 2440, epoch: 2, batch: 896, loss: 0.63834, accu: 0.54375, speed: 5.14 step/s\n",
      "global step 2450, epoch: 2, batch: 906, loss: 0.72217, accu: 0.53563, speed: 4.95 step/s\n",
      "global step 2460, epoch: 2, batch: 916, loss: 0.64638, accu: 0.54167, speed: 5.15 step/s\n",
      "global step 2470, epoch: 2, batch: 926, loss: 0.66461, accu: 0.53750, speed: 4.83 step/s\n",
      "global step 2480, epoch: 2, batch: 936, loss: 0.68055, accu: 0.53711, speed: 4.99 step/s\n",
      "global step 2490, epoch: 2, batch: 946, loss: 0.71895, accu: 0.53264, speed: 4.97 step/s\n",
      "global step 2500, epoch: 2, batch: 956, loss: 0.67033, accu: 0.53687, speed: 4.78 step/s\n",
      "eval dev loss: 0.68272, accu: 0.57379\n",
      "global step 2510, epoch: 2, batch: 966, loss: 0.66692, accu: 0.55312, speed: 1.34 step/s\n",
      "global step 2520, epoch: 2, batch: 976, loss: 0.64822, accu: 0.55469, speed: 4.75 step/s\n",
      "global step 2530, epoch: 2, batch: 986, loss: 0.61765, accu: 0.56146, speed: 4.94 step/s\n",
      "global step 2540, epoch: 2, batch: 996, loss: 0.66878, accu: 0.54922, speed: 5.04 step/s\n",
      "global step 2550, epoch: 2, batch: 1006, loss: 0.68771, accu: 0.54812, speed: 5.11 step/s\n",
      "global step 2560, epoch: 2, batch: 1016, loss: 0.75584, accu: 0.54896, speed: 4.89 step/s\n",
      "global step 2570, epoch: 2, batch: 1026, loss: 0.73529, accu: 0.55625, speed: 5.22 step/s\n",
      "global step 2580, epoch: 2, batch: 1036, loss: 0.70424, accu: 0.55586, speed: 4.92 step/s\n",
      "global step 2590, epoch: 2, batch: 1046, loss: 0.64213, accu: 0.55382, speed: 4.96 step/s\n",
      "global step 2600, epoch: 2, batch: 1056, loss: 0.67361, accu: 0.55156, speed: 5.01 step/s\n",
      "eval dev loss: 0.68262, accu: 0.57379\n",
      "global step 2610, epoch: 2, batch: 1066, loss: 0.65250, accu: 0.57812, speed: 1.35 step/s\n",
      "global step 2620, epoch: 2, batch: 1076, loss: 0.63956, accu: 0.56875, speed: 5.16 step/s\n",
      "global step 2630, epoch: 2, batch: 1086, loss: 0.67982, accu: 0.56250, speed: 5.07 step/s\n",
      "global step 2640, epoch: 2, batch: 1096, loss: 0.67858, accu: 0.56094, speed: 4.82 step/s\n",
      "global step 2650, epoch: 2, batch: 1106, loss: 0.67535, accu: 0.56375, speed: 4.78 step/s\n",
      "global step 2660, epoch: 2, batch: 1116, loss: 0.77442, accu: 0.56146, speed: 4.92 step/s\n",
      "global step 2670, epoch: 2, batch: 1126, loss: 0.70772, accu: 0.56071, speed: 5.13 step/s\n",
      "global step 2680, epoch: 2, batch: 1136, loss: 0.69580, accu: 0.56445, speed: 4.64 step/s\n",
      "global step 2690, epoch: 2, batch: 1146, loss: 0.68963, accu: 0.56111, speed: 4.95 step/s\n",
      "global step 2700, epoch: 2, batch: 1156, loss: 0.70745, accu: 0.55688, speed: 4.91 step/s\n",
      "eval dev loss: 0.68251, accu: 0.57379\n",
      "global step 2710, epoch: 2, batch: 1166, loss: 0.70676, accu: 0.54375, speed: 1.35 step/s\n",
      "global step 2720, epoch: 2, batch: 1176, loss: 0.69953, accu: 0.54688, speed: 5.07 step/s\n",
      "global step 2730, epoch: 2, batch: 1186, loss: 0.66603, accu: 0.54688, speed: 5.06 step/s\n",
      "global step 2740, epoch: 2, batch: 1196, loss: 0.72237, accu: 0.54531, speed: 4.70 step/s\n",
      "global step 2750, epoch: 2, batch: 1206, loss: 0.68425, accu: 0.53438, speed: 4.90 step/s\n",
      "global step 2760, epoch: 2, batch: 1216, loss: 0.70513, accu: 0.52656, speed: 5.20 step/s\n",
      "global step 2770, epoch: 2, batch: 1226, loss: 0.69694, accu: 0.52991, speed: 4.89 step/s\n",
      "global step 2780, epoch: 2, batch: 1236, loss: 0.66575, accu: 0.53477, speed: 5.08 step/s\n",
      "global step 2790, epoch: 2, batch: 1246, loss: 0.65819, accu: 0.53715, speed: 4.84 step/s\n",
      "global step 2800, epoch: 2, batch: 1256, loss: 0.66343, accu: 0.53844, speed: 4.89 step/s\n",
      "eval dev loss: 0.6831, accu: 0.57379\n",
      "global step 2810, epoch: 2, batch: 1266, loss: 0.70377, accu: 0.53438, speed: 1.34 step/s\n",
      "global step 2820, epoch: 2, batch: 1276, loss: 0.67680, accu: 0.55625, speed: 4.95 step/s\n",
      "global step 2830, epoch: 2, batch: 1286, loss: 0.69427, accu: 0.56458, speed: 5.20 step/s\n",
      "global step 2840, epoch: 2, batch: 1296, loss: 0.66135, accu: 0.57188, speed: 4.92 step/s\n",
      "global step 2850, epoch: 2, batch: 1306, loss: 0.69898, accu: 0.56937, speed: 4.79 step/s\n",
      "global step 2860, epoch: 2, batch: 1316, loss: 0.61897, accu: 0.57083, speed: 5.06 step/s\n",
      "global step 2870, epoch: 2, batch: 1326, loss: 0.70091, accu: 0.56384, speed: 4.86 step/s\n",
      "global step 2880, epoch: 2, batch: 1336, loss: 0.75217, accu: 0.55625, speed: 4.76 step/s\n",
      "global step 2890, epoch: 2, batch: 1346, loss: 0.70100, accu: 0.55139, speed: 5.01 step/s\n",
      "global step 2900, epoch: 2, batch: 1356, loss: 0.71305, accu: 0.54937, speed: 5.11 step/s\n",
      "eval dev loss: 0.68273, accu: 0.57379\n",
      "global step 2910, epoch: 2, batch: 1366, loss: 0.71181, accu: 0.53125, speed: 1.33 step/s\n",
      "global step 2920, epoch: 2, batch: 1376, loss: 0.72960, accu: 0.51562, speed: 4.98 step/s\n",
      "global step 2930, epoch: 2, batch: 1386, loss: 0.73468, accu: 0.51458, speed: 5.03 step/s\n",
      "global step 2940, epoch: 2, batch: 1396, loss: 0.69379, accu: 0.52969, speed: 4.69 step/s\n",
      "global step 2950, epoch: 2, batch: 1406, loss: 0.72787, accu: 0.52625, speed: 5.01 step/s\n",
      "global step 2960, epoch: 2, batch: 1416, loss: 0.71375, accu: 0.52187, speed: 4.73 step/s\n",
      "global step 2970, epoch: 2, batch: 1426, loss: 0.68981, accu: 0.52321, speed: 5.01 step/s\n",
      "global step 2980, epoch: 2, batch: 1436, loss: 0.76824, accu: 0.53125, speed: 4.98 step/s\n",
      "global step 2990, epoch: 2, batch: 1446, loss: 0.63979, accu: 0.53854, speed: 5.19 step/s\n",
      "global step 3000, epoch: 2, batch: 1456, loss: 0.76145, accu: 0.53875, speed: 4.91 step/s\n",
      "eval dev loss: 0.68418, accu: 0.57379\n",
      "global step 3010, epoch: 2, batch: 1466, loss: 0.73239, accu: 0.54063, speed: 1.35 step/s\n",
      "global step 3020, epoch: 2, batch: 1476, loss: 0.66689, accu: 0.55000, speed: 5.00 step/s\n",
      "global step 3030, epoch: 2, batch: 1486, loss: 0.73405, accu: 0.52812, speed: 4.82 step/s\n",
      "global step 3040, epoch: 2, batch: 1496, loss: 0.70319, accu: 0.52891, speed: 5.04 step/s\n",
      "global step 3050, epoch: 2, batch: 1506, loss: 0.68877, accu: 0.53625, speed: 5.00 step/s\n",
      "global step 3060, epoch: 2, batch: 1516, loss: 0.67610, accu: 0.53802, speed: 5.17 step/s\n",
      "global step 3070, epoch: 2, batch: 1526, loss: 0.71592, accu: 0.53304, speed: 4.88 step/s\n",
      "global step 3080, epoch: 2, batch: 1536, loss: 0.69092, accu: 0.53281, speed: 5.11 step/s\n",
      "global step 3090, epoch: 3, batch: 2, loss: 0.77282, accu: 0.52925, speed: 4.94 step/s\n",
      "global step 3100, epoch: 3, batch: 12, loss: 0.68600, accu: 0.53070, speed: 4.93 step/s\n",
      "eval dev loss: 0.68255, accu: 0.57379\n",
      "global step 3110, epoch: 3, batch: 22, loss: 0.72830, accu: 0.50313, speed: 1.34 step/s\n",
      "global step 3120, epoch: 3, batch: 32, loss: 0.74694, accu: 0.51719, speed: 5.10 step/s\n",
      "global step 3130, epoch: 3, batch: 42, loss: 0.65423, accu: 0.52396, speed: 5.11 step/s\n",
      "global step 3140, epoch: 3, batch: 52, loss: 0.66920, accu: 0.51719, speed: 4.98 step/s\n",
      "global step 3150, epoch: 3, batch: 62, loss: 0.68877, accu: 0.52875, speed: 4.82 step/s\n",
      "global step 3160, epoch: 3, batch: 72, loss: 0.70846, accu: 0.53073, speed: 4.80 step/s\n",
      "global step 3170, epoch: 3, batch: 82, loss: 0.69757, accu: 0.52991, speed: 5.10 step/s\n",
      "global step 3180, epoch: 3, batch: 92, loss: 0.69782, accu: 0.53477, speed: 5.00 step/s\n",
      "global step 3190, epoch: 3, batch: 102, loss: 0.77127, accu: 0.53854, speed: 4.91 step/s\n",
      "global step 3200, epoch: 3, batch: 112, loss: 0.69211, accu: 0.54219, speed: 4.95 step/s\n",
      "eval dev loss: 0.68247, accu: 0.57379\n",
      "global step 3210, epoch: 3, batch: 122, loss: 0.74541, accu: 0.53750, speed: 1.32 step/s\n",
      "global step 3220, epoch: 3, batch: 132, loss: 0.68971, accu: 0.54375, speed: 5.20 step/s\n",
      "global step 3230, epoch: 3, batch: 142, loss: 0.66470, accu: 0.52812, speed: 5.01 step/s\n",
      "global step 3240, epoch: 3, batch: 152, loss: 0.65023, accu: 0.53750, speed: 4.71 step/s\n",
      "global step 3250, epoch: 3, batch: 162, loss: 0.65898, accu: 0.54625, speed: 5.11 step/s\n",
      "global step 3260, epoch: 3, batch: 172, loss: 0.77404, accu: 0.54167, speed: 5.25 step/s\n",
      "global step 3270, epoch: 3, batch: 182, loss: 0.73355, accu: 0.53170, speed: 4.96 step/s\n",
      "global step 3280, epoch: 3, batch: 192, loss: 0.69040, accu: 0.52773, speed: 4.87 step/s\n",
      "global step 3290, epoch: 3, batch: 202, loss: 0.60234, accu: 0.52882, speed: 5.28 step/s\n",
      "global step 3300, epoch: 3, batch: 212, loss: 0.64390, accu: 0.53125, speed: 5.01 step/s\n",
      "eval dev loss: 0.6929, accu: 0.57379\n",
      "global step 3310, epoch: 3, batch: 222, loss: 0.66492, accu: 0.49062, speed: 1.35 step/s\n",
      "global step 3320, epoch: 3, batch: 232, loss: 0.73879, accu: 0.51094, speed: 4.63 step/s\n",
      "global step 3330, epoch: 3, batch: 242, loss: 0.69776, accu: 0.50938, speed: 4.97 step/s\n",
      "global step 3340, epoch: 3, batch: 252, loss: 0.69042, accu: 0.51328, speed: 4.91 step/s\n",
      "global step 3350, epoch: 3, batch: 262, loss: 0.67923, accu: 0.51812, speed: 4.85 step/s\n",
      "global step 3360, epoch: 3, batch: 272, loss: 0.65103, accu: 0.52135, speed: 5.18 step/s\n",
      "global step 3370, epoch: 3, batch: 282, loss: 0.65942, accu: 0.52946, speed: 4.86 step/s\n",
      "global step 3380, epoch: 3, batch: 292, loss: 0.75006, accu: 0.53438, speed: 4.95 step/s\n",
      "global step 3390, epoch: 3, batch: 302, loss: 0.65247, accu: 0.53889, speed: 5.33 step/s\n",
      "global step 3400, epoch: 3, batch: 312, loss: 0.68732, accu: 0.53969, speed: 4.87 step/s\n",
      "eval dev loss: 0.68244, accu: 0.57379\n",
      "global step 3410, epoch: 3, batch: 322, loss: 0.68115, accu: 0.54375, speed: 1.33 step/s\n",
      "global step 3420, epoch: 3, batch: 332, loss: 0.61586, accu: 0.53906, speed: 5.30 step/s\n",
      "global step 3430, epoch: 3, batch: 342, loss: 0.67042, accu: 0.53750, speed: 4.99 step/s\n",
      "global step 3440, epoch: 3, batch: 352, loss: 0.68623, accu: 0.54688, speed: 5.06 step/s\n",
      "global step 3450, epoch: 3, batch: 362, loss: 0.66843, accu: 0.55000, speed: 4.92 step/s\n",
      "global step 3460, epoch: 3, batch: 372, loss: 0.68545, accu: 0.55417, speed: 4.81 step/s\n",
      "global step 3470, epoch: 3, batch: 382, loss: 0.67867, accu: 0.56384, speed: 4.83 step/s\n",
      "global step 3480, epoch: 3, batch: 392, loss: 0.76597, accu: 0.56211, speed: 5.12 step/s\n",
      "global step 3490, epoch: 3, batch: 402, loss: 0.70701, accu: 0.56354, speed: 4.98 step/s\n",
      "global step 3500, epoch: 3, batch: 412, loss: 0.67540, accu: 0.56156, speed: 4.89 step/s\n",
      "eval dev loss: 0.68239, accu: 0.57379\n",
      "global step 3510, epoch: 3, batch: 422, loss: 0.71833, accu: 0.51562, speed: 1.34 step/s\n",
      "global step 3520, epoch: 3, batch: 432, loss: 0.72927, accu: 0.50625, speed: 4.77 step/s\n",
      "global step 3530, epoch: 3, batch: 442, loss: 0.66631, accu: 0.51250, speed: 5.01 step/s\n",
      "global step 3540, epoch: 3, batch: 452, loss: 0.69953, accu: 0.51094, speed: 5.00 step/s\n",
      "global step 3550, epoch: 3, batch: 462, loss: 0.68513, accu: 0.51938, speed: 4.96 step/s\n",
      "global step 3560, epoch: 3, batch: 472, loss: 0.70506, accu: 0.52760, speed: 4.87 step/s\n",
      "global step 3570, epoch: 3, batch: 482, loss: 0.70942, accu: 0.53348, speed: 4.91 step/s\n",
      "global step 3580, epoch: 3, batch: 492, loss: 0.75168, accu: 0.53828, speed: 5.13 step/s\n",
      "global step 3590, epoch: 3, batch: 502, loss: 0.71174, accu: 0.53854, speed: 5.10 step/s\n",
      "global step 3600, epoch: 3, batch: 512, loss: 0.69373, accu: 0.54063, speed: 5.02 step/s\n",
      "eval dev loss: 0.68312, accu: 0.57379\n",
      "global step 3610, epoch: 3, batch: 522, loss: 0.70356, accu: 0.52187, speed: 1.33 step/s\n",
      "global step 3620, epoch: 3, batch: 532, loss: 0.67522, accu: 0.52500, speed: 5.13 step/s\n",
      "global step 3630, epoch: 3, batch: 542, loss: 0.67523, accu: 0.54375, speed: 5.10 step/s\n",
      "global step 3640, epoch: 3, batch: 552, loss: 0.67517, accu: 0.53516, speed: 4.89 step/s\n",
      "global step 3650, epoch: 3, batch: 562, loss: 0.71313, accu: 0.53625, speed: 4.91 step/s\n",
      "global step 3660, epoch: 3, batch: 572, loss: 0.66935, accu: 0.53854, speed: 4.88 step/s\n",
      "global step 3670, epoch: 3, batch: 582, loss: 0.69367, accu: 0.54286, speed: 5.09 step/s\n",
      "global step 3680, epoch: 3, batch: 592, loss: 0.68973, accu: 0.54180, speed: 5.24 step/s\n",
      "global step 3690, epoch: 3, batch: 602, loss: 0.72478, accu: 0.53750, speed: 4.82 step/s\n",
      "global step 3700, epoch: 3, batch: 612, loss: 0.67382, accu: 0.52969, speed: 4.86 step/s\n",
      "eval dev loss: 0.68508, accu: 0.57379\n",
      "global step 3710, epoch: 3, batch: 622, loss: 0.74888, accu: 0.50625, speed: 1.35 step/s\n",
      "global step 3720, epoch: 3, batch: 632, loss: 0.71578, accu: 0.52187, speed: 4.94 step/s\n",
      "global step 3730, epoch: 3, batch: 642, loss: 0.68500, accu: 0.51875, speed: 4.93 step/s\n",
      "global step 3740, epoch: 3, batch: 652, loss: 0.64671, accu: 0.52422, speed: 5.15 step/s\n",
      "global step 3750, epoch: 3, batch: 662, loss: 0.67765, accu: 0.53750, speed: 5.22 step/s\n",
      "global step 3760, epoch: 3, batch: 672, loss: 0.69113, accu: 0.53542, speed: 4.71 step/s\n",
      "global step 3770, epoch: 3, batch: 682, loss: 0.71162, accu: 0.53839, speed: 4.82 step/s\n",
      "global step 3780, epoch: 3, batch: 692, loss: 0.67191, accu: 0.54063, speed: 4.80 step/s\n",
      "global step 3790, epoch: 3, batch: 702, loss: 0.69008, accu: 0.54167, speed: 5.02 step/s\n",
      "global step 3800, epoch: 3, batch: 712, loss: 0.74095, accu: 0.53750, speed: 5.09 step/s\n",
      "eval dev loss: 0.68253, accu: 0.57379\n",
      "global step 3810, epoch: 3, batch: 722, loss: 0.69008, accu: 0.57812, speed: 1.33 step/s\n",
      "global step 3820, epoch: 3, batch: 732, loss: 0.67258, accu: 0.57344, speed: 4.57 step/s\n",
      "global step 3830, epoch: 3, batch: 742, loss: 0.74679, accu: 0.56146, speed: 4.85 step/s\n",
      "global step 3840, epoch: 3, batch: 752, loss: 0.67936, accu: 0.56328, speed: 4.93 step/s\n",
      "global step 3850, epoch: 3, batch: 762, loss: 0.76078, accu: 0.55812, speed: 5.09 step/s\n",
      "global step 3860, epoch: 3, batch: 772, loss: 0.72100, accu: 0.54948, speed: 4.93 step/s\n",
      "global step 3870, epoch: 3, batch: 782, loss: 0.73422, accu: 0.54732, speed: 4.94 step/s\n",
      "global step 3880, epoch: 3, batch: 792, loss: 0.73542, accu: 0.54219, speed: 5.04 step/s\n",
      "global step 3890, epoch: 3, batch: 802, loss: 0.72638, accu: 0.53924, speed: 5.01 step/s\n",
      "global step 3900, epoch: 3, batch: 812, loss: 0.74958, accu: 0.53656, speed: 4.96 step/s\n",
      "eval dev loss: 0.68578, accu: 0.57379\n",
      "global step 3910, epoch: 3, batch: 822, loss: 0.69065, accu: 0.52812, speed: 1.32 step/s\n",
      "global step 3920, epoch: 3, batch: 832, loss: 0.68085, accu: 0.50313, speed: 4.81 step/s\n",
      "global step 3930, epoch: 3, batch: 842, loss: 0.70927, accu: 0.51250, speed: 4.71 step/s\n",
      "global step 3940, epoch: 3, batch: 852, loss: 0.71493, accu: 0.51953, speed: 4.95 step/s\n",
      "global step 3950, epoch: 3, batch: 862, loss: 0.69629, accu: 0.51562, speed: 5.14 step/s\n",
      "global step 3960, epoch: 3, batch: 872, loss: 0.70669, accu: 0.50885, speed: 4.70 step/s\n",
      "global step 3970, epoch: 3, batch: 882, loss: 0.69269, accu: 0.50625, speed: 4.72 step/s\n",
      "global step 3980, epoch: 3, batch: 892, loss: 0.72144, accu: 0.50820, speed: 4.92 step/s\n",
      "global step 3990, epoch: 3, batch: 902, loss: 0.70166, accu: 0.50833, speed: 5.09 step/s\n",
      "global step 4000, epoch: 3, batch: 912, loss: 0.65878, accu: 0.51313, speed: 5.18 step/s\n",
      "eval dev loss: 0.68295, accu: 0.57379\n",
      "global step 4010, epoch: 3, batch: 922, loss: 0.70782, accu: 0.53438, speed: 1.34 step/s\n",
      "global step 4020, epoch: 3, batch: 932, loss: 0.83893, accu: 0.53281, speed: 4.72 step/s\n",
      "global step 4030, epoch: 3, batch: 942, loss: 0.71514, accu: 0.51667, speed: 5.00 step/s\n",
      "global step 4040, epoch: 3, batch: 952, loss: 0.70809, accu: 0.52344, speed: 5.10 step/s\n",
      "global step 4050, epoch: 3, batch: 962, loss: 0.67223, accu: 0.51938, speed: 4.82 step/s\n",
      "global step 4060, epoch: 3, batch: 972, loss: 0.63919, accu: 0.52500, speed: 5.06 step/s\n",
      "global step 4070, epoch: 3, batch: 982, loss: 0.69610, accu: 0.52768, speed: 4.93 step/s\n",
      "global step 4080, epoch: 3, batch: 992, loss: 0.71595, accu: 0.53711, speed: 5.06 step/s\n",
      "global step 4090, epoch: 3, batch: 1002, loss: 0.69337, accu: 0.54097, speed: 5.05 step/s\n",
      "global step 4100, epoch: 3, batch: 1012, loss: 0.65308, accu: 0.54438, speed: 5.12 step/s\n",
      "eval dev loss: 0.683, accu: 0.57379\n",
      "global step 4110, epoch: 3, batch: 1022, loss: 0.67502, accu: 0.52812, speed: 1.33 step/s\n",
      "global step 4120, epoch: 3, batch: 1032, loss: 0.64166, accu: 0.54375, speed: 4.93 step/s\n",
      "global step 4130, epoch: 3, batch: 1042, loss: 0.69218, accu: 0.52604, speed: 5.02 step/s\n",
      "global step 4140, epoch: 3, batch: 1052, loss: 0.64735, accu: 0.53594, speed: 4.73 step/s\n",
      "global step 4150, epoch: 3, batch: 1062, loss: 0.65459, accu: 0.53438, speed: 4.99 step/s\n",
      "global step 4160, epoch: 3, batch: 1072, loss: 0.69489, accu: 0.53698, speed: 5.17 step/s\n",
      "global step 4170, epoch: 3, batch: 1082, loss: 0.65619, accu: 0.53839, speed: 4.86 step/s\n",
      "global step 4180, epoch: 3, batch: 1092, loss: 0.65117, accu: 0.53984, speed: 4.97 step/s\n",
      "global step 4190, epoch: 3, batch: 1102, loss: 0.66452, accu: 0.54653, speed: 5.02 step/s\n",
      "global step 4200, epoch: 3, batch: 1112, loss: 0.71356, accu: 0.54656, speed: 4.92 step/s\n",
      "eval dev loss: 0.6828, accu: 0.57379\n",
      "global step 4210, epoch: 3, batch: 1122, loss: 0.74468, accu: 0.55312, speed: 1.34 step/s\n",
      "global step 4220, epoch: 3, batch: 1132, loss: 0.71797, accu: 0.54063, speed: 4.96 step/s\n",
      "global step 4230, epoch: 3, batch: 1142, loss: 0.67347, accu: 0.53021, speed: 4.76 step/s\n",
      "global step 4240, epoch: 3, batch: 1152, loss: 0.68721, accu: 0.52266, speed: 4.61 step/s\n",
      "global step 4250, epoch: 3, batch: 1162, loss: 0.68308, accu: 0.52812, speed: 5.02 step/s\n",
      "global step 4260, epoch: 3, batch: 1172, loss: 0.70019, accu: 0.51979, speed: 4.92 step/s\n",
      "global step 4270, epoch: 3, batch: 1182, loss: 0.71203, accu: 0.52455, speed: 5.03 step/s\n",
      "global step 4280, epoch: 3, batch: 1192, loss: 0.72541, accu: 0.52734, speed: 4.91 step/s\n",
      "global step 4290, epoch: 3, batch: 1202, loss: 0.69855, accu: 0.53090, speed: 5.02 step/s\n",
      "global step 4300, epoch: 3, batch: 1212, loss: 0.69596, accu: 0.53063, speed: 4.81 step/s\n",
      "eval dev loss: 0.68232, accu: 0.57379\n",
      "global step 4310, epoch: 3, batch: 1222, loss: 0.71479, accu: 0.56250, speed: 1.34 step/s\n",
      "global step 4320, epoch: 3, batch: 1232, loss: 0.73576, accu: 0.55000, speed: 4.81 step/s\n",
      "global step 4330, epoch: 3, batch: 1242, loss: 0.67949, accu: 0.56250, speed: 5.07 step/s\n",
      "global step 4340, epoch: 3, batch: 1252, loss: 0.70313, accu: 0.56016, speed: 5.12 step/s\n",
      "global step 4350, epoch: 3, batch: 1262, loss: 0.69494, accu: 0.54688, speed: 4.98 step/s\n",
      "global step 4360, epoch: 3, batch: 1272, loss: 0.69757, accu: 0.54740, speed: 5.16 step/s\n",
      "global step 4370, epoch: 3, batch: 1282, loss: 0.65634, accu: 0.54643, speed: 5.06 step/s\n",
      "global step 4380, epoch: 3, batch: 1292, loss: 0.70854, accu: 0.54648, speed: 5.05 step/s\n",
      "global step 4390, epoch: 3, batch: 1302, loss: 0.68593, accu: 0.55035, speed: 5.04 step/s\n",
      "global step 4400, epoch: 3, batch: 1312, loss: 0.68260, accu: 0.55469, speed: 4.88 step/s\n",
      "eval dev loss: 0.68235, accu: 0.57379\n",
      "global step 4410, epoch: 3, batch: 1322, loss: 0.66949, accu: 0.55937, speed: 1.33 step/s\n",
      "global step 4420, epoch: 3, batch: 1332, loss: 0.71436, accu: 0.55781, speed: 4.99 step/s\n",
      "global step 4430, epoch: 3, batch: 1342, loss: 0.70836, accu: 0.56875, speed: 4.93 step/s\n",
      "global step 4440, epoch: 3, batch: 1352, loss: 0.64798, accu: 0.58125, speed: 5.14 step/s\n",
      "global step 4450, epoch: 3, batch: 1362, loss: 0.76370, accu: 0.56250, speed: 4.73 step/s\n",
      "global step 4460, epoch: 3, batch: 1372, loss: 0.66711, accu: 0.55208, speed: 5.10 step/s\n",
      "global step 4470, epoch: 3, batch: 1382, loss: 0.66854, accu: 0.55223, speed: 4.93 step/s\n",
      "global step 4480, epoch: 3, batch: 1392, loss: 0.67420, accu: 0.55117, speed: 5.12 step/s\n",
      "global step 4490, epoch: 3, batch: 1402, loss: 0.72853, accu: 0.54618, speed: 4.88 step/s\n",
      "global step 4500, epoch: 3, batch: 1412, loss: 0.70616, accu: 0.54781, speed: 5.04 step/s\n",
      "eval dev loss: 0.68255, accu: 0.57379\n",
      "global step 4510, epoch: 3, batch: 1422, loss: 0.65560, accu: 0.51250, speed: 1.34 step/s\n",
      "global step 4520, epoch: 3, batch: 1432, loss: 0.71567, accu: 0.50625, speed: 5.24 step/s\n",
      "global step 4530, epoch: 3, batch: 1442, loss: 0.75487, accu: 0.50833, speed: 5.02 step/s\n",
      "global step 4540, epoch: 3, batch: 1452, loss: 0.73116, accu: 0.51016, speed: 4.63 step/s\n",
      "global step 4550, epoch: 3, batch: 1462, loss: 0.64528, accu: 0.53000, speed: 4.71 step/s\n",
      "global step 4560, epoch: 3, batch: 1472, loss: 0.71062, accu: 0.52865, speed: 4.53 step/s\n",
      "global step 4570, epoch: 3, batch: 1482, loss: 0.71403, accu: 0.52902, speed: 4.56 step/s\n",
      "global step 4580, epoch: 3, batch: 1492, loss: 0.66079, accu: 0.53438, speed: 5.03 step/s\n",
      "global step 4590, epoch: 3, batch: 1502, loss: 0.65993, accu: 0.53681, speed: 5.22 step/s\n",
      "global step 4600, epoch: 3, batch: 1512, loss: 0.71989, accu: 0.53969, speed: 5.06 step/s\n",
      "eval dev loss: 0.68284, accu: 0.57379\n",
      "global step 4610, epoch: 3, batch: 1522, loss: 0.70694, accu: 0.50313, speed: 1.32 step/s\n",
      "global step 4620, epoch: 3, batch: 1532, loss: 0.69256, accu: 0.51562, speed: 4.98 step/s\n",
      "global step 4630, epoch: 3, batch: 1542, loss: 0.72123, accu: 0.51771, speed: 4.96 step/s\n"
     ]
    }
   ],
   "source": [
    "# 接下来，开始正式训练模型，训练时间较长，可注释掉这部分\n",
    "\n",
    "global_step = 0\n",
    "tic_train = time.time()\n",
    "\n",
    "for epoch in range(1, epochs + 1):\n",
    "    for step, batch in enumerate(train_data_loader, start=1):\n",
    "\n",
    "        input_ids, token_type_ids, labels = batch\n",
    "        probs = model(input_ids=input_ids, token_type_ids=token_type_ids)\n",
    "        loss = criterion(probs, labels)\n",
    "        correct = metric.compute(probs, labels)\n",
    "        metric.update(correct)\n",
    "        acc = metric.accumulate()\n",
    "\n",
    "        global_step += 1\n",
    "        \n",
    "        # 每间隔 10 step 输出训练指标\n",
    "        if global_step % 10 == 0:\n",
    "            print(\n",
    "                \"global step %d, epoch: %d, batch: %d, loss: %.5f, accu: %.5f, speed: %.2f step/s\"\n",
    "                % (global_step, epoch, step, loss, acc,\n",
    "                    10 / (time.time() - tic_train)))\n",
    "            tic_train = time.time()\n",
    "        loss.backward()\n",
    "        optimizer.step()\n",
    "        lr_scheduler.step()\n",
    "        optimizer.clear_grad()\n",
    "\n",
    "        # 每间隔 100 step 在验证集和测试集上进行评估\n",
    "        if global_step % 100 == 0:\n",
    "            evaluate(model, criterion, metric, dev_data_loader, \"dev\")\n",
    "            \n",
    "# 训练结束后，存储模型参数\n",
    "save_dir = os.path.join(\"checkpoint\", \"model_%d\" % global_step)\n",
    "os.makedirs(save_dir)\n",
    "\n",
    "save_param_path = os.path.join(save_dir, 'model_state.pdparams')\n",
    "paddle.save(model.state_dict(), save_param_path)\n",
    "tokenizer.save_pretrained(save_dir)"
   ]
  },
  {
   "cell_type": "code",
   "execution_count": 67,
   "metadata": {
    "collapsed": false
   },
   "outputs": [],
   "source": []
  },
  {
   "cell_type": "markdown",
   "metadata": {
    "collapsed": false
   },
   "source": [
    "模型训练过程中会输出如下日志:\n",
    "```\n",
    "global step 5310, epoch: 3, batch: 1578, loss: 0.31671, accu: 0.95000, speed: 0.63 step/s\n",
    "global step 5320, epoch: 3, batch: 1588, loss: 0.36240, accu: 0.94063, speed: 6.98 step/s\n",
    "global step 5330, epoch: 3, batch: 1598, loss: 0.41451, accu: 0.93854, speed: 7.40 step/s\n",
    "global step 5340, epoch: 3, batch: 1608, loss: 0.31327, accu: 0.94063, speed: 7.01 step/s\n",
    "global step 5350, epoch: 3, batch: 1618, loss: 0.40664, accu: 0.93563, speed: 7.83 step/s\n",
    "global step 5360, epoch: 3, batch: 1628, loss: 0.33064, accu: 0.93958, speed: 7.34 step/s\n",
    "global step 5370, epoch: 3, batch: 1638, loss: 0.38411, accu: 0.93795, speed: 7.72 step/s\n",
    "global step 5380, epoch: 3, batch: 1648, loss: 0.35376, accu: 0.93906, speed: 7.92 step/s\n",
    "global step 5390, epoch: 3, batch: 1658, loss: 0.39706, accu: 0.93924, speed: 7.47 step/s\n",
    "global step 5400, epoch: 3, batch: 1668, loss: 0.41198, accu: 0.93781, speed: 7.41 step/s\n",
    "eval dev loss: 0.4177, accu: 0.89082\n",
    "global step 5410, epoch: 3, batch: 1678, loss: 0.34453, accu: 0.93125, speed: 0.63 step/s\n",
    "global step 5420, epoch: 3, batch: 1688, loss: 0.34569, accu: 0.93906, speed: 7.75 step/s\n",
    "global step 5430, epoch: 3, batch: 1698, loss: 0.39160, accu: 0.92917, speed: 7.54 step/s\n",
    "global step 5440, epoch: 3, batch: 1708, loss: 0.46002, accu: 0.93125, speed: 7.05 step/s\n",
    "global step 5450, epoch: 3, batch: 1718, loss: 0.32302, accu: 0.93188, speed: 7.14 step/s\n",
    "global step 5460, epoch: 3, batch: 1728, loss: 0.40802, accu: 0.93281, speed: 7.22 step/s\n",
    "global step 5470, epoch: 3, batch: 1738, loss: 0.34607, accu: 0.93348, speed: 7.44 step/s\n",
    "global step 5480, epoch: 3, batch: 1748, loss: 0.34709, accu: 0.93398, speed: 7.38 step/s\n",
    "global step 5490, epoch: 3, batch: 1758, loss: 0.31814, accu: 0.93437, speed: 7.39 step/s\n",
    "global step 5500, epoch: 3, batch: 1768, loss: 0.42689, accu: 0.93125, speed: 7.74 step/s\n",
    "eval dev loss: 0.41789, accu: 0.88968\n",
    "```"
   ]
  },
  {
   "cell_type": "markdown",
   "metadata": {
    "collapsed": false
   },
   "source": [
    "基于默认参数配置进行单卡训练大概要持续 4 个小时左右，会训练完成 3 个 Epoch, 模型最终的收敛指标结果如下:\n",
    "\n",
    "\n",
    "| 数据集 | Accuracy |\n",
    "| -------- | -------- |\n",
    "| dev.tsv     | 89.62  |\n",
    "\n",
    "可以看到: 我们基于 PaddleNLP ，利用 ERNIE-Gram 预训练模型使用非常简洁的代码，就在权威语义匹配数据集上取得了很不错的效果."
   ]
  },
  {
   "cell_type": "markdown",
   "metadata": {
    "collapsed": false
   },
   "source": [
    "### 2.5 模型预测\n",
    "\n",
    "接下来我们使用已经训练好的语义匹配模型对一些预测数据进行预测。待预测数据为每行都是文本对的 tsv 文件，我们使用 Lcqmc 数据集的测试集作为我们的预测数据，进行预测并提交预测结果到 [千言文本相似度竞赛](https://aistudio.baidu.com/aistudio/competition/detail/45)\n",
    "\n",
    "下载我们已经训练好的语义匹配模型, 并解压"
   ]
  },
  {
   "cell_type": "code",
   "execution_count": 70,
   "metadata": {
    "collapsed": false
   },
   "outputs": [
    {
     "name": "stdout",
     "output_type": "stream",
     "text": [
      "--2021-06-16 07:22:00--  https://paddlenlp.bj.bcebos.com/models/text_matching/ernie_gram_zh_pointwise_matching_model.tar\n",
      "Resolving paddlenlp.bj.bcebos.com (paddlenlp.bj.bcebos.com)... 182.61.200.195, 182.61.200.229, 2409:8c00:6c21:10ad:0:ff:b00e:67d\n",
      "Connecting to paddlenlp.bj.bcebos.com (paddlenlp.bj.bcebos.com)|182.61.200.195|:443... connected.\n",
      "HTTP request sent, awaiting response... 200 OK\n",
      "Length: 597667840 (570M) [application/x-tar]\n",
      "Saving to: ‘ernie_gram_zh_pointwise_matching_model.tar.2’\n",
      "\n",
      "ernie_gram_zh_point 100%[===================>] 569.98M  41.1MB/s    in 14s     \n",
      "\n",
      "2021-06-16 07:22:14 (40.3 MB/s) - ‘ernie_gram_zh_pointwise_matching_model.tar.2’ saved [597667840/597667840]\n",
      "\n",
      "ernie_gram_zh_pointwise_matching_model/\n",
      "ernie_gram_zh_pointwise_matching_model/model_state.pdparams\n",
      "ernie_gram_zh_pointwise_matching_model/vocab.txt\n",
      "ernie_gram_zh_pointwise_matching_model/tokenizer_config.json\n"
     ]
    }
   ],
   "source": [
    "# 下载我们基于 Lcqmc 事先训练好的语义匹配模型并解压\n",
    "! wget https://paddlenlp.bj.bcebos.com/models/text_matching/ernie_gram_zh_pointwise_matching_model.tar\n",
    "! tar -xvf ernie_gram_zh_pointwise_matching_model.tar"
   ]
  },
  {
   "cell_type": "code",
   "execution_count": 71,
   "metadata": {
    "collapsed": false
   },
   "outputs": [
    {
     "name": "stdout",
     "output_type": "stream",
     "text": [
      "谁有狂三这张高清的\t这张高清图，谁有\r\n",
      "英雄联盟什么英雄最好\t英雄联盟最好英雄是什么\r\n",
      "这是什么意思，被蹭网吗\t我也是醉了，这是什么意思\r\n"
     ]
    }
   ],
   "source": [
    "# 测试数据由 2 列文本构成 tab 分隔\n",
    "# Lcqmc 默认下载到如下路径\n",
    "! head -n3 \"${HOME}/.paddlenlp/datasets/LCQMC/lcqmc/lcqmc/test.tsv\""
   ]
  },
  {
   "cell_type": "markdown",
   "metadata": {
    "collapsed": false
   },
   "source": [
    "#### 定义预测函数"
   ]
  },
  {
   "cell_type": "code",
   "execution_count": 72,
   "metadata": {
    "collapsed": false
   },
   "outputs": [],
   "source": [
    "\n",
    "def predict(model, data_loader):\n",
    "    \n",
    "    batch_probs = []\n",
    "\n",
    "    # 预测阶段打开 eval 模式，模型中的 dropout 等操作会关掉\n",
    "    model.eval()\n",
    "\n",
    "    with paddle.no_grad():\n",
    "        for batch_data in data_loader:\n",
    "            input_ids, token_type_ids = batch_data\n",
    "            input_ids = paddle.to_tensor(input_ids)\n",
    "            token_type_ids = paddle.to_tensor(token_type_ids)\n",
    "            \n",
    "            # 获取每个样本的预测概率: [batch_size, 2] 的矩阵\n",
    "            batch_prob = model(\n",
    "                input_ids=input_ids, token_type_ids=token_type_ids).numpy()\n",
    "\n",
    "            batch_probs.append(batch_prob)\n",
    "        batch_probs = np.concatenate(batch_probs, axis=0)\n",
    "\n",
    "        return batch_probs"
   ]
  },
  {
   "cell_type": "markdown",
   "metadata": {
    "collapsed": false
   },
   "source": [
    "#### 定义预测数据的 data_loader"
   ]
  },
  {
   "cell_type": "code",
   "execution_count": 73,
   "metadata": {
    "collapsed": false
   },
   "outputs": [],
   "source": [
    "# 预测数据的转换函数\n",
    "# predict 数据没有 label, 因此 convert_exmaple 的 is_test 参数设为 True\n",
    "trans_func = partial(\n",
    "    convert_example,\n",
    "    tokenizer=tokenizer,\n",
    "    max_seq_length=512,\n",
    "    is_test=True)\n",
    "\n",
    "# 预测数据的组 batch 操作\n",
    "# predict 数据只返回 input_ids 和 token_type_ids，因此只需要 2 个 Pad 对象作为 batchify_fn\n",
    "batchify_fn = lambda samples, fn=Tuple(\n",
    "    Pad(axis=0, pad_val=tokenizer.pad_token_id),  # input_ids\n",
    "    Pad(axis=0, pad_val=tokenizer.pad_token_type_id),  # segment_ids\n",
    "): [data for data in fn(samples)]\n",
    "\n",
    "# 加载预测数据\n",
    "# test_ds = load_dataset(\"lcqmc\", splits=[\"test\"])"
   ]
  },
  {
   "cell_type": "code",
   "execution_count": 74,
   "metadata": {
    "collapsed": false
   },
   "outputs": [],
   "source": [
    "batch_sampler = paddle.io.BatchSampler(test_ds, batch_size=32, shuffle=False)\n",
    "\n",
    "# 生成预测数据 data_loader\n",
    "predict_data_loader =paddle.io.DataLoader(\n",
    "        dataset=test_ds.map(trans_func),\n",
    "        batch_sampler=batch_sampler,\n",
    "        collate_fn=batchify_fn,\n",
    "        return_list=True)"
   ]
  },
  {
   "cell_type": "markdown",
   "metadata": {
    "collapsed": false
   },
   "source": [
    "#### 定义预测模型"
   ]
  },
  {
   "cell_type": "code",
   "execution_count": 75,
   "metadata": {
    "collapsed": false
   },
   "outputs": [
    {
     "name": "stderr",
     "output_type": "stream",
     "text": [
      "[2021-06-16 07:26:02,593] [    INFO] - Already cached /home/aistudio/.paddlenlp/models/ernie-gram-zh/ernie_gram_zh.pdparams\n"
     ]
    }
   ],
   "source": [
    "# 选择预训练ernie gram，填写自己的代码\n",
    "pretrained_model = paddlenlp.transformers.ErnieGramModel.from_pretrained('ernie-gram-zh')\n",
    "\n",
    "model = PointwiseMatching(pretrained_model)"
   ]
  },
  {
   "cell_type": "markdown",
   "metadata": {
    "collapsed": false
   },
   "source": [
    "#### 加载已训练好的模型参数"
   ]
  },
  {
   "cell_type": "code",
   "execution_count": 76,
   "metadata": {
    "collapsed": false
   },
   "outputs": [],
   "source": [
    "# 刚才下载的模型解压之后存储路径为 ./ernie_gram_zh_pointwise_matching_model/model_state.pdparams\n",
    "state_dict = paddle.load(\"./ernie_gram_zh_pointwise_matching_model/model_state.pdparams\")\n",
    "\n",
    "# 刚才下载的模型解压之后存储路径为 ./pointwise_matching_model/ernie1.0_base_pointwise_matching.pdparams\n",
    "# state_dict = paddle.load(\"pointwise_matching_model/ernie1.0_base_pointwise_matching.pdparams\")\n",
    "model.set_dict(state_dict)"
   ]
  },
  {
   "cell_type": "markdown",
   "metadata": {
    "collapsed": false
   },
   "source": [
    "#### 开始预测"
   ]
  },
  {
   "cell_type": "code",
   "execution_count": 77,
   "metadata": {
    "collapsed": false
   },
   "outputs": [
    {
     "name": "stdout",
     "output_type": "stream",
     "text": [
      "[Tensor(shape=[32, 112], dtype=int64, place=CUDAPinnedPlace, stop_gradient=True,\n",
      "       [[1    , 10468, 9892 , ..., 0    , 0    , 0    ],\n",
      "        [1    , 2115 , 17   , ..., 0    , 0    , 0    ],\n",
      "        [1    , 8719 , 9579 , ..., 0    , 0    , 0    ],\n",
      "        ...,\n",
      "        [1    , 11   , 5700 , ..., 0    , 0    , 0    ],\n",
      "        [1    , 11   , 37   , ..., 0    , 0    , 0    ],\n",
      "        [1    , 599  , 1841 , ..., 0    , 0    , 0    ]]), Tensor(shape=[32, 112], dtype=int64, place=CUDAPinnedPlace, stop_gradient=True,\n",
      "       [[0, 0, 0, ..., 0, 0, 0],\n",
      "        [0, 0, 0, ..., 0, 0, 0],\n",
      "        [0, 0, 0, ..., 0, 0, 0],\n",
      "        ...,\n",
      "        [0, 0, 0, ..., 0, 0, 0],\n",
      "        [0, 0, 0, ..., 0, 0, 0],\n",
      "        [0, 0, 0, ..., 0, 0, 0]])]\n"
     ]
    }
   ],
   "source": [
    "for idx, batch in enumerate(predict_data_loader):\n",
    "    if idx < 1:\n",
    "        print(batch)"
   ]
  },
  {
   "cell_type": "code",
   "execution_count": 78,
   "metadata": {
    "collapsed": false
   },
   "outputs": [],
   "source": [
    "# 执行预测函数\n",
    "y_probs = predict(model, predict_data_loader)\n",
    "\n",
    "# 根据预测概率获取预测 label\n",
    "y_preds = np.argmax(y_probs, axis=1)"
   ]
  },
  {
   "cell_type": "markdown",
   "metadata": {
    "collapsed": false
   },
   "source": [
    "#### 输出预测结果"
   ]
  },
  {
   "cell_type": "code",
   "execution_count": 110,
   "metadata": {
    "collapsed": false
   },
   "outputs": [
    {
     "name": "stdout",
     "output_type": "stream",
     "text": [
      "['可能的音节结构是 V、CV 或 CCV，其中第二个辅音是。', '可能的音节结构为 V 、CV 或 CCV，然而第二个辅音是。', 1]\r"
     ]
    },
    {
     "name": "stderr",
     "output_type": "stream",
     "text": [
      "IOPub message rate exceeded.\n",
      "The notebook server will temporarily stop sending output\n",
      "to the client in order to avoid crashing it.\n",
      "To change this limit, set the config variable\n",
      "`--NotebookApp.iopub_msg_rate_limit`.\n",
      "\n",
      "Current values:\n",
      "NotebookApp.iopub_msg_rate_limit=1000.0 (msgs/sec)\n",
      "NotebookApp.rate_limit_window=3.0 (secs)\n",
      "\n"
     ]
    }
   ],
   "source": [
    "# 我们按照千言文本相似度竞赛的提交格式将预测结果存储在 lcqmc.tsv 中，用来后续提交\n",
    "# 同时将预测结果输出到终端，便于大家直观感受模型预测效果\n",
    "\n",
    "# test_ds = load_dataset(\"lcqmc\", splits=[\"test\"])\n",
    "\n",
    "# with open(\"lcqmc.tsv\", 'w', encoding=\"utf-8\") as f:\n",
    "#     f.write(\"index\\tprediction\\n\")    \n",
    "#     for idx, y_pred in enumerate(y_preds):\n",
    "#         f.write(\"{}\\t{}\\n\".format(idx, y_pred))\n",
    "#         text_pair = test_ds[idx]\n",
    "#         text_pair[\"label\"] = y_pred\n",
    "#         print(text_pair)\n",
    "\n",
    "test_ds = test_ds_copy\n",
    "\n",
    "\n",
    "with open(\"paws-x.tsv\", 'w', encoding=\"utf-8\") as f:\n",
    "    f.write(\"index\\tprediction\\n\")    \n",
    "    for idx, y_pred in enumerate(y_preds):\n",
    "        f.write(\"{}\\t{}\\n\".format(idx, y_pred))\n",
    "        text_pair = list(test_ds[idx])\n",
    "        text_pair[-1] = y_pred\n",
    "        print(text_pair)"
   ]
  },
  {
   "cell_type": "code",
   "execution_count": 109,
   "metadata": {
    "collapsed": false
   },
   "outputs": [],
   "source": []
  },
  {
   "cell_type": "markdown",
   "metadata": {
    "collapsed": false
   },
   "source": [
    "#### 提交 LCQMC 预测结果[千言文本相似度竞赛](https://aistudio.baidu.com/aistudio/competition/detail/45)\n",
    "\n",
    "千言文本相似度竞赛一共有 3 个数据集: lcqmc、bq_corpus、paws-x, 我们刚才生成了 lcqmc 的预测结果 lcqmc.tsv, 同时我们在项目内提供了 bq_corpus、paw-x 数据集的空预测结果，我们将这 3 个文件打包提交到千言文本相似度竞赛，即可看到自己的模型在 Lcqmc 数据集上的竞赛成绩。\n",
    "\n"
   ]
  },
  {
   "cell_type": "code",
   "execution_count": 30,
   "metadata": {
    "collapsed": false
   },
   "outputs": [
    {
     "name": "stdout",
     "output_type": "stream",
     "text": [
      "  adding: lcqmc.tsv (deflated 65%)\r\n",
      "  adding: paws-x.tsv (deflated 61%)\r\n",
      "  adding: bq_corpus.tsv (deflated 62%)\r\n"
     ]
    }
   ],
   "source": [
    "# 打包预测结果\n",
    "!zip submit.zip lcqmc.tsv paws-x.tsv bq_corpus.tsv"
   ]
  },
  {
   "cell_type": "markdown",
   "metadata": {
    "collapsed": false
   },
   "source": [
    "##### 提交预测结果 submit.zip 到 [千言文本相似度竞赛](https://aistudio.baidu.com/aistudio/competition/detail/45)"
   ]
  },
  {
   "cell_type": "markdown",
   "metadata": {
    "collapsed": false
   },
   "source": [
    "# 千言文本相似度竞赛结果截图\n",
    "\n",
    "将自己的竞赛结果贴在此处\n",
    "![](https://ai-studio-static-online.cdn.bcebos.com/ccc5814f4582493eb102d9beb02e04c0e38ffb19010d4b93ac43f021db83aff0)\n"
   ]
  },
  {
   "cell_type": "code",
   "execution_count": null,
   "metadata": {
    "collapsed": false
   },
   "outputs": [],
   "source": []
  }
 ],
 "metadata": {
  "kernelspec": {
   "display_name": "PaddlePaddle 2.1.0 (Python 3.5)",
   "language": "python",
   "name": "py35-paddle1.2.0"
  },
  "language_info": {
   "codemirror_mode": {
    "name": "ipython",
    "version": 3
   },
   "file_extension": ".py",
   "mimetype": "text/x-python",
   "name": "python",
   "nbconvert_exporter": "python",
   "pygments_lexer": "ipython3",
   "version": "3.7.4"
  }
 },
 "nbformat": 4,
 "nbformat_minor": 1
}
