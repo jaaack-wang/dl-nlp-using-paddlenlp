{
 "cells": [
  {
   "cell_type": "markdown",
   "id": "07e728e7",
   "metadata": {},
   "source": [
    "## Get Data\n",
    "\n",
    "In case you have not run the `1 - get_data.ipynb`, run the following cell."
   ]
  },
  {
   "cell_type": "code",
   "execution_count": 1,
   "id": "e6cc11a7",
   "metadata": {},
   "outputs": [
    {
     "name": "stdout",
     "output_type": "stream",
     "text": [
      "--2022-01-16 15:58:20--  http://qim.fs.quoracdn.net/quora_duplicate_questions.tsv\n",
      "Resolving qim.fs.quoracdn.net (qim.fs.quoracdn.net)... 151.101.53.2\n",
      "Connecting to qim.fs.quoracdn.net (qim.fs.quoracdn.net)|151.101.53.2|:80... connected.\n",
      "HTTP request sent, awaiting response... 200 OK\n",
      "Length: 58176133 (55M) [text/tab-separated-values]\n",
      "Saving to: ‘quora_duplicate_questions.tsv.1’\n",
      "\n",
      "quora_duplicate_que 100%[===================>]  55.48M  30.8MB/s    in 1.8s    \n",
      "\n",
      "2022-01-16 15:58:23 (30.8 MB/s) - ‘quora_duplicate_questions.tsv.1’ saved [58176133/58176133]\n",
      "\n",
      "train.txt has been saved!\n",
      "dev.txt has been saved!\n",
      "test.txt has been saved!\n"
     ]
    }
   ],
   "source": [
    "!wget http://qim.fs.quoracdn.net/quora_duplicate_questions.tsv\n",
    "import get_data\n",
    "\n",
    "get_data.get_quora_data()"
   ]
  },
  {
   "cell_type": "markdown",
   "id": "150aa034",
   "metadata": {},
   "source": [
    "## Preprocess and numericalize text data\n",
    "\n",
    "In case you have not run the `2 - preprocess_data.ipynb`, run the following cell."
   ]
  },
  {
   "cell_type": "code",
   "execution_count": 2,
   "id": "741b52bf",
   "metadata": {},
   "outputs": [
    {
     "name": "stdout",
     "output_type": "stream",
     "text": [
      "Two vocabulary dictionaries have been built!\n",
      "Please call \u001b[1mX.vocab_to_idx | X.idx_to_vocab\u001b[0m to find out more where [X] stands for the name you used for this TextVectorizer class.\n"
     ]
    }
   ],
   "source": [
    "from utils import *\n",
    "\n",
    "# ---- load dataset ----\n",
    "train_set, dev_set, test_set = load_dataset(['train.txt', 'dev.txt', 'test.txt'])\n",
    "\n",
    "# ---- numericalize the train set ----\n",
    "V = TextVectorizer(tokenize) \n",
    "text = gather_text(train_set) # for collecting texts from train set\n",
    "V.build_vocab(text) # for building mapping vocab_to_idx dictionary and text_encoder\n",
    "train_set_encoded = list(encode_dataset(train_set, encoder=V.text_encoder)) # encodoing train set\n",
    "dev_set_encoded = list(encode_dataset(dev_set, encoder=V.text_encoder)) # encodoing dev set for validation\n",
    "test_set_encoded  = list(encode_dataset(test_set, encoder=V.text_encoder)) # encodoing dev set for prediction\n",
    "\n",
    "# ---- build mini batches for the train and dev set ----\n",
    "train_set_batched = build_batches(train_set_encoded, batch_size=64, include_seq_len=False)\n",
    "dev_set_batched = build_batches(dev_set_encoded, batch_size=64, include_seq_len=False)\n",
    "test_set_batched = build_batches(test_set_encoded, batch_size=64, include_seq_len=False)"
   ]
  },
  {
   "cell_type": "markdown",
   "id": "1052945f",
   "metadata": {},
   "source": [
    "## Training and evaluating models \n",
    "\n",
    "### BoW (Bag of Words) model\n",
    "\n",
    "#### Training"
   ]
  },
  {
   "cell_type": "code",
   "execution_count": 3,
   "id": "5ebd670b",
   "metadata": {},
   "outputs": [],
   "source": [
    "from paddle_models.BoW import BoW\n",
    "import paddle"
   ]
  },
  {
   "cell_type": "code",
   "execution_count": 4,
   "id": "b0a72668",
   "metadata": {},
   "outputs": [],
   "source": [
    "def get_model(model):\n",
    "    model = paddle.Model(model)\n",
    "    optimizer = paddle.optimizer.Adam(\n",
    "    parameters=model.parameters(), learning_rate=5e-4)\n",
    "    criterion = paddle.nn.CrossEntropyLoss()\n",
    "    metric = paddle.metric.Accuracy()\n",
    "    model.prepare(optimizer, criterion, metric)\n",
    "    return model"
   ]
  },
  {
   "cell_type": "code",
   "execution_count": 5,
   "id": "c4376e2a",
   "metadata": {},
   "outputs": [
    {
     "name": "stdout",
     "output_type": "stream",
     "text": [
      "The loss value printed in the log is the current step, and the metric is the average value of previous steps.\n",
      "Epoch 1/5\n",
      "step 30/47 [==================>...........] - loss: 0.6676 - acc: 0.5865 - ETA: 0s - 6ms/step"
     ]
    },
    {
     "name": "stderr",
     "output_type": "stream",
     "text": [
      "/Library/Frameworks/Python.framework/Versions/3.9/lib/python3.9/site-packages/paddle/fluid/layers/utils.py:77: DeprecationWarning: Using or importing the ABCs from 'collections' instead of from 'collections.abc' is deprecated since Python 3.3, and in 3.10 it will stop working\n",
      "  return (isinstance(seq, collections.Sequence) and\n"
     ]
    },
    {
     "name": "stdout",
     "output_type": "stream",
     "text": [
      "step 47/47 [==============================] - loss: 0.6391 - acc: 0.5983 - 6ms/step          \n",
      "save checkpoint at /Users/wzx/Documents/GitHub/text_matching/ckpt/0\n",
      "Eval begin...\n",
      "step 16/16 [==============================] - loss: 0.5784 - acc: 0.6450 - 2ms/step          \n",
      "Eval samples: 1000\n",
      "Epoch 2/5\n",
      "step 47/47 [==============================] - loss: 0.4903 - acc: 0.8040 - 6ms/step          \n",
      "save checkpoint at /Users/wzx/Documents/GitHub/text_matching/ckpt/1\n",
      "Eval begin...\n",
      "step 16/16 [==============================] - loss: 0.4543 - acc: 0.6630 - 2ms/step          \n",
      "Eval samples: 1000\n",
      "Epoch 3/5\n",
      "step 47/47 [==============================] - loss: 0.3227 - acc: 0.9003 - 6ms/step          \n",
      "save checkpoint at /Users/wzx/Documents/GitHub/text_matching/ckpt/2\n",
      "Eval begin...\n",
      "step 16/16 [==============================] - loss: 0.4664 - acc: 0.6420 - 2ms/step          \n",
      "Eval samples: 1000\n",
      "Epoch 4/5\n",
      "step 47/47 [==============================] - loss: 0.1736 - acc: 0.9633 - 6ms/step          \n",
      "save checkpoint at /Users/wzx/Documents/GitHub/text_matching/ckpt/3\n",
      "Eval begin...\n",
      "step 16/16 [==============================] - loss: 0.5489 - acc: 0.6290 - 2ms/step          \n",
      "Eval samples: 1000\n",
      "Epoch 5/5\n",
      "step 47/47 [==============================] - loss: 0.0733 - acc: 0.9863 - 6ms/step          \n",
      "save checkpoint at /Users/wzx/Documents/GitHub/text_matching/ckpt/4\n",
      "Eval begin...\n",
      "step 16/16 [==============================] - loss: 0.6274 - acc: 0.6180 - 2ms/step          \n",
      "Eval samples: 1000\n",
      "save checkpoint at /Users/wzx/Documents/GitHub/text_matching/ckpt/final\n",
      "CPU times: user 1.87 s, sys: 130 ms, total: 2 s\n",
      "Wall time: 2 s\n"
     ]
    }
   ],
   "source": [
    "model = BoW(len(V.vocab_to_idx), 2)\n",
    "model = get_model(model)\n",
    "%time model.fit(train_set_batched, dev_set_batched, epochs=5, save_dir='./ckpt', verbose=1)"
   ]
  },
  {
   "cell_type": "markdown",
   "id": "a2550081",
   "metadata": {},
   "source": [
    "#### Evaluation on the test set"
   ]
  },
  {
   "cell_type": "code",
   "execution_count": 6,
   "id": "ed45b7ef",
   "metadata": {},
   "outputs": [
    {
     "name": "stdout",
     "output_type": "stream",
     "text": [
      "Eval begin...\n",
      "step 10/16 - loss: 0.9671 - acc: 0.6203 - 2ms/step\n",
      "step 16/16 - loss: 1.0170 - acc: 0.6120 - 2ms/step\n",
      "Eval samples: 1000\n"
     ]
    },
    {
     "data": {
      "text/plain": [
       "{'loss': [1.0170405], 'acc': 0.612}"
      ]
     },
     "execution_count": 6,
     "metadata": {},
     "output_type": "execute_result"
    }
   ],
   "source": [
    "model.evaluate(test_set_batched)"
   ]
  },
  {
   "cell_type": "markdown",
   "id": "974c471c",
   "metadata": {},
   "source": [
    "### CNN (Convolutional Neural Network) model\n",
    "\n",
    "#### Training"
   ]
  },
  {
   "cell_type": "code",
   "execution_count": 7,
   "id": "bf5de7aa",
   "metadata": {},
   "outputs": [
    {
     "name": "stdout",
     "output_type": "stream",
     "text": [
      "The loss value printed in the log is the current step, and the metric is the average value of previous steps.\n",
      "Epoch 1/5\n",
      "step 47/47 [==============================] - loss: 0.6877 - acc: 0.5500 - 71ms/step          \n",
      "save checkpoint at /Users/wzx/Documents/GitHub/text_matching/ckpt/0\n",
      "Eval begin...\n",
      "step 16/16 [==============================] - loss: 0.6667 - acc: 0.5670 - 26ms/step          \n",
      "Eval samples: 1000\n",
      "Epoch 2/5\n",
      "step 47/47 [==============================] - loss: 0.5575 - acc: 0.7697 - 70ms/step          \n",
      "save checkpoint at /Users/wzx/Documents/GitHub/text_matching/ckpt/1\n",
      "Eval begin...\n",
      "step 16/16 [==============================] - loss: 0.5453 - acc: 0.6480 - 27ms/step          \n",
      "Eval samples: 1000\n",
      "Epoch 3/5\n",
      "step 47/47 [==============================] - loss: 0.3051 - acc: 0.8747 - 72ms/step          \n",
      "save checkpoint at /Users/wzx/Documents/GitHub/text_matching/ckpt/2\n",
      "Eval begin...\n",
      "step 16/16 [==============================] - loss: 0.4356 - acc: 0.6790 - 26ms/step          \n",
      "Eval samples: 1000\n",
      "Epoch 4/5\n",
      "step 47/47 [==============================] - loss: 0.1165 - acc: 0.9570 - 72ms/step          \n",
      "save checkpoint at /Users/wzx/Documents/GitHub/text_matching/ckpt/3\n",
      "Eval begin...\n",
      "step 16/16 [==============================] - loss: 0.5359 - acc: 0.6360 - 28ms/step          \n",
      "Eval samples: 1000\n",
      "Epoch 5/5\n",
      "step 47/47 [==============================] - loss: 0.0283 - acc: 0.9897 - 70ms/step          \n",
      "save checkpoint at /Users/wzx/Documents/GitHub/text_matching/ckpt/4\n",
      "Eval begin...\n",
      "step 16/16 [==============================] - loss: 0.6028 - acc: 0.6350 - 28ms/step          \n",
      "Eval samples: 1000\n",
      "save checkpoint at /Users/wzx/Documents/GitHub/text_matching/ckpt/final\n",
      "CPU times: user 19 s, sys: 246 ms, total: 19.2 s\n",
      "Wall time: 19.4 s\n"
     ]
    }
   ],
   "source": [
    "from paddle_models.CNN import CNN\n",
    "\n",
    "model = CNN(len(V.vocab_to_idx), 2)\n",
    "model = get_model(model)\n",
    "%time model.fit(train_set_batched, dev_set_batched, epochs=5, save_dir='./ckpt', verbose=1)"
   ]
  },
  {
   "cell_type": "markdown",
   "id": "0e9502c1",
   "metadata": {},
   "source": [
    "#### Evaluation on the test set"
   ]
  },
  {
   "cell_type": "code",
   "execution_count": 8,
   "id": "1838b0db",
   "metadata": {},
   "outputs": [
    {
     "name": "stdout",
     "output_type": "stream",
     "text": [
      "Eval begin...\n",
      "step 10/16 - loss: 0.9078 - acc: 0.6422 - 26ms/step\n",
      "step 16/16 - loss: 1.0210 - acc: 0.6330 - 26ms/step\n",
      "Eval samples: 1000\n"
     ]
    },
    {
     "data": {
      "text/plain": [
       "{'loss': [1.0210375], 'acc': 0.633}"
      ]
     },
     "execution_count": 8,
     "metadata": {},
     "output_type": "execute_result"
    }
   ],
   "source": [
    "model.evaluate(test_set_batched)"
   ]
  },
  {
   "cell_type": "markdown",
   "id": "9285af7c",
   "metadata": {},
   "source": [
    "## RNN (Recurrent neural network) models\n",
    "\n",
    "As the RNN models also take as an input the sequence length, we need to re-encode the train set, dev set, and test set. "
   ]
  },
  {
   "cell_type": "code",
   "execution_count": 9,
   "id": "8764b280",
   "metadata": {},
   "outputs": [],
   "source": [
    "# ---- build mini batches for the train and dev set ----\n",
    "train_set_batched = build_batches(train_set_encoded, batch_size=64, include_seq_len=True)\n",
    "dev_set_batched = build_batches(dev_set_encoded, batch_size=64, include_seq_len=True)\n",
    "test_set_batched = build_batches(test_set_encoded, batch_size=64, include_seq_len=True)"
   ]
  },
  {
   "cell_type": "markdown",
   "id": "b05d14c7",
   "metadata": {},
   "source": [
    "### Simple RNN model\n",
    "\n",
    "#### Training"
   ]
  },
  {
   "cell_type": "code",
   "execution_count": 10,
   "id": "7706134f",
   "metadata": {},
   "outputs": [
    {
     "name": "stdout",
     "output_type": "stream",
     "text": [
      "The loss value printed in the log is the current step, and the metric is the average value of previous steps.\n",
      "Epoch 1/5\n",
      "step 47/47 [==============================] - loss: 0.6916 - acc: 0.5267 - 20ms/step          \n",
      "save checkpoint at /Users/wzx/Documents/GitHub/text_matching/ckpt/0\n",
      "Eval begin...\n",
      "step 16/16 [==============================] - loss: 0.6882 - acc: 0.5310 - 8ms/step          \n",
      "Eval samples: 1000\n",
      "Epoch 2/5\n",
      "step 47/47 [==============================] - loss: 0.5643 - acc: 0.6923 - 20ms/step          \n",
      "save checkpoint at /Users/wzx/Documents/GitHub/text_matching/ckpt/1\n",
      "Eval begin...\n",
      "step 16/16 [==============================] - loss: 0.6363 - acc: 0.5700 - 7ms/step          \n",
      "Eval samples: 1000\n",
      "Epoch 3/5\n",
      "step 47/47 [==============================] - loss: 0.1211 - acc: 0.8907 - 22ms/step          \n",
      "save checkpoint at /Users/wzx/Documents/GitHub/text_matching/ckpt/2\n",
      "Eval begin...\n",
      "step 16/16 [==============================] - loss: 0.8905 - acc: 0.5650 - 8ms/step          \n",
      "Eval samples: 1000\n",
      "Epoch 4/5\n",
      "step 47/47 [==============================] - loss: 0.0314 - acc: 0.9777 - 22ms/step          \n",
      "save checkpoint at /Users/wzx/Documents/GitHub/text_matching/ckpt/3\n",
      "Eval begin...\n",
      "step 16/16 [==============================] - loss: 1.1099 - acc: 0.5480 - 7ms/step          \n",
      "Eval samples: 1000\n",
      "Epoch 5/5\n",
      "step 47/47 [==============================] - loss: 0.0043 - acc: 0.9940 - 21ms/step          \n",
      "save checkpoint at /Users/wzx/Documents/GitHub/text_matching/ckpt/4\n",
      "Eval begin...\n",
      "step 16/16 [==============================] - loss: 1.3743 - acc: 0.5540 - 8ms/step          \n",
      "Eval samples: 1000\n",
      "save checkpoint at /Users/wzx/Documents/GitHub/text_matching/ckpt/final\n",
      "CPU times: user 5.86 s, sys: 209 ms, total: 6.07 s\n",
      "Wall time: 6.11 s\n"
     ]
    }
   ],
   "source": [
    "from paddle_models.S_RNN import SimpleRNN\n",
    "\n",
    "model = SimpleRNN(len(V.vocab_to_idx), 2)\n",
    "model = get_model(model)\n",
    "%time model.fit(train_set_batched, dev_set_batched, epochs=5, save_dir='./ckpt', verbose=1)"
   ]
  },
  {
   "cell_type": "markdown",
   "id": "1863367e",
   "metadata": {},
   "source": [
    "#### Evaluation on the test set"
   ]
  },
  {
   "cell_type": "code",
   "execution_count": 11,
   "id": "001e85d2",
   "metadata": {},
   "outputs": [
    {
     "name": "stdout",
     "output_type": "stream",
     "text": [
      "Eval begin...\n",
      "step 10/16 - loss: 1.3285 - acc: 0.5578 - 7ms/step\n",
      "step 16/16 - loss: 1.3155 - acc: 0.5600 - 8ms/step\n",
      "Eval samples: 1000\n"
     ]
    },
    {
     "data": {
      "text/plain": [
       "{'loss': [1.3154628], 'acc': 0.56}"
      ]
     },
     "execution_count": 11,
     "metadata": {},
     "output_type": "execute_result"
    }
   ],
   "source": [
    "model.evaluate(test_set_batched)"
   ]
  },
  {
   "cell_type": "markdown",
   "id": "66f0f869",
   "metadata": {},
   "source": [
    "### GRU (Gated recurrent units) model \n",
    "\n",
    "#### Training"
   ]
  },
  {
   "cell_type": "code",
   "execution_count": 12,
   "id": "845b36b0",
   "metadata": {},
   "outputs": [
    {
     "name": "stdout",
     "output_type": "stream",
     "text": [
      "The loss value printed in the log is the current step, and the metric is the average value of previous steps.\n",
      "Epoch 1/5\n",
      "step 47/47 [==============================] - loss: 0.6896 - acc: 0.5137 - 44ms/step          \n",
      "save checkpoint at /Users/wzx/Documents/GitHub/text_matching/ckpt/0\n",
      "Eval begin...\n",
      "step 16/16 [==============================] - loss: 0.6917 - acc: 0.5840 - 17ms/step          \n",
      "Eval samples: 1000\n",
      "Epoch 2/5\n",
      "step 47/47 [==============================] - loss: 0.5612 - acc: 0.6713 - 41ms/step          \n",
      "save checkpoint at /Users/wzx/Documents/GitHub/text_matching/ckpt/1\n",
      "Eval begin...\n",
      "step 16/16 [==============================] - loss: 0.6567 - acc: 0.6270 - 18ms/step          \n",
      "Eval samples: 1000\n",
      "Epoch 3/5\n",
      "step 47/47 [==============================] - loss: 0.2581 - acc: 0.8450 - 47ms/step          \n",
      "save checkpoint at /Users/wzx/Documents/GitHub/text_matching/ckpt/2\n",
      "Eval begin...\n",
      "step 16/16 [==============================] - loss: 0.6945 - acc: 0.6150 - 17ms/step          \n",
      "Eval samples: 1000\n",
      "Epoch 4/5\n",
      "step 47/47 [==============================] - loss: 0.0754 - acc: 0.9500 - 41ms/step          \n",
      "save checkpoint at /Users/wzx/Documents/GitHub/text_matching/ckpt/3\n",
      "Eval begin...\n",
      "step 16/16 [==============================] - loss: 0.9572 - acc: 0.6250 - 17ms/step          \n",
      "Eval samples: 1000\n",
      "Epoch 5/5\n",
      "step 47/47 [==============================] - loss: 0.0424 - acc: 0.9840 - 43ms/step          \n",
      "save checkpoint at /Users/wzx/Documents/GitHub/text_matching/ckpt/4\n",
      "Eval begin...\n",
      "step 16/16 [==============================] - loss: 1.1309 - acc: 0.6200 - 17ms/step          \n",
      "Eval samples: 1000\n",
      "save checkpoint at /Users/wzx/Documents/GitHub/text_matching/ckpt/final\n",
      "CPU times: user 11.9 s, sys: 197 ms, total: 12.1 s\n",
      "Wall time: 12.1 s\n"
     ]
    }
   ],
   "source": [
    "from paddle_models.GRU import GRU\n",
    "\n",
    "model = GRU(len(V.vocab_to_idx), 2)\n",
    "model = get_model(model)\n",
    "%time model.fit(train_set_batched, dev_set_batched, epochs=5, save_dir='./ckpt', verbose=1)"
   ]
  },
  {
   "cell_type": "markdown",
   "id": "85ff6932",
   "metadata": {},
   "source": [
    "#### Evaluation on the test set"
   ]
  },
  {
   "cell_type": "code",
   "execution_count": 13,
   "id": "ce7a2b5d",
   "metadata": {},
   "outputs": [
    {
     "name": "stdout",
     "output_type": "stream",
     "text": [
      "Eval begin...\n",
      "step 10/16 - loss: 1.4538 - acc: 0.6094 - 18ms/step\n",
      "step 16/16 - loss: 1.0900 - acc: 0.6120 - 18ms/step\n",
      "Eval samples: 1000\n"
     ]
    },
    {
     "data": {
      "text/plain": [
       "{'loss': [1.0899506], 'acc': 0.612}"
      ]
     },
     "execution_count": 13,
     "metadata": {},
     "output_type": "execute_result"
    }
   ],
   "source": [
    "model.evaluate(test_set_batched)"
   ]
  },
  {
   "cell_type": "markdown",
   "id": "8a4d9863",
   "metadata": {},
   "source": [
    "### LSTM (Long short-term memory) model\n",
    "\n",
    "#### Training"
   ]
  },
  {
   "cell_type": "code",
   "execution_count": 14,
   "id": "11223765",
   "metadata": {},
   "outputs": [
    {
     "name": "stdout",
     "output_type": "stream",
     "text": [
      "The loss value printed in the log is the current step, and the metric is the average value of previous steps.\n",
      "Epoch 1/5\n",
      "step 47/47 [==============================] - loss: 0.6913 - acc: 0.4953 - 55ms/step          \n",
      "save checkpoint at /Users/wzx/Documents/GitHub/text_matching/ckpt/0\n",
      "Eval begin...\n",
      "step 16/16 [==============================] - loss: 0.6941 - acc: 0.5000 - 21ms/step          \n",
      "Eval samples: 1000\n",
      "Epoch 2/5\n",
      "step 47/47 [==============================] - loss: 0.6297 - acc: 0.6033 - 52ms/step          \n",
      "save checkpoint at /Users/wzx/Documents/GitHub/text_matching/ckpt/1\n",
      "Eval begin...\n",
      "step 16/16 [==============================] - loss: 0.6599 - acc: 0.6310 - 20ms/step          \n",
      "Eval samples: 1000\n",
      "Epoch 3/5\n",
      "step 47/47 [==============================] - loss: 0.3528 - acc: 0.8113 - 54ms/step          \n",
      "save checkpoint at /Users/wzx/Documents/GitHub/text_matching/ckpt/2\n",
      "Eval begin...\n",
      "step 16/16 [==============================] - loss: 0.6847 - acc: 0.6540 - 20ms/step          \n",
      "Eval samples: 1000\n",
      "Epoch 4/5\n",
      "step 47/47 [==============================] - loss: 0.1363 - acc: 0.9207 - 51ms/step          \n",
      "save checkpoint at /Users/wzx/Documents/GitHub/text_matching/ckpt/3\n",
      "Eval begin...\n",
      "step 16/16 [==============================] - loss: 0.8286 - acc: 0.6220 - 20ms/step          \n",
      "Eval samples: 1000\n",
      "Epoch 5/5\n",
      "step 47/47 [==============================] - loss: 0.0907 - acc: 0.9677 - 54ms/step          \n",
      "save checkpoint at /Users/wzx/Documents/GitHub/text_matching/ckpt/4\n",
      "Eval begin...\n",
      "step 16/16 [==============================] - loss: 1.3429 - acc: 0.6380 - 20ms/step          \n",
      "Eval samples: 1000\n",
      "save checkpoint at /Users/wzx/Documents/GitHub/text_matching/ckpt/final\n",
      "CPU times: user 14.5 s, sys: 225 ms, total: 14.7 s\n",
      "Wall time: 14.7 s\n"
     ]
    }
   ],
   "source": [
    "from paddle_models.LSTM import LSTM\n",
    "\n",
    "model = LSTM(len(V.vocab_to_idx), 2)\n",
    "model = get_model(model)\n",
    "%time model.fit(train_set_batched, dev_set_batched, epochs=5, save_dir='./ckpt', verbose=1)"
   ]
  },
  {
   "cell_type": "markdown",
   "id": "6d5f1abd",
   "metadata": {},
   "source": [
    "#### Evaluation on the test set"
   ]
  },
  {
   "cell_type": "code",
   "execution_count": 15,
   "id": "263dc104",
   "metadata": {},
   "outputs": [
    {
     "name": "stdout",
     "output_type": "stream",
     "text": [
      "Eval begin...\n",
      "step 10/16 - loss: 1.3624 - acc: 0.6078 - 22ms/step\n",
      "step 16/16 - loss: 1.3373 - acc: 0.6220 - 21ms/step\n",
      "Eval samples: 1000\n"
     ]
    },
    {
     "data": {
      "text/plain": [
       "{'loss': [1.3372626], 'acc': 0.622}"
      ]
     },
     "execution_count": 15,
     "metadata": {},
     "output_type": "execute_result"
    }
   ],
   "source": [
    "model.evaluate(test_set_batched)"
   ]
  }
 ],
 "metadata": {
  "kernelspec": {
   "display_name": "Python 3 (ipykernel)",
   "language": "python",
   "name": "python3"
  },
  "language_info": {
   "codemirror_mode": {
    "name": "ipython",
    "version": 3
   },
   "file_extension": ".py",
   "mimetype": "text/x-python",
   "name": "python",
   "nbconvert_exporter": "python",
   "pygments_lexer": "ipython3",
   "version": "3.9.6"
  }
 },
 "nbformat": 4,
 "nbformat_minor": 5
}
