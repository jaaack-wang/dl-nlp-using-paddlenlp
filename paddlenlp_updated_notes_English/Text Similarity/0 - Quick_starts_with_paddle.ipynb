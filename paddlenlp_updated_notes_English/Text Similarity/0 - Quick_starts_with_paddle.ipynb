{
 "cells": [
  {
   "cell_type": "code",
   "execution_count": 1,
   "id": "2bb04af5",
   "metadata": {},
   "outputs": [],
   "source": [
    "# Author: Zhengxiang (Jack) Wang \n",
    "# Date: 2022-01-16, modified on 2022-01-17\n",
    "# GitHub: https://github.com/jaaack-wang "
   ]
  },
  {
   "cell_type": "markdown",
   "id": "7ddd2c37",
   "metadata": {},
   "source": [
    "## Get paddle\n",
    "\n",
    "In case you have not installed paddle,run the following cell."
   ]
  },
  {
   "cell_type": "code",
   "execution_count": 2,
   "id": "c92cb1ea",
   "metadata": {},
   "outputs": [
    {
     "name": "stdout",
     "output_type": "stream",
     "text": [
      "Requirement already satisfied: paddlepaddle in /Library/Frameworks/Python.framework/Versions/3.9/lib/python3.9/site-packages (2.1.1)\n",
      "Requirement already satisfied: requests>=2.20.0 in /Library/Frameworks/Python.framework/Versions/3.9/lib/python3.9/site-packages (from paddlepaddle) (2.26.0)\n",
      "Requirement already satisfied: decorator==4.4.2 in /Library/Frameworks/Python.framework/Versions/3.9/lib/python3.9/site-packages (from paddlepaddle) (4.4.2)\n",
      "Requirement already satisfied: protobuf>=3.1.0 in /Library/Frameworks/Python.framework/Versions/3.9/lib/python3.9/site-packages (from paddlepaddle) (3.19.1)\n",
      "Requirement already satisfied: numpy>=1.13 in /Library/Frameworks/Python.framework/Versions/3.9/lib/python3.9/site-packages (from paddlepaddle) (1.19.5)\n",
      "Requirement already satisfied: Pillow in /Library/Frameworks/Python.framework/Versions/3.9/lib/python3.9/site-packages (from paddlepaddle) (8.3.1)\n",
      "Requirement already satisfied: astor in /Library/Frameworks/Python.framework/Versions/3.9/lib/python3.9/site-packages (from paddlepaddle) (0.8.1)\n",
      "Requirement already satisfied: six in /Library/Frameworks/Python.framework/Versions/3.9/lib/python3.9/site-packages (from paddlepaddle) (1.15.0)\n",
      "Requirement already satisfied: gast>=0.3.3 in /Library/Frameworks/Python.framework/Versions/3.9/lib/python3.9/site-packages (from paddlepaddle) (0.4.0)\n",
      "Requirement already satisfied: certifi>=2017.4.17 in /Library/Frameworks/Python.framework/Versions/3.9/lib/python3.9/site-packages (from requests>=2.20.0->paddlepaddle) (2021.5.30)\n",
      "Requirement already satisfied: urllib3<1.27,>=1.21.1 in /Library/Frameworks/Python.framework/Versions/3.9/lib/python3.9/site-packages (from requests>=2.20.0->paddlepaddle) (1.26.6)\n",
      "Requirement already satisfied: charset-normalizer~=2.0.0 in /Library/Frameworks/Python.framework/Versions/3.9/lib/python3.9/site-packages (from requests>=2.20.0->paddlepaddle) (2.0.2)\n",
      "Requirement already satisfied: idna<4,>=2.5 in /Library/Frameworks/Python.framework/Versions/3.9/lib/python3.9/site-packages (from requests>=2.20.0->paddlepaddle) (2.10)\n"
     ]
    }
   ],
   "source": [
    "!python3 -m pip install paddlepaddle\n",
    "#pip3 install paddlepaddle"
   ]
  },
  {
   "cell_type": "markdown",
   "id": "07e728e7",
   "metadata": {},
   "source": [
    "## Get Data\n",
    "\n",
    "In case you have not run the `1 - get_data.ipynb`, run the following cell."
   ]
  },
  {
   "cell_type": "code",
   "execution_count": 3,
   "id": "e6cc11a7",
   "metadata": {},
   "outputs": [
    {
     "name": "stdout",
     "output_type": "stream",
     "text": [
      "--2022-01-17 21:35:43--  http://qim.fs.quoracdn.net/quora_duplicate_questions.tsv\n",
      "Resolving qim.fs.quoracdn.net (qim.fs.quoracdn.net)... 151.101.53.2\n",
      "Connecting to qim.fs.quoracdn.net (qim.fs.quoracdn.net)|151.101.53.2|:80... connected.\n",
      "HTTP request sent, awaiting response... 200 OK\n",
      "Length: 58176133 (55M) [text/tab-separated-values]\n",
      "Saving to: ‘quora_duplicate_questions.tsv.2’\n",
      "\n",
      "quora_duplicate_que 100%[===================>]  55.48M  13.6MB/s    in 4.1s    \n",
      "\n",
      "2022-01-17 21:35:48 (13.5 MB/s) - ‘quora_duplicate_questions.tsv.2’ saved [58176133/58176133]\n",
      "\n",
      "train.txt has been saved!\n",
      "dev.txt has been saved!\n",
      "test.txt has been saved!\n"
     ]
    }
   ],
   "source": [
    "!wget http://qim.fs.quoracdn.net/quora_duplicate_questions.tsv\n",
    "import get_data\n",
    "\n",
    "get_data.get_quora_data()"
   ]
  },
  {
   "cell_type": "markdown",
   "id": "150aa034",
   "metadata": {},
   "source": [
    "## Preprocess and numericalize text data\n",
    "\n",
    "In case you have not run the `2 - preprocess_data.ipynb`, run the following cell."
   ]
  },
  {
   "cell_type": "code",
   "execution_count": 4,
   "id": "741b52bf",
   "metadata": {},
   "outputs": [
    {
     "name": "stdout",
     "output_type": "stream",
     "text": [
      "Two vocabulary dictionaries have been built!\n",
      "Please call \u001b[1mX.vocab_to_idx | X.idx_to_vocab\u001b[0m to find out more where [X] stands for the name you used for this TextVectorizer class.\n"
     ]
    }
   ],
   "source": [
    "from utils import *\n",
    "\n",
    "# ---- load dataset ----\n",
    "train_set, dev_set, test_set = load_dataset(['train.txt', 'dev.txt', 'test.txt'])\n",
    "\n",
    "# ---- numericalize the train set ----\n",
    "V = TextVectorizer(tokenize) \n",
    "text = gather_text(train_set) # for collecting texts from train set\n",
    "V.build_vocab(text) # for building mapping vocab_to_idx dictionary and text_encoder\n",
    "train_set_encoded = list(encode_dataset(train_set, encoder=V.text_encoder)) # encodoing train set\n",
    "dev_set_encoded = list(encode_dataset(dev_set, encoder=V.text_encoder)) # encodoing dev set for validation\n",
    "test_set_encoded  = list(encode_dataset(test_set, encoder=V.text_encoder)) # encodoing dev set for prediction\n",
    "\n",
    "# ---- build mini batches for the train and dev set ----\n",
    "train_set_batched = build_batches(train_set_encoded, batch_size=64, include_seq_len=False)\n",
    "dev_set_batched = build_batches(dev_set_encoded, batch_size=64, include_seq_len=False)\n",
    "test_set_batched = build_batches(test_set_encoded, batch_size=64, include_seq_len=False)"
   ]
  },
  {
   "cell_type": "markdown",
   "id": "1052945f",
   "metadata": {},
   "source": [
    "## Training and evaluating models \n",
    "\n",
    "### BoW (Bag of Words) model\n",
    "\n",
    "#### Training"
   ]
  },
  {
   "cell_type": "code",
   "execution_count": 5,
   "id": "5ebd670b",
   "metadata": {},
   "outputs": [],
   "source": [
    "from paddle_models.BoW import BoW\n",
    "import paddle"
   ]
  },
  {
   "cell_type": "code",
   "execution_count": 6,
   "id": "b0a72668",
   "metadata": {},
   "outputs": [],
   "source": [
    "def get_model(model):\n",
    "    model = paddle.Model(model)\n",
    "    optimizer = paddle.optimizer.Adam(\n",
    "    parameters=model.parameters(), learning_rate=5e-4)\n",
    "    criterion = paddle.nn.CrossEntropyLoss()\n",
    "    metric = paddle.metric.Accuracy()\n",
    "    model.prepare(optimizer, criterion, metric)\n",
    "    return model"
   ]
  },
  {
   "cell_type": "code",
   "execution_count": 7,
   "id": "c4376e2a",
   "metadata": {},
   "outputs": [
    {
     "name": "stdout",
     "output_type": "stream",
     "text": [
      "The loss value printed in the log is the current step, and the metric is the average value of previous steps.\n",
      "Epoch 1/5\n",
      "step 20/47 [===========>..................] - loss: 0.6829 - acc: 0.5273 - ETA: 0s - 7ms/step"
     ]
    },
    {
     "name": "stderr",
     "output_type": "stream",
     "text": [
      "/Library/Frameworks/Python.framework/Versions/3.9/lib/python3.9/site-packages/paddle/fluid/layers/utils.py:77: DeprecationWarning: Using or importing the ABCs from 'collections' instead of from 'collections.abc' is deprecated since Python 3.3, and in 3.10 it will stop working\n",
      "  return (isinstance(seq, collections.Sequence) and\n"
     ]
    },
    {
     "name": "stdout",
     "output_type": "stream",
     "text": [
      "step 47/47 [==============================] - loss: 0.6580 - acc: 0.5800 - 7ms/step          \n",
      "save checkpoint at /Users/wzx/Documents/GitHub/text_matching/ckpt/0\n",
      "Eval begin...\n",
      "step 16/16 [==============================] - loss: 0.6542 - acc: 0.6500 - 2ms/step          \n",
      "Eval samples: 1000\n",
      "Epoch 2/5\n",
      "step 47/47 [==============================] - loss: 0.4444 - acc: 0.7923 - 6ms/step          \n",
      "save checkpoint at /Users/wzx/Documents/GitHub/text_matching/ckpt/1\n",
      "Eval begin...\n",
      "step 16/16 [==============================] - loss: 0.5743 - acc: 0.6830 - 2ms/step          \n",
      "Eval samples: 1000\n",
      "Epoch 3/5\n",
      "step 47/47 [==============================] - loss: 0.2149 - acc: 0.9057 - 7ms/step          \n",
      "save checkpoint at /Users/wzx/Documents/GitHub/text_matching/ckpt/2\n",
      "Eval begin...\n",
      "step 16/16 [==============================] - loss: 0.6446 - acc: 0.6610 - 2ms/step          \n",
      "Eval samples: 1000\n",
      "Epoch 4/5\n",
      "step 47/47 [==============================] - loss: 0.1095 - acc: 0.9593 - 6ms/step          \n",
      "save checkpoint at /Users/wzx/Documents/GitHub/text_matching/ckpt/3\n",
      "Eval begin...\n",
      "step 16/16 [==============================] - loss: 0.8197 - acc: 0.6510 - 3ms/step          \n",
      "Eval samples: 1000\n",
      "Epoch 5/5\n",
      "step 47/47 [==============================] - loss: 0.0373 - acc: 0.9843 - 6ms/step          \n",
      "save checkpoint at /Users/wzx/Documents/GitHub/text_matching/ckpt/4\n",
      "Eval begin...\n",
      "step 16/16 [==============================] - loss: 0.9392 - acc: 0.6410 - 2ms/step          \n",
      "Eval samples: 1000\n",
      "save checkpoint at /Users/wzx/Documents/GitHub/text_matching/ckpt/final\n",
      "CPU times: user 1.99 s, sys: 141 ms, total: 2.13 s\n",
      "Wall time: 2.14 s\n"
     ]
    }
   ],
   "source": [
    "model = BoW(len(V.vocab_to_idx), 2)\n",
    "model = get_model(model)\n",
    "%time model.fit(train_set_batched, dev_set_batched, epochs=5, save_dir='./ckpt', verbose=1)"
   ]
  },
  {
   "cell_type": "markdown",
   "id": "a2550081",
   "metadata": {},
   "source": [
    "#### Evaluation on the test set"
   ]
  },
  {
   "cell_type": "code",
   "execution_count": 8,
   "id": "ed45b7ef",
   "metadata": {},
   "outputs": [
    {
     "name": "stdout",
     "output_type": "stream",
     "text": [
      "Eval begin...\n",
      "step 10/16 - loss: 0.8390 - acc: 0.6359 - 2ms/step\n",
      "step 16/16 - loss: 0.8447 - acc: 0.6330 - 2ms/step\n",
      "Eval samples: 1000\n"
     ]
    },
    {
     "data": {
      "text/plain": [
       "{'loss': [0.8446506], 'acc': 0.633}"
      ]
     },
     "execution_count": 8,
     "metadata": {},
     "output_type": "execute_result"
    }
   ],
   "source": [
    "model.evaluate(test_set_batched)"
   ]
  },
  {
   "cell_type": "markdown",
   "id": "974c471c",
   "metadata": {},
   "source": [
    "### CNN (Convolutional Neural Network) model\n",
    "\n",
    "#### Training"
   ]
  },
  {
   "cell_type": "code",
   "execution_count": 9,
   "id": "bf5de7aa",
   "metadata": {},
   "outputs": [
    {
     "name": "stdout",
     "output_type": "stream",
     "text": [
      "The loss value printed in the log is the current step, and the metric is the average value of previous steps.\n",
      "Epoch 1/5\n",
      "step 47/47 [==============================] - loss: 0.6740 - acc: 0.5570 - 68ms/step          \n",
      "save checkpoint at /Users/wzx/Documents/GitHub/text_matching/ckpt/0\n",
      "Eval begin...\n",
      "step 16/16 [==============================] - loss: 0.6836 - acc: 0.6270 - 28ms/step          \n",
      "Eval samples: 1000\n",
      "Epoch 2/5\n",
      "step 47/47 [==============================] - loss: 0.5149 - acc: 0.7710 - 71ms/step          \n",
      "save checkpoint at /Users/wzx/Documents/GitHub/text_matching/ckpt/1\n",
      "Eval begin...\n",
      "step 16/16 [==============================] - loss: 0.6256 - acc: 0.6500 - 25ms/step          \n",
      "Eval samples: 1000\n",
      "Epoch 3/5\n",
      "step 47/47 [==============================] - loss: 0.2376 - acc: 0.8853 - 73ms/step          \n",
      "save checkpoint at /Users/wzx/Documents/GitHub/text_matching/ckpt/2\n",
      "Eval begin...\n",
      "step 16/16 [==============================] - loss: 0.6102 - acc: 0.6670 - 25ms/step          \n",
      "Eval samples: 1000\n",
      "Epoch 4/5\n",
      "step 47/47 [==============================] - loss: 0.0719 - acc: 0.9667 - 69ms/step          \n",
      "save checkpoint at /Users/wzx/Documents/GitHub/text_matching/ckpt/3\n",
      "Eval begin...\n",
      "step 16/16 [==============================] - loss: 0.8175 - acc: 0.6450 - 25ms/step          \n",
      "Eval samples: 1000\n",
      "Epoch 5/5\n",
      "step 47/47 [==============================] - loss: 0.0263 - acc: 0.9923 - 68ms/step          \n",
      "save checkpoint at /Users/wzx/Documents/GitHub/text_matching/ckpt/4\n",
      "Eval begin...\n",
      "step 16/16 [==============================] - loss: 1.0465 - acc: 0.6440 - 25ms/step          \n",
      "Eval samples: 1000\n",
      "save checkpoint at /Users/wzx/Documents/GitHub/text_matching/ckpt/final\n",
      "CPU times: user 18.7 s, sys: 224 ms, total: 18.9 s\n",
      "Wall time: 19 s\n"
     ]
    }
   ],
   "source": [
    "from paddle_models.CNN import CNN\n",
    "\n",
    "model = CNN(len(V.vocab_to_idx), 2)\n",
    "model = get_model(model)\n",
    "%time model.fit(train_set_batched, dev_set_batched, epochs=5, save_dir='./ckpt', verbose=1)"
   ]
  },
  {
   "cell_type": "markdown",
   "id": "0e9502c1",
   "metadata": {},
   "source": [
    "#### Evaluation on the test set"
   ]
  },
  {
   "cell_type": "code",
   "execution_count": 10,
   "id": "1838b0db",
   "metadata": {},
   "outputs": [
    {
     "name": "stdout",
     "output_type": "stream",
     "text": [
      "Eval begin...\n",
      "step 10/16 - loss: 0.9297 - acc: 0.6578 - 24ms/step\n",
      "step 16/16 - loss: 0.7140 - acc: 0.6520 - 25ms/step\n",
      "Eval samples: 1000\n"
     ]
    },
    {
     "data": {
      "text/plain": [
       "{'loss': [0.7140364], 'acc': 0.652}"
      ]
     },
     "execution_count": 10,
     "metadata": {},
     "output_type": "execute_result"
    }
   ],
   "source": [
    "model.evaluate(test_set_batched)"
   ]
  },
  {
   "cell_type": "markdown",
   "id": "9285af7c",
   "metadata": {},
   "source": [
    "## RNN (Recurrent neural network) models\n",
    "\n",
    "As the RNN models also take as an input the sequence length, we need to re-encode the train set, dev set, and test set. "
   ]
  },
  {
   "cell_type": "code",
   "execution_count": 11,
   "id": "8764b280",
   "metadata": {},
   "outputs": [],
   "source": [
    "# ---- build mini batches for the train and dev set ----\n",
    "train_set_batched = build_batches(train_set_encoded, batch_size=64, include_seq_len=True)\n",
    "dev_set_batched = build_batches(dev_set_encoded, batch_size=64, include_seq_len=True)\n",
    "test_set_batched = build_batches(test_set_encoded, batch_size=64, include_seq_len=True)"
   ]
  },
  {
   "cell_type": "markdown",
   "id": "b05d14c7",
   "metadata": {},
   "source": [
    "### Simple RNN model\n",
    "\n",
    "#### Training"
   ]
  },
  {
   "cell_type": "code",
   "execution_count": 12,
   "id": "7706134f",
   "metadata": {},
   "outputs": [
    {
     "name": "stdout",
     "output_type": "stream",
     "text": [
      "The loss value printed in the log is the current step, and the metric is the average value of previous steps.\n",
      "Epoch 1/5\n",
      "step 47/47 [==============================] - loss: 0.6891 - acc: 0.5133 - 20ms/step          \n",
      "save checkpoint at /Users/wzx/Documents/GitHub/text_matching/ckpt/0\n",
      "Eval begin...\n",
      "step 16/16 [==============================] - loss: 0.6867 - acc: 0.5070 - 7ms/step          \n",
      "Eval samples: 1000\n",
      "Epoch 2/5\n",
      "step 47/47 [==============================] - loss: 0.5232 - acc: 0.7067 - 20ms/step          \n",
      "save checkpoint at /Users/wzx/Documents/GitHub/text_matching/ckpt/1\n",
      "Eval begin...\n",
      "step 16/16 [==============================] - loss: 0.6104 - acc: 0.6050 - 8ms/step          \n",
      "Eval samples: 1000\n",
      "Epoch 3/5\n",
      "step 47/47 [==============================] - loss: 0.1380 - acc: 0.8770 - 22ms/step          \n",
      "save checkpoint at /Users/wzx/Documents/GitHub/text_matching/ckpt/2\n",
      "Eval begin...\n",
      "step 16/16 [==============================] - loss: 0.7188 - acc: 0.6040 - 8ms/step          \n",
      "Eval samples: 1000\n",
      "Epoch 4/5\n",
      "step 47/47 [==============================] - loss: 0.0609 - acc: 0.9693 - 20ms/step          \n",
      "save checkpoint at /Users/wzx/Documents/GitHub/text_matching/ckpt/3\n",
      "Eval begin...\n",
      "step 16/16 [==============================] - loss: 1.3191 - acc: 0.5750 - 8ms/step          \n",
      "Eval samples: 1000\n",
      "Epoch 5/5\n",
      "step 47/47 [==============================] - loss: 0.0042 - acc: 0.9937 - 21ms/step          \n",
      "save checkpoint at /Users/wzx/Documents/GitHub/text_matching/ckpt/4\n",
      "Eval begin...\n",
      "step 16/16 [==============================] - loss: 1.6228 - acc: 0.5670 - 8ms/step          \n",
      "Eval samples: 1000\n",
      "save checkpoint at /Users/wzx/Documents/GitHub/text_matching/ckpt/final\n",
      "CPU times: user 5.76 s, sys: 228 ms, total: 5.99 s\n",
      "Wall time: 6.02 s\n"
     ]
    }
   ],
   "source": [
    "from paddle_models.S_RNN import SimpleRNN\n",
    "\n",
    "model = SimpleRNN(len(V.vocab_to_idx), 2, bidirectional=False)\n",
    "model = get_model(model)\n",
    "%time model.fit(train_set_batched, dev_set_batched, epochs=5, save_dir='./ckpt', verbose=1)"
   ]
  },
  {
   "cell_type": "markdown",
   "id": "1863367e",
   "metadata": {},
   "source": [
    "#### Evaluation on the test set"
   ]
  },
  {
   "cell_type": "code",
   "execution_count": 13,
   "id": "001e85d2",
   "metadata": {},
   "outputs": [
    {
     "name": "stdout",
     "output_type": "stream",
     "text": [
      "Eval begin...\n",
      "step 10/16 - loss: 1.4090 - acc: 0.5891 - 7ms/step\n",
      "step 16/16 - loss: 1.3625 - acc: 0.5670 - 7ms/step\n",
      "Eval samples: 1000\n"
     ]
    },
    {
     "data": {
      "text/plain": [
       "{'loss': [1.3625097], 'acc': 0.567}"
      ]
     },
     "execution_count": 13,
     "metadata": {},
     "output_type": "execute_result"
    }
   ],
   "source": [
    "model.evaluate(test_set_batched)"
   ]
  },
  {
   "cell_type": "markdown",
   "id": "66f0f869",
   "metadata": {},
   "source": [
    "### GRU (Gated recurrent units) model \n",
    "\n",
    "#### Training"
   ]
  },
  {
   "cell_type": "code",
   "execution_count": 14,
   "id": "845b36b0",
   "metadata": {},
   "outputs": [
    {
     "name": "stdout",
     "output_type": "stream",
     "text": [
      "The loss value printed in the log is the current step, and the metric is the average value of previous steps.\n",
      "Epoch 1/5\n",
      "step 47/47 [==============================] - loss: 0.6846 - acc: 0.5267 - 46ms/step          \n",
      "save checkpoint at /Users/wzx/Documents/GitHub/text_matching/ckpt/0\n",
      "Eval begin...\n",
      "step 16/16 [==============================] - loss: 0.6777 - acc: 0.5350 - 19ms/step          \n",
      "Eval samples: 1000\n",
      "Epoch 2/5\n",
      "step 47/47 [==============================] - loss: 0.4652 - acc: 0.7327 - 49ms/step          \n",
      "save checkpoint at /Users/wzx/Documents/GitHub/text_matching/ckpt/1\n",
      "Eval begin...\n",
      "step 16/16 [==============================] - loss: 0.4449 - acc: 0.6560 - 20ms/step          \n",
      "Eval samples: 1000\n",
      "Epoch 3/5\n",
      "step 47/47 [==============================] - loss: 0.1326 - acc: 0.8673 - 47ms/step          \n",
      "save checkpoint at /Users/wzx/Documents/GitHub/text_matching/ckpt/2\n",
      "Eval begin...\n",
      "step 16/16 [==============================] - loss: 0.6085 - acc: 0.6340 - 20ms/step          \n",
      "Eval samples: 1000\n",
      "Epoch 4/5\n",
      "step 47/47 [==============================] - loss: 0.0396 - acc: 0.9460 - 46ms/step          \n",
      "save checkpoint at /Users/wzx/Documents/GitHub/text_matching/ckpt/3\n",
      "Eval begin...\n",
      "step 16/16 [==============================] - loss: 0.9538 - acc: 0.6560 - 18ms/step          \n",
      "Eval samples: 1000\n",
      "Epoch 5/5\n",
      "step 47/47 [==============================] - loss: 0.0222 - acc: 0.9740 - 46ms/step          \n",
      "save checkpoint at /Users/wzx/Documents/GitHub/text_matching/ckpt/4\n",
      "Eval begin...\n",
      "step 16/16 [==============================] - loss: 1.2352 - acc: 0.6360 - 21ms/step          \n",
      "Eval samples: 1000\n",
      "save checkpoint at /Users/wzx/Documents/GitHub/text_matching/ckpt/final\n",
      "CPU times: user 12.8 s, sys: 287 ms, total: 13.1 s\n",
      "Wall time: 13.2 s\n"
     ]
    }
   ],
   "source": [
    "from paddle_models.GRU import GRU\n",
    "\n",
    "model = GRU(len(V.vocab_to_idx), 2, bidirectional=False)\n",
    "model = get_model(model)\n",
    "%time model.fit(train_set_batched, dev_set_batched, epochs=5, save_dir='./ckpt', verbose=1)"
   ]
  },
  {
   "cell_type": "markdown",
   "id": "85ff6932",
   "metadata": {},
   "source": [
    "#### Evaluation on the test set"
   ]
  },
  {
   "cell_type": "code",
   "execution_count": 15,
   "id": "ce7a2b5d",
   "metadata": {},
   "outputs": [
    {
     "name": "stdout",
     "output_type": "stream",
     "text": [
      "Eval begin...\n",
      "step 10/16 - loss: 1.0250 - acc: 0.6219 - 19ms/step\n",
      "step 16/16 - loss: 2.1369 - acc: 0.6340 - 18ms/step\n",
      "Eval samples: 1000\n"
     ]
    },
    {
     "data": {
      "text/plain": [
       "{'loss': [2.1368642], 'acc': 0.634}"
      ]
     },
     "execution_count": 15,
     "metadata": {},
     "output_type": "execute_result"
    }
   ],
   "source": [
    "model.evaluate(test_set_batched)"
   ]
  },
  {
   "cell_type": "markdown",
   "id": "8a4d9863",
   "metadata": {},
   "source": [
    "### LSTM (Long short-term memory) model\n",
    "\n",
    "#### Training"
   ]
  },
  {
   "cell_type": "code",
   "execution_count": 16,
   "id": "11223765",
   "metadata": {},
   "outputs": [
    {
     "name": "stdout",
     "output_type": "stream",
     "text": [
      "The loss value printed in the log is the current step, and the metric is the average value of previous steps.\n",
      "Epoch 1/5\n",
      "step 47/47 [==============================] - loss: 0.6887 - acc: 0.5163 - 57ms/step          \n",
      "save checkpoint at /Users/wzx/Documents/GitHub/text_matching/ckpt/0\n",
      "Eval begin...\n",
      "step 16/16 [==============================] - loss: 0.6854 - acc: 0.5000 - 21ms/step          \n",
      "Eval samples: 1000\n",
      "Epoch 2/5\n",
      "step 47/47 [==============================] - loss: 0.5163 - acc: 0.7007 - 59ms/step          \n",
      "save checkpoint at /Users/wzx/Documents/GitHub/text_matching/ckpt/1\n",
      "Eval begin...\n",
      "step 16/16 [==============================] - loss: 0.5120 - acc: 0.6640 - 22ms/step          \n",
      "Eval samples: 1000\n",
      "Epoch 3/5\n",
      "step 47/47 [==============================] - loss: 0.1846 - acc: 0.8377 - 58ms/step          \n",
      "save checkpoint at /Users/wzx/Documents/GitHub/text_matching/ckpt/2\n",
      "Eval begin...\n",
      "step 16/16 [==============================] - loss: 0.4665 - acc: 0.6510 - 21ms/step          \n",
      "Eval samples: 1000\n",
      "Epoch 4/5\n",
      "step 47/47 [==============================] - loss: 0.0643 - acc: 0.9327 - 55ms/step          \n",
      "save checkpoint at /Users/wzx/Documents/GitHub/text_matching/ckpt/3\n",
      "Eval begin...\n",
      "step 16/16 [==============================] - loss: 0.9345 - acc: 0.6150 - 21ms/step          \n",
      "Eval samples: 1000\n",
      "Epoch 5/5\n",
      "step 47/47 [==============================] - loss: 0.0746 - acc: 0.9637 - 55ms/step          \n",
      "save checkpoint at /Users/wzx/Documents/GitHub/text_matching/ckpt/4\n",
      "Eval begin...\n",
      "step 16/16 [==============================] - loss: 1.0602 - acc: 0.6360 - 21ms/step          \n",
      "Eval samples: 1000\n",
      "save checkpoint at /Users/wzx/Documents/GitHub/text_matching/ckpt/final\n",
      "CPU times: user 15.3 s, sys: 292 ms, total: 15.6 s\n",
      "Wall time: 15.7 s\n"
     ]
    }
   ],
   "source": [
    "from paddle_models.LSTM import LSTM\n",
    "\n",
    "model = LSTM(len(V.vocab_to_idx), 2, bidirectional=False)\n",
    "model = get_model(model)\n",
    "%time model.fit(train_set_batched, dev_set_batched, epochs=5, save_dir='./ckpt', verbose=1)"
   ]
  },
  {
   "cell_type": "markdown",
   "id": "6d5f1abd",
   "metadata": {},
   "source": [
    "#### Evaluation on the test set"
   ]
  },
  {
   "cell_type": "code",
   "execution_count": 17,
   "id": "263dc104",
   "metadata": {},
   "outputs": [
    {
     "name": "stdout",
     "output_type": "stream",
     "text": [
      "Eval begin...\n",
      "step 10/16 - loss: 1.1004 - acc: 0.6234 - 22ms/step\n",
      "step 16/16 - loss: 1.8570 - acc: 0.6380 - 21ms/step\n",
      "Eval samples: 1000\n"
     ]
    },
    {
     "data": {
      "text/plain": [
       "{'loss': [1.8569803], 'acc': 0.638}"
      ]
     },
     "execution_count": 17,
     "metadata": {},
     "output_type": "execute_result"
    }
   ],
   "source": [
    "model.evaluate(test_set_batched)"
   ]
  }
 ],
 "metadata": {
  "kernelspec": {
   "display_name": "Python 3 (ipykernel)",
   "language": "python",
   "name": "python3"
  },
  "language_info": {
   "codemirror_mode": {
    "name": "ipython",
    "version": 3
   },
   "file_extension": ".py",
   "mimetype": "text/x-python",
   "name": "python",
   "nbconvert_exporter": "python",
   "pygments_lexer": "ipython3",
   "version": "3.9.6"
  }
 },
 "nbformat": 4,
 "nbformat_minor": 5
}
