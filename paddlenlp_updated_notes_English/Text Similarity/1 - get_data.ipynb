{
 "cells": [
  {
   "cell_type": "code",
   "execution_count": null,
   "id": "995c5a17",
   "metadata": {},
   "outputs": [],
   "source": [
    "# Author: Zhengxiang (Jack) Wang \n",
    "# Date: 2022-01-15\n",
    "# GitHub: https://github.com/jaaack-wang "
   ]
  },
  {
   "cell_type": "markdown",
   "id": "d48957cc",
   "metadata": {},
   "source": [
    "## Get Quora duplicate questions corpus\n",
    "\n",
    "We will use one part of this corpus to build a text matching classifier"
   ]
  },
  {
   "cell_type": "code",
   "execution_count": 1,
   "id": "f607f069",
   "metadata": {},
   "outputs": [
    {
     "name": "stdout",
     "output_type": "stream",
     "text": [
      "--2022-01-15 10:43:59--  http://qim.fs.quoracdn.net/quora_duplicate_questions.tsv\n",
      "Resolving qim.fs.quoracdn.net (qim.fs.quoracdn.net)... 151.101.53.2\n",
      "Connecting to qim.fs.quoracdn.net (qim.fs.quoracdn.net)|151.101.53.2|:80... connected.\n",
      "HTTP request sent, awaiting response... 200 OK\n",
      "Length: 58176133 (55M) [text/tab-separated-values]\n",
      "Saving to: ‘quora_duplicate_questions.tsv’\n",
      "\n",
      "quora_duplicate_que 100%[===================>]  55.48M  9.46MB/s    in 5.3s    \n",
      "\n",
      "2022-01-15 10:44:05 (10.4 MB/s) - ‘quora_duplicate_questions.tsv’ saved [58176133/58176133]\n",
      "\n"
     ]
    }
   ],
   "source": [
    "!wget http://qim.fs.quoracdn.net/quora_duplicate_questions.tsv"
   ]
  },
  {
   "cell_type": "markdown",
   "id": "83445aa4",
   "metadata": {},
   "source": [
    "## Loading data"
   ]
  },
  {
   "cell_type": "code",
   "execution_count": 2,
   "id": "d778465a",
   "metadata": {},
   "outputs": [],
   "source": [
    "data = open('quora_duplicate_questions.tsv', 'r').readlines()"
   ]
  },
  {
   "cell_type": "code",
   "execution_count": 3,
   "id": "742c62b9",
   "metadata": {},
   "outputs": [
    {
     "data": {
      "text/plain": [
       "(404302,\n",
       " ['id\\tqid1\\tqid2\\tquestion1\\tquestion2\\tis_duplicate\\n',\n",
       "  '0\\t1\\t2\\tWhat is the step by step guide to invest in share market in india?\\tWhat is the step by step guide to invest in share market?\\t0\\n',\n",
       "  '1\\t3\\t4\\tWhat is the story of Kohinoor (Koh-i-Noor) Diamond?\\tWhat would happen if the Indian government stole the Kohinoor (Koh-i-Noor) diamond back?\\t0\\n',\n",
       "  '2\\t5\\t6\\tHow can I increase the speed of my internet connection while using a VPN?\\tHow can Internet speed be increased by hacking through DNS?\\t0\\n'])"
      ]
     },
     "execution_count": 3,
     "metadata": {},
     "output_type": "execute_result"
    }
   ],
   "source": [
    "# take a quick look at it\n",
    "\n",
    "len(data), data[:4]"
   ]
  },
  {
   "cell_type": "code",
   "execution_count": 4,
   "id": "b5f1d353",
   "metadata": {},
   "outputs": [
    {
     "name": "stdout",
     "output_type": "stream",
     "text": [
      "id qid1 qid2 question1\tquestion2\tis_duplicate\n",
      "\n",
      "0  1    2    What is the step by step guide to invest in share market in india?\tWhat is the step by step guide to invest in share market?\t0\n",
      "\n",
      "1  3    4    What is the story of Kohinoor (Koh-i-Noor) Diamond?\tWhat would happen if the Indian government stole the Kohinoor (Koh-i-Noor) diamond back?\t0\n",
      "\n",
      "2  5    6    How can I increase the speed of my internet connection while using a VPN?\tHow can Internet speed be increased by hacking through DNS?\t0\n",
      "\n"
     ]
    }
   ],
   "source": [
    "tmp = \"{:3}{:5}{:5}{}\\t{}\\t{}\"\n",
    "\n",
    "for line in data[:4]:\n",
    "    print(tmp.format(*line.split('\\t')))"
   ]
  },
  {
   "cell_type": "markdown",
   "id": "b8c9cd83",
   "metadata": {},
   "source": [
    "## Converting the data\n",
    "\n",
    "For text matching, we only want text pairs along with their labels."
   ]
  },
  {
   "cell_type": "code",
   "execution_count": 5,
   "id": "bfa46286",
   "metadata": {},
   "outputs": [
    {
     "data": {
      "text/plain": [
       "(404283,\n",
       " [['What is the step by step guide to invest in share market in india?',\n",
       "   'What is the step by step guide to invest in share market?',\n",
       "   '0'],\n",
       "  ['What is the story of Kohinoor (Koh-i-Noor) Diamond?',\n",
       "   'What would happen if the Indian government stole the Kohinoor (Koh-i-Noor) diamond back?',\n",
       "   '0'],\n",
       "  ['How can I increase the speed of my internet connection while using a VPN?',\n",
       "   'How can Internet speed be increased by hacking through DNS?',\n",
       "   '0']])"
      ]
     },
     "execution_count": 5,
     "metadata": {},
     "output_type": "execute_result"
    }
   ],
   "source": [
    "corpus = []\n",
    "\n",
    "# we do not want the header to be included \n",
    "for line in data[1:]:\n",
    "    line = line.split('\\t')\n",
    "    try:\n",
    "        # If this cannot be done, there is a problem and we do not want to save this example\n",
    "        text_a, text_b, label = line[-3], line[-2], line[-1].strip()\n",
    "        int(label) # just a test, to make sure that the label is convertible to int\n",
    "        corpus.append([text_a, text_b, label])\n",
    "    except:\n",
    "        pass\n",
    "    \n",
    "    \n",
    "len(corpus), corpus[:3]"
   ]
  },
  {
   "cell_type": "code",
   "execution_count": 6,
   "id": "0e7f48a7",
   "metadata": {},
   "outputs": [
    {
     "data": {
      "text/plain": [
       "(149263, 255020)"
      ]
     },
     "execution_count": 6,
     "metadata": {},
     "output_type": "execute_result"
    }
   ],
   "source": [
    "# see how many pairs matched and how many unmatched\n",
    "\n",
    "matched = [c for c in corpus if c[-1] == \"1\"]\n",
    "unmatched = [c for c in corpus if c[-1] == \"0\"]\n",
    "\n",
    "len(matched), len(unmatched)"
   ]
  },
  {
   "cell_type": "markdown",
   "id": "7b13d8d6",
   "metadata": {},
   "source": [
    "## Make a small dataset\n",
    "\n",
    "For illustration purposes and efficiency concern, we will only use 5000 pairs of questoions. 3000 of them go to the train set, 1000 go to the dev set, and the rest 1000 go to the test set. We will make the number of matched pairs and unmatched pairs balanced. "
   ]
  },
  {
   "cell_type": "code",
   "execution_count": 7,
   "id": "bcc224d4",
   "metadata": {},
   "outputs": [
    {
     "data": {
      "text/plain": [
       "(3000, 1000, 1000)"
      ]
     },
     "execution_count": 7,
     "metadata": {},
     "output_type": "execute_result"
    }
   ],
   "source": [
    "from random import seed, sample, shuffle\n",
    "\n",
    "seed(32)\n",
    "part1 = sample(matched, 2500)\n",
    "part2 = sample(unmatched, 2500)\n",
    "\n",
    "train = part1[:1500] + part2[:1500]\n",
    "dev = part1[1500:2000] + part2[1500:2000]\n",
    "test = part1[2000:] + part2[2000:]\n",
    "\n",
    "shuffle(train)\n",
    "shuffle(dev)\n",
    "shuffle(test)\n",
    "\n",
    "len(train), len(dev), len(test)"
   ]
  },
  {
   "cell_type": "code",
   "execution_count": 8,
   "id": "15aa7e07",
   "metadata": {},
   "outputs": [
    {
     "name": "stdout",
     "output_type": "stream",
     "text": [
      "This is train set sample: [['How do I write a good essay?', 'How do I write an essay in English?', '1'], ['Which is the best thriller movies ?', 'Which are the best brain twisting psychological thriller movies ever made?', '0'], ['How do I preserve a journal that has pencil and pen writings in it?', \"If I'm depressed, can I atleast write my feelings down in a diary/journal? Is it good or bad?\", '0']]\n",
      "\n",
      "This is dev set sample: [['What is the customer service number for PAYPAL Philippines?', 'What is the customer service number for PayPal?', '0'], ['If you found a genie and had 3 wishes, what would you wish for?', 'If you had three wishes, what would they be and why?', '1'], ['How can I root android 2.3?', 'How can one root android devices?', '0']]\n",
      "\n",
      "This is test set sample: [['Why are my questions always flagged as needing improvement?', 'Why are so many questions about president elect Trump getting flagged as needing improvement when many are clear and concise?', '1'], ['How does the ban on 500 and 1000 rupee notes helps to identify black money and corruption?', 'How demonetization help tackling black money and corruption?', '1'], ['? What are the most important philosophical problems', '\"Is there really a \"\"philosophical\"\" problem?\"', '0']]\n"
     ]
    }
   ],
   "source": [
    "print(\"This is train set sample:\", train[:3])\n",
    "print(\"\\nThis is dev set sample:\", dev[:3])\n",
    "print(\"\\nThis is test set sample:\", test[:3])"
   ]
  },
  {
   "cell_type": "markdown",
   "id": "2b3242f3",
   "metadata": {},
   "source": [
    "## Save the dataset"
   ]
  },
  {
   "cell_type": "code",
   "execution_count": 9,
   "id": "ebccd434",
   "metadata": {},
   "outputs": [],
   "source": [
    "def save(dataset, fpath):\n",
    "    dataset = ['\\t'.join(d) for d in dataset]\n",
    "    with open(fpath, 'w') as f:\n",
    "        f.write('\\n'.join(dataset))\n",
    "        f.close()\n",
    "        print(f\"{fpath} has been saved!\")"
   ]
  },
  {
   "cell_type": "code",
   "execution_count": 10,
   "id": "7007ffa9",
   "metadata": {},
   "outputs": [
    {
     "name": "stdout",
     "output_type": "stream",
     "text": [
      "train.txt has been saved!\n",
      "dev.txt has been saved!\n",
      "test.txt has been saved!\n"
     ]
    }
   ],
   "source": [
    "save(train, \"train.txt\")\n",
    "save(dev, \"dev.txt\")\n",
    "save(test, \"test.txt\")"
   ]
  }
 ],
 "metadata": {
  "kernelspec": {
   "display_name": "Python 3 (ipykernel)",
   "language": "python",
   "name": "python3"
  },
  "language_info": {
   "codemirror_mode": {
    "name": "ipython",
    "version": 3
   },
   "file_extension": ".py",
   "mimetype": "text/x-python",
   "name": "python",
   "nbconvert_exporter": "python",
   "pygments_lexer": "ipython3",
   "version": "3.9.6"
  }
 },
 "nbformat": 4,
 "nbformat_minor": 5
}
